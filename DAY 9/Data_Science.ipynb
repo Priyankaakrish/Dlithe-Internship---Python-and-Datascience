{
  "nbformat": 4,
  "nbformat_minor": 0,
  "metadata": {
    "colab": {
      "provenance": [],
      "include_colab_link": true
    },
    "kernelspec": {
      "name": "python3",
      "display_name": "Python 3"
    },
    "language_info": {
      "name": "python"
    }
  },
  "cells": [
    {
      "cell_type": "markdown",
      "metadata": {
        "id": "view-in-github",
        "colab_type": "text"
      },
      "source": [
        "<a href=\"https://colab.research.google.com/github/priyanka-kris/Dlithe-Internship---Python-and-Datascience/blob/main/DAY%209/Data_Science.ipynb\" target=\"_parent\"><img src=\"https://colab.research.google.com/assets/colab-badge.svg\" alt=\"Open In Colab\"/></a>"
      ]
    },
    {
      "cell_type": "markdown",
      "source": [
        "**Day 9**"
      ],
      "metadata": {
        "id": "p9E5yGYcoUzF"
      }
    },
    {
      "cell_type": "code",
      "metadata": {
        "id": "e3MMawpbN9U0"
      },
      "source": [
        "import pandas as pd\n",
        "import numpy as np"
      ],
      "execution_count": null,
      "outputs": []
    },
    {
      "cell_type": "code",
      "metadata": {
        "id": "LM16bGgTP3uR"
      },
      "source": [
        "# series, Dataframe"
      ],
      "execution_count": null,
      "outputs": []
    },
    {
      "cell_type": "code",
      "metadata": {
        "id": "bqWw7T3OQEsd"
      },
      "source": [
        "s = pd.Series([0,1,1,2,3,5,8])"
      ],
      "execution_count": null,
      "outputs": []
    },
    {
      "cell_type": "code",
      "metadata": {
        "colab": {
          "base_uri": "https://localhost:8080/"
        },
        "id": "Dnb8IENWQQCo",
        "outputId": "00149f08-691a-49c8-c44f-99d2a6be7e50"
      },
      "source": [
        "s"
      ],
      "execution_count": null,
      "outputs": [
        {
          "output_type": "execute_result",
          "data": {
            "text/plain": [
              "0    0\n",
              "1    1\n",
              "2    1\n",
              "3    2\n",
              "4    3\n",
              "5    5\n",
              "6    8\n",
              "dtype: int64"
            ]
          },
          "metadata": {
            "tags": []
          },
          "execution_count": 4
        }
      ]
    },
    {
      "cell_type": "code",
      "metadata": {
        "colab": {
          "base_uri": "https://localhost:8080/"
        },
        "id": "IWM657MoQQsA",
        "outputId": "a7a1430d-3154-48c9-8880-d592890f32b0"
      },
      "source": [
        "type(s)"
      ],
      "execution_count": null,
      "outputs": [
        {
          "output_type": "execute_result",
          "data": {
            "text/plain": [
              "pandas.core.series.Series"
            ]
          },
          "metadata": {
            "tags": []
          },
          "execution_count": 5
        }
      ]
    },
    {
      "cell_type": "code",
      "metadata": {
        "id": "MGcUiTf5Qgu4"
      },
      "source": [
        "s = pd.Series([0.0,1,1,2,3,5,8])"
      ],
      "execution_count": null,
      "outputs": []
    },
    {
      "cell_type": "code",
      "metadata": {
        "colab": {
          "base_uri": "https://localhost:8080/"
        },
        "id": "rezOtgqqQmJY",
        "outputId": "3a35d83e-a839-486f-ac63-9610d26e1563"
      },
      "source": [
        "s"
      ],
      "execution_count": null,
      "outputs": [
        {
          "output_type": "execute_result",
          "data": {
            "text/plain": [
              "0    0.0\n",
              "1    1.0\n",
              "2    1.0\n",
              "3    2.0\n",
              "4    3.0\n",
              "5    5.0\n",
              "6    8.0\n",
              "dtype: float64"
            ]
          },
          "metadata": {
            "tags": []
          },
          "execution_count": 7
        }
      ]
    },
    {
      "cell_type": "code",
      "metadata": {
        "colab": {
          "base_uri": "https://localhost:8080/"
        },
        "id": "ncFh897hQ1z9",
        "outputId": "71568af1-63b2-4353-aa8e-07fd291e875b"
      },
      "source": [
        "s.values"
      ],
      "execution_count": null,
      "outputs": [
        {
          "output_type": "execute_result",
          "data": {
            "text/plain": [
              "array([0., 1., 1., 2., 3., 5., 8.])"
            ]
          },
          "metadata": {
            "tags": []
          },
          "execution_count": 11
        }
      ]
    },
    {
      "cell_type": "code",
      "metadata": {
        "colab": {
          "base_uri": "https://localhost:8080/"
        },
        "id": "8EQMRXD1QnYA",
        "outputId": "c71fb95f-2089-4490-a11c-030b8f3feb73"
      },
      "source": [
        "type(s.values)"
      ],
      "execution_count": null,
      "outputs": [
        {
          "output_type": "execute_result",
          "data": {
            "text/plain": [
              "numpy.ndarray"
            ]
          },
          "metadata": {
            "tags": []
          },
          "execution_count": 10
        }
      ]
    },
    {
      "cell_type": "code",
      "metadata": {
        "colab": {
          "base_uri": "https://localhost:8080/"
        },
        "id": "mBK0PQ5aQwWL",
        "outputId": "b3a8ef64-6889-48ea-b6e1-a93f20792a8d"
      },
      "source": [
        "s.index"
      ],
      "execution_count": null,
      "outputs": [
        {
          "output_type": "execute_result",
          "data": {
            "text/plain": [
              "RangeIndex(start=0, stop=7, step=1)"
            ]
          },
          "metadata": {
            "tags": []
          },
          "execution_count": 12
        }
      ]
    },
    {
      "cell_type": "code",
      "metadata": {
        "colab": {
          "base_uri": "https://localhost:8080/"
        },
        "id": "XRKsnOAkQ5kE",
        "outputId": "5239dfe1-8eef-4472-9a30-2f02a1bb3b08"
      },
      "source": [
        "for v in s.values:\n",
        "  print(v)"
      ],
      "execution_count": null,
      "outputs": [
        {
          "output_type": "stream",
          "text": [
            "0.0\n",
            "1.0\n",
            "1.0\n",
            "2.0\n",
            "3.0\n",
            "5.0\n",
            "8.0\n"
          ],
          "name": "stdout"
        }
      ]
    },
    {
      "cell_type": "code",
      "metadata": {
        "colab": {
          "base_uri": "https://localhost:8080/"
        },
        "id": "2RaoI5f5RAlU",
        "outputId": "5248be8c-ea42-4cba-c7bd-ac3262bbf5c5"
      },
      "source": [
        "for i in s.index:\n",
        "  print(i)"
      ],
      "execution_count": null,
      "outputs": [
        {
          "output_type": "stream",
          "text": [
            "0\n",
            "1\n",
            "2\n",
            "3\n",
            "4\n",
            "5\n",
            "6\n"
          ],
          "name": "stdout"
        }
      ]
    },
    {
      "cell_type": "code",
      "metadata": {
        "colab": {
          "base_uri": "https://localhost:8080/"
        },
        "id": "uBdQv68HRN54",
        "outputId": "c667de38-3a45-4651-a775-f6cd44bbdac9"
      },
      "source": [
        "for item in zip(s.index, s.values):\n",
        "  print(item, type(item))"
      ],
      "execution_count": null,
      "outputs": [
        {
          "output_type": "stream",
          "text": [
            "(0, 0.0) <class 'tuple'>\n",
            "(1, 1.0) <class 'tuple'>\n",
            "(2, 1.0) <class 'tuple'>\n",
            "(3, 2.0) <class 'tuple'>\n",
            "(4, 3.0) <class 'tuple'>\n",
            "(5, 5.0) <class 'tuple'>\n",
            "(6, 8.0) <class 'tuple'>\n"
          ],
          "name": "stdout"
        }
      ]
    },
    {
      "cell_type": "code",
      "metadata": {
        "colab": {
          "base_uri": "https://localhost:8080/"
        },
        "id": "LHtchWmoRZrc",
        "outputId": "e908b7a4-b26c-4d72-f435-df3e9ec26c96"
      },
      "source": [
        "s[5]"
      ],
      "execution_count": null,
      "outputs": [
        {
          "output_type": "execute_result",
          "data": {
            "text/plain": [
              "5.0"
            ]
          },
          "metadata": {
            "tags": []
          },
          "execution_count": 18
        }
      ]
    },
    {
      "cell_type": "code",
      "metadata": {
        "colab": {
          "base_uri": "https://localhost:8080/"
        },
        "id": "u2uDJazHRjvX",
        "outputId": "75fec2e1-4541-45ca-8b18-257c015bf373"
      },
      "source": [
        "s[0]"
      ],
      "execution_count": null,
      "outputs": [
        {
          "output_type": "execute_result",
          "data": {
            "text/plain": [
              "0.0"
            ]
          },
          "metadata": {
            "tags": []
          },
          "execution_count": 19
        }
      ]
    },
    {
      "cell_type": "code",
      "metadata": {
        "colab": {
          "base_uri": "https://localhost:8080/"
        },
        "id": "1j6BNP65SOzt",
        "outputId": "de822296-32ab-4acb-b24c-6756bcfab73e"
      },
      "source": [
        "pd.Series([0.33, 57.9, 4222.6])"
      ],
      "execution_count": null,
      "outputs": [
        {
          "output_type": "execute_result",
          "data": {
            "text/plain": [
              "0       0.33\n",
              "1      57.90\n",
              "2    4222.60\n",
              "dtype: float64"
            ]
          },
          "metadata": {
            "tags": []
          },
          "execution_count": 23
        }
      ]
    },
    {
      "cell_type": "code",
      "metadata": {
        "id": "kIG45DE0Rnxx"
      },
      "source": [
        "# mass, diameter, dayLength\n",
        "mercury = pd.Series([0.33, 57.9, 4222.6], index=[\"Mass\", \"Diameter\", \"DayLength\"])"
      ],
      "execution_count": null,
      "outputs": []
    },
    {
      "cell_type": "code",
      "metadata": {
        "colab": {
          "base_uri": "https://localhost:8080/"
        },
        "id": "zVhvs_JwR98F",
        "outputId": "32c3ac60-8bf0-46a9-9ed5-a89ab1cb83eb"
      },
      "source": [
        "mercury"
      ],
      "execution_count": null,
      "outputs": [
        {
          "output_type": "execute_result",
          "data": {
            "text/plain": [
              "Mass            0.33\n",
              "Diameter       57.90\n",
              "DayLength    4222.60\n",
              "dtype: float64"
            ]
          },
          "metadata": {
            "tags": []
          },
          "execution_count": 22
        }
      ]
    },
    {
      "cell_type": "code",
      "metadata": {
        "colab": {
          "base_uri": "https://localhost:8080/"
        },
        "id": "KOe3LRHpSMo1",
        "outputId": "723156f3-4f40-45ed-edf1-605abc7db419"
      },
      "source": [
        "mercury[\"Mass\"]"
      ],
      "execution_count": null,
      "outputs": [
        {
          "output_type": "execute_result",
          "data": {
            "text/plain": [
              "0.33"
            ]
          },
          "metadata": {
            "tags": []
          },
          "execution_count": 24
        }
      ]
    },
    {
      "cell_type": "code",
      "metadata": {
        "colab": {
          "base_uri": "https://localhost:8080/"
        },
        "id": "sxtJcvPGSUSR",
        "outputId": "a4df5606-a1c0-4cc5-f4a0-8ed3e7491fd9"
      },
      "source": [
        "mercury[\"DayLength\"]"
      ],
      "execution_count": null,
      "outputs": [
        {
          "output_type": "execute_result",
          "data": {
            "text/plain": [
              "4222.6"
            ]
          },
          "metadata": {
            "tags": []
          },
          "execution_count": 25
        }
      ]
    },
    {
      "cell_type": "code",
      "metadata": {
        "colab": {
          "base_uri": "https://localhost:8080/"
        },
        "id": "QQy1oH_JSh_M",
        "outputId": "d07d3a97-99ee-4f64-f2d7-c26a20a11c37"
      },
      "source": [
        "arr = np.random.randint(0, 10, 10)\n",
        "arr"
      ],
      "execution_count": null,
      "outputs": [
        {
          "output_type": "execute_result",
          "data": {
            "text/plain": [
              "array([8, 0, 5, 7, 2, 1, 5, 0, 7, 2])"
            ]
          },
          "metadata": {
            "tags": []
          },
          "execution_count": 29
        }
      ]
    },
    {
      "cell_type": "code",
      "metadata": {
        "colab": {
          "base_uri": "https://localhost:8080/"
        },
        "id": "5bTbDMmtSoll",
        "outputId": "859b0239-bb0b-43cc-831d-21bd9367a122"
      },
      "source": [
        "rand_series = pd.Series(arr)\n",
        "rand_series"
      ],
      "execution_count": null,
      "outputs": [
        {
          "output_type": "execute_result",
          "data": {
            "text/plain": [
              "0    8\n",
              "1    0\n",
              "2    5\n",
              "3    7\n",
              "4    2\n",
              "5    1\n",
              "6    5\n",
              "7    0\n",
              "8    7\n",
              "9    2\n",
              "dtype: int64"
            ]
          },
          "metadata": {
            "tags": []
          },
          "execution_count": 30
        }
      ]
    },
    {
      "cell_type": "markdown",
      "metadata": {
        "id": "TqMz3P1ES56w"
      },
      "source": [
        "# iLoc and Loc"
      ]
    },
    {
      "cell_type": "code",
      "metadata": {
        "id": "Apvf7BreS0CB"
      },
      "source": [
        "\n",
        "mercury = pd.Series([0.33, 57.9, 4222.6], index=[\"Mass\", \"Diameter\", \"DayLength\"])"
      ],
      "execution_count": null,
      "outputs": []
    },
    {
      "cell_type": "code",
      "metadata": {
        "colab": {
          "base_uri": "https://localhost:8080/"
        },
        "id": "agRLMcqeTBA-",
        "outputId": "8504e706-2c17-48f4-f197-07cb1b6c817f"
      },
      "source": [
        "mercury[\"Mass\"]"
      ],
      "execution_count": null,
      "outputs": [
        {
          "output_type": "execute_result",
          "data": {
            "text/plain": [
              "0.33"
            ]
          },
          "metadata": {
            "tags": []
          },
          "execution_count": 32
        }
      ]
    },
    {
      "cell_type": "code",
      "metadata": {
        "colab": {
          "base_uri": "https://localhost:8080/"
        },
        "id": "iw7kugIyTDZc",
        "outputId": "9a8a2614-4a97-4676-ac72-41d4f2cd8530"
      },
      "source": [
        "mercury[0]"
      ],
      "execution_count": null,
      "outputs": [
        {
          "output_type": "execute_result",
          "data": {
            "text/plain": [
              "0.33"
            ]
          },
          "metadata": {
            "tags": []
          },
          "execution_count": 33
        }
      ]
    },
    {
      "cell_type": "code",
      "metadata": {
        "id": "628pgq27TFjk"
      },
      "source": [
        "mercury = pd.Series([0.33, 57.9, 4222.6], index=[1, 2, 3])"
      ],
      "execution_count": null,
      "outputs": []
    },
    {
      "cell_type": "code",
      "metadata": {
        "colab": {
          "base_uri": "https://localhost:8080/",
          "height": 611
        },
        "id": "8fwGGC5OTN9t",
        "outputId": "0ea2036c-7d4b-4961-913b-8e6e4b83e140"
      },
      "source": [
        "mercury[0]"
      ],
      "execution_count": null,
      "outputs": [
        {
          "output_type": "error",
          "ename": "KeyError",
          "evalue": "ignored",
          "traceback": [
            "\u001b[0;31m---------------------------------------------------------------------------\u001b[0m",
            "\u001b[0;31mKeyError\u001b[0m                                  Traceback (most recent call last)",
            "\u001b[0;32m/usr/local/lib/python3.7/dist-packages/pandas/core/indexes/base.py\u001b[0m in \u001b[0;36mget_loc\u001b[0;34m(self, key, method, tolerance)\u001b[0m\n\u001b[1;32m   2897\u001b[0m             \u001b[0;32mtry\u001b[0m\u001b[0;34m:\u001b[0m\u001b[0;34m\u001b[0m\u001b[0;34m\u001b[0m\u001b[0m\n\u001b[0;32m-> 2898\u001b[0;31m                 \u001b[0;32mreturn\u001b[0m \u001b[0mself\u001b[0m\u001b[0;34m.\u001b[0m\u001b[0m_engine\u001b[0m\u001b[0;34m.\u001b[0m\u001b[0mget_loc\u001b[0m\u001b[0;34m(\u001b[0m\u001b[0mcasted_key\u001b[0m\u001b[0;34m)\u001b[0m\u001b[0;34m\u001b[0m\u001b[0;34m\u001b[0m\u001b[0m\n\u001b[0m\u001b[1;32m   2899\u001b[0m             \u001b[0;32mexcept\u001b[0m \u001b[0mKeyError\u001b[0m \u001b[0;32mas\u001b[0m \u001b[0merr\u001b[0m\u001b[0;34m:\u001b[0m\u001b[0;34m\u001b[0m\u001b[0;34m\u001b[0m\u001b[0m\n",
            "\u001b[0;32mpandas/_libs/index.pyx\u001b[0m in \u001b[0;36mpandas._libs.index.IndexEngine.get_loc\u001b[0;34m()\u001b[0m\n",
            "\u001b[0;32mpandas/_libs/index.pyx\u001b[0m in \u001b[0;36mpandas._libs.index.IndexEngine.get_loc\u001b[0;34m()\u001b[0m\n",
            "\u001b[0;32mpandas/_libs/hashtable_class_helper.pxi\u001b[0m in \u001b[0;36mpandas._libs.hashtable.Int64HashTable.get_item\u001b[0;34m()\u001b[0m\n",
            "\u001b[0;32mpandas/_libs/hashtable_class_helper.pxi\u001b[0m in \u001b[0;36mpandas._libs.hashtable.Int64HashTable.get_item\u001b[0;34m()\u001b[0m\n",
            "\u001b[0;31mKeyError\u001b[0m: 0",
            "\nThe above exception was the direct cause of the following exception:\n",
            "\u001b[0;31mKeyError\u001b[0m                                  Traceback (most recent call last)",
            "\u001b[0;32m<ipython-input-35-7767cb94df5b>\u001b[0m in \u001b[0;36m<module>\u001b[0;34m()\u001b[0m\n\u001b[0;32m----> 1\u001b[0;31m \u001b[0mmercury\u001b[0m\u001b[0;34m[\u001b[0m\u001b[0;36m0\u001b[0m\u001b[0;34m]\u001b[0m\u001b[0;34m\u001b[0m\u001b[0;34m\u001b[0m\u001b[0m\n\u001b[0m",
            "\u001b[0;32m/usr/local/lib/python3.7/dist-packages/pandas/core/series.py\u001b[0m in \u001b[0;36m__getitem__\u001b[0;34m(self, key)\u001b[0m\n\u001b[1;32m    880\u001b[0m \u001b[0;34m\u001b[0m\u001b[0m\n\u001b[1;32m    881\u001b[0m         \u001b[0;32melif\u001b[0m \u001b[0mkey_is_scalar\u001b[0m\u001b[0;34m:\u001b[0m\u001b[0;34m\u001b[0m\u001b[0;34m\u001b[0m\u001b[0m\n\u001b[0;32m--> 882\u001b[0;31m             \u001b[0;32mreturn\u001b[0m \u001b[0mself\u001b[0m\u001b[0;34m.\u001b[0m\u001b[0m_get_value\u001b[0m\u001b[0;34m(\u001b[0m\u001b[0mkey\u001b[0m\u001b[0;34m)\u001b[0m\u001b[0;34m\u001b[0m\u001b[0;34m\u001b[0m\u001b[0m\n\u001b[0m\u001b[1;32m    883\u001b[0m \u001b[0;34m\u001b[0m\u001b[0m\n\u001b[1;32m    884\u001b[0m         \u001b[0;32mif\u001b[0m \u001b[0mis_hashable\u001b[0m\u001b[0;34m(\u001b[0m\u001b[0mkey\u001b[0m\u001b[0;34m)\u001b[0m\u001b[0;34m:\u001b[0m\u001b[0;34m\u001b[0m\u001b[0;34m\u001b[0m\u001b[0m\n",
            "\u001b[0;32m/usr/local/lib/python3.7/dist-packages/pandas/core/series.py\u001b[0m in \u001b[0;36m_get_value\u001b[0;34m(self, label, takeable)\u001b[0m\n\u001b[1;32m    988\u001b[0m \u001b[0;34m\u001b[0m\u001b[0m\n\u001b[1;32m    989\u001b[0m         \u001b[0;31m# Similar to Index.get_value, but we do not fall back to positional\u001b[0m\u001b[0;34m\u001b[0m\u001b[0;34m\u001b[0m\u001b[0;34m\u001b[0m\u001b[0m\n\u001b[0;32m--> 990\u001b[0;31m         \u001b[0mloc\u001b[0m \u001b[0;34m=\u001b[0m \u001b[0mself\u001b[0m\u001b[0;34m.\u001b[0m\u001b[0mindex\u001b[0m\u001b[0;34m.\u001b[0m\u001b[0mget_loc\u001b[0m\u001b[0;34m(\u001b[0m\u001b[0mlabel\u001b[0m\u001b[0;34m)\u001b[0m\u001b[0;34m\u001b[0m\u001b[0;34m\u001b[0m\u001b[0m\n\u001b[0m\u001b[1;32m    991\u001b[0m         \u001b[0;32mreturn\u001b[0m \u001b[0mself\u001b[0m\u001b[0;34m.\u001b[0m\u001b[0mindex\u001b[0m\u001b[0;34m.\u001b[0m\u001b[0m_get_values_for_loc\u001b[0m\u001b[0;34m(\u001b[0m\u001b[0mself\u001b[0m\u001b[0;34m,\u001b[0m \u001b[0mloc\u001b[0m\u001b[0;34m,\u001b[0m \u001b[0mlabel\u001b[0m\u001b[0;34m)\u001b[0m\u001b[0;34m\u001b[0m\u001b[0;34m\u001b[0m\u001b[0m\n\u001b[1;32m    992\u001b[0m \u001b[0;34m\u001b[0m\u001b[0m\n",
            "\u001b[0;32m/usr/local/lib/python3.7/dist-packages/pandas/core/indexes/base.py\u001b[0m in \u001b[0;36mget_loc\u001b[0;34m(self, key, method, tolerance)\u001b[0m\n\u001b[1;32m   2898\u001b[0m                 \u001b[0;32mreturn\u001b[0m \u001b[0mself\u001b[0m\u001b[0;34m.\u001b[0m\u001b[0m_engine\u001b[0m\u001b[0;34m.\u001b[0m\u001b[0mget_loc\u001b[0m\u001b[0;34m(\u001b[0m\u001b[0mcasted_key\u001b[0m\u001b[0;34m)\u001b[0m\u001b[0;34m\u001b[0m\u001b[0;34m\u001b[0m\u001b[0m\n\u001b[1;32m   2899\u001b[0m             \u001b[0;32mexcept\u001b[0m \u001b[0mKeyError\u001b[0m \u001b[0;32mas\u001b[0m \u001b[0merr\u001b[0m\u001b[0;34m:\u001b[0m\u001b[0;34m\u001b[0m\u001b[0;34m\u001b[0m\u001b[0m\n\u001b[0;32m-> 2900\u001b[0;31m                 \u001b[0;32mraise\u001b[0m \u001b[0mKeyError\u001b[0m\u001b[0;34m(\u001b[0m\u001b[0mkey\u001b[0m\u001b[0;34m)\u001b[0m \u001b[0;32mfrom\u001b[0m \u001b[0merr\u001b[0m\u001b[0;34m\u001b[0m\u001b[0;34m\u001b[0m\u001b[0m\n\u001b[0m\u001b[1;32m   2901\u001b[0m \u001b[0;34m\u001b[0m\u001b[0m\n\u001b[1;32m   2902\u001b[0m         \u001b[0;32mif\u001b[0m \u001b[0mtolerance\u001b[0m \u001b[0;32mis\u001b[0m \u001b[0;32mnot\u001b[0m \u001b[0;32mNone\u001b[0m\u001b[0;34m:\u001b[0m\u001b[0;34m\u001b[0m\u001b[0;34m\u001b[0m\u001b[0m\n",
            "\u001b[0;31mKeyError\u001b[0m: 0"
          ]
        }
      ]
    },
    {
      "cell_type": "code",
      "metadata": {
        "colab": {
          "base_uri": "https://localhost:8080/"
        },
        "id": "f4Sy4jSFTPek",
        "outputId": "101e99ae-aaee-4bae-e653-02a4a36924e2"
      },
      "source": [
        "mercury[1]"
      ],
      "execution_count": null,
      "outputs": [
        {
          "output_type": "execute_result",
          "data": {
            "text/plain": [
              "0.33"
            ]
          },
          "metadata": {
            "tags": []
          },
          "execution_count": 36
        }
      ]
    },
    {
      "cell_type": "code",
      "metadata": {
        "colab": {
          "base_uri": "https://localhost:8080/"
        },
        "id": "L-qalweXTlrN",
        "outputId": "f1db6202-aad0-459c-a2d6-a847a66aec5d"
      },
      "source": [
        "mercury.loc[1]"
      ],
      "execution_count": null,
      "outputs": [
        {
          "output_type": "execute_result",
          "data": {
            "text/plain": [
              "0.33"
            ]
          },
          "metadata": {
            "tags": []
          },
          "execution_count": 37
        }
      ]
    },
    {
      "cell_type": "code",
      "metadata": {
        "colab": {
          "base_uri": "https://localhost:8080/"
        },
        "id": "TSxhrdDdUW4w",
        "outputId": "e4d1a666-43ee-440d-9dfb-cbb2f230196f"
      },
      "source": [
        "mercury.iloc[1]"
      ],
      "execution_count": null,
      "outputs": [
        {
          "output_type": "execute_result",
          "data": {
            "text/plain": [
              "57.9"
            ]
          },
          "metadata": {
            "tags": []
          },
          "execution_count": 38
        }
      ]
    },
    {
      "cell_type": "code",
      "metadata": {
        "id": "fmSLTpW4UiQo"
      },
      "source": [
        "#  0 1 2 3 4 5   -> implicit indexing(iLoc)\n",
        "#  2 3 4 5 6 7   -> explicit indexing(Loc)\n",
        "# [1 2 3 4 5 6]"
      ],
      "execution_count": null,
      "outputs": []
    },
    {
      "cell_type": "code",
      "metadata": {
        "id": "GXO0SIDFVqN0"
      },
      "source": [
        "mercury = pd.Series([0.33, 57.9, 4222.6], index=[\"Mass\", \"Diameter\", \"DayLength\"])"
      ],
      "execution_count": null,
      "outputs": []
    },
    {
      "cell_type": "code",
      "metadata": {
        "colab": {
          "base_uri": "https://localhost:8080/"
        },
        "id": "zCHn-iDrVgxl",
        "outputId": "12477cfc-78d7-4eda-a334-4221ec03ba3b"
      },
      "source": [
        "mercury.loc[\"Mass\":\"Diameter\"]"
      ],
      "execution_count": null,
      "outputs": [
        {
          "output_type": "execute_result",
          "data": {
            "text/plain": [
              "Mass         0.33\n",
              "Diameter    57.90\n",
              "dtype: float64"
            ]
          },
          "metadata": {
            "tags": []
          },
          "execution_count": 43
        }
      ]
    },
    {
      "cell_type": "code",
      "metadata": {
        "colab": {
          "base_uri": "https://localhost:8080/"
        },
        "id": "Krsm20wMVzTM",
        "outputId": "dbffcc3f-acf7-4f1f-a87e-04cb2d2203e8"
      },
      "source": [
        "mercury.loc[\"Mass\":]"
      ],
      "execution_count": null,
      "outputs": [
        {
          "output_type": "execute_result",
          "data": {
            "text/plain": [
              "Mass            0.33\n",
              "Diameter       57.90\n",
              "DayLength    4222.60\n",
              "dtype: float64"
            ]
          },
          "metadata": {
            "tags": []
          },
          "execution_count": 44
        }
      ]
    },
    {
      "cell_type": "code",
      "metadata": {
        "colab": {
          "base_uri": "https://localhost:8080/"
        },
        "id": "drsjil3rV-I3",
        "outputId": "fee14d2c-3f2a-4f75-d408-f967ca28dfe6"
      },
      "source": [
        "mercury.loc[:]"
      ],
      "execution_count": null,
      "outputs": [
        {
          "output_type": "execute_result",
          "data": {
            "text/plain": [
              "Mass            0.33\n",
              "Diameter       57.90\n",
              "DayLength    4222.60\n",
              "dtype: float64"
            ]
          },
          "metadata": {
            "tags": []
          },
          "execution_count": 45
        }
      ]
    },
    {
      "cell_type": "code",
      "metadata": {
        "colab": {
          "base_uri": "https://localhost:8080/"
        },
        "id": "WrFGvLy8V_1v",
        "outputId": "1c2551ef-317e-4615-d0b8-3841bad9d96f"
      },
      "source": [
        "mercury.loc[::-1]"
      ],
      "execution_count": null,
      "outputs": [
        {
          "output_type": "execute_result",
          "data": {
            "text/plain": [
              "DayLength    4222.60\n",
              "Diameter       57.90\n",
              "Mass            0.33\n",
              "dtype: float64"
            ]
          },
          "metadata": {
            "tags": []
          },
          "execution_count": 46
        }
      ]
    },
    {
      "cell_type": "code",
      "metadata": {
        "id": "e2KulOC0WBvX"
      },
      "source": [
        "mercury = pd.Series([0.33, 57.9, 4222.6], index=[1, 2, 3])"
      ],
      "execution_count": null,
      "outputs": []
    },
    {
      "cell_type": "code",
      "metadata": {
        "colab": {
          "base_uri": "https://localhost:8080/"
        },
        "id": "CVz48X5nWL1I",
        "outputId": "d344049f-dc02-44d4-8b52-30c148ec5bb2"
      },
      "source": [
        "mercury.loc[1:2]"
      ],
      "execution_count": null,
      "outputs": [
        {
          "output_type": "execute_result",
          "data": {
            "text/plain": [
              "1     0.33\n",
              "2    57.90\n",
              "dtype: float64"
            ]
          },
          "metadata": {
            "tags": []
          },
          "execution_count": 48
        }
      ]
    },
    {
      "cell_type": "code",
      "metadata": {
        "colab": {
          "base_uri": "https://localhost:8080/",
          "height": 329
        },
        "id": "7ipxODYOWOVk",
        "outputId": "f0f48e2b-7a0f-40fb-e427-f72340616f97"
      },
      "source": [
        "mercury.iloc[\"Mass\"]"
      ],
      "execution_count": null,
      "outputs": [
        {
          "output_type": "error",
          "ename": "TypeError",
          "evalue": "ignored",
          "traceback": [
            "\u001b[0;31m---------------------------------------------------------------------------\u001b[0m",
            "\u001b[0;31mTypeError\u001b[0m                                 Traceback (most recent call last)",
            "\u001b[0;32m<ipython-input-49-95192d096426>\u001b[0m in \u001b[0;36m<module>\u001b[0;34m()\u001b[0m\n\u001b[0;32m----> 1\u001b[0;31m \u001b[0mmercury\u001b[0m\u001b[0;34m.\u001b[0m\u001b[0miloc\u001b[0m\u001b[0;34m[\u001b[0m\u001b[0;34m\"Mass\"\u001b[0m\u001b[0;34m]\u001b[0m\u001b[0;34m\u001b[0m\u001b[0;34m\u001b[0m\u001b[0m\n\u001b[0m",
            "\u001b[0;32m/usr/local/lib/python3.7/dist-packages/pandas/core/indexing.py\u001b[0m in \u001b[0;36m__getitem__\u001b[0;34m(self, key)\u001b[0m\n\u001b[1;32m    877\u001b[0m \u001b[0;34m\u001b[0m\u001b[0m\n\u001b[1;32m    878\u001b[0m             \u001b[0mmaybe_callable\u001b[0m \u001b[0;34m=\u001b[0m \u001b[0mcom\u001b[0m\u001b[0;34m.\u001b[0m\u001b[0mapply_if_callable\u001b[0m\u001b[0;34m(\u001b[0m\u001b[0mkey\u001b[0m\u001b[0;34m,\u001b[0m \u001b[0mself\u001b[0m\u001b[0;34m.\u001b[0m\u001b[0mobj\u001b[0m\u001b[0;34m)\u001b[0m\u001b[0;34m\u001b[0m\u001b[0;34m\u001b[0m\u001b[0m\n\u001b[0;32m--> 879\u001b[0;31m             \u001b[0;32mreturn\u001b[0m \u001b[0mself\u001b[0m\u001b[0;34m.\u001b[0m\u001b[0m_getitem_axis\u001b[0m\u001b[0;34m(\u001b[0m\u001b[0mmaybe_callable\u001b[0m\u001b[0;34m,\u001b[0m \u001b[0maxis\u001b[0m\u001b[0;34m=\u001b[0m\u001b[0maxis\u001b[0m\u001b[0;34m)\u001b[0m\u001b[0;34m\u001b[0m\u001b[0;34m\u001b[0m\u001b[0m\n\u001b[0m\u001b[1;32m    880\u001b[0m \u001b[0;34m\u001b[0m\u001b[0m\n\u001b[1;32m    881\u001b[0m     \u001b[0;32mdef\u001b[0m \u001b[0m_is_scalar_access\u001b[0m\u001b[0;34m(\u001b[0m\u001b[0mself\u001b[0m\u001b[0;34m,\u001b[0m \u001b[0mkey\u001b[0m\u001b[0;34m:\u001b[0m \u001b[0mTuple\u001b[0m\u001b[0;34m)\u001b[0m\u001b[0;34m:\u001b[0m\u001b[0;34m\u001b[0m\u001b[0;34m\u001b[0m\u001b[0m\n",
            "\u001b[0;32m/usr/local/lib/python3.7/dist-packages/pandas/core/indexing.py\u001b[0m in \u001b[0;36m_getitem_axis\u001b[0;34m(self, key, axis)\u001b[0m\n\u001b[1;32m   1491\u001b[0m             \u001b[0mkey\u001b[0m \u001b[0;34m=\u001b[0m \u001b[0mitem_from_zerodim\u001b[0m\u001b[0;34m(\u001b[0m\u001b[0mkey\u001b[0m\u001b[0;34m)\u001b[0m\u001b[0;34m\u001b[0m\u001b[0;34m\u001b[0m\u001b[0m\n\u001b[1;32m   1492\u001b[0m             \u001b[0;32mif\u001b[0m \u001b[0;32mnot\u001b[0m \u001b[0mis_integer\u001b[0m\u001b[0;34m(\u001b[0m\u001b[0mkey\u001b[0m\u001b[0;34m)\u001b[0m\u001b[0;34m:\u001b[0m\u001b[0;34m\u001b[0m\u001b[0;34m\u001b[0m\u001b[0m\n\u001b[0;32m-> 1493\u001b[0;31m                 \u001b[0;32mraise\u001b[0m \u001b[0mTypeError\u001b[0m\u001b[0;34m(\u001b[0m\u001b[0;34m\"Cannot index by location index with a non-integer key\"\u001b[0m\u001b[0;34m)\u001b[0m\u001b[0;34m\u001b[0m\u001b[0;34m\u001b[0m\u001b[0m\n\u001b[0m\u001b[1;32m   1494\u001b[0m \u001b[0;34m\u001b[0m\u001b[0m\n\u001b[1;32m   1495\u001b[0m             \u001b[0;31m# validate the location\u001b[0m\u001b[0;34m\u001b[0m\u001b[0;34m\u001b[0m\u001b[0;34m\u001b[0m\u001b[0m\n",
            "\u001b[0;31mTypeError\u001b[0m: Cannot index by location index with a non-integer key"
          ]
        }
      ]
    },
    {
      "cell_type": "code",
      "metadata": {
        "colab": {
          "base_uri": "https://localhost:8080/"
        },
        "id": "RbziN81wWlIJ",
        "outputId": "5878f5e1-f61a-4098-d6e8-0ba7275ab7c6"
      },
      "source": [
        "mercury.iloc"
      ],
      "execution_count": null,
      "outputs": [
        {
          "output_type": "execute_result",
          "data": {
            "text/plain": [
              "<pandas.core.indexing._iLocIndexer at 0x7f5a677709b0>"
            ]
          },
          "metadata": {
            "tags": []
          },
          "execution_count": 50
        }
      ]
    },
    {
      "cell_type": "code",
      "metadata": {
        "id": "ib4N99HgWqsh",
        "colab": {
          "base_uri": "https://localhost:8080/",
          "height": 137
        },
        "outputId": "eb5ad26f-2a72-47ca-85a3-a453691e0489"
      },
      "source": [
        "mercury.iloc[]"
      ],
      "execution_count": null,
      "outputs": [
        {
          "output_type": "error",
          "ename": "SyntaxError",
          "evalue": "ignored",
          "traceback": [
            "\u001b[0;36m  File \u001b[0;32m\"<ipython-input-51-64ef256992a1>\"\u001b[0;36m, line \u001b[0;32m1\u001b[0m\n\u001b[0;31m    mercury.iloc[]\u001b[0m\n\u001b[0m                 ^\u001b[0m\n\u001b[0;31mSyntaxError\u001b[0m\u001b[0;31m:\u001b[0m invalid syntax\n"
          ]
        }
      ]
    },
    {
      "cell_type": "code",
      "metadata": {
        "id": "F8QLHBf8Wr9x"
      },
      "source": [
        "mercury = pd.Series([0.33, 57.9, 4222.6], index=[\"Mass\", \"Diameter\", \"DayLength\"])"
      ],
      "execution_count": null,
      "outputs": []
    },
    {
      "cell_type": "code",
      "metadata": {
        "colab": {
          "base_uri": "https://localhost:8080/"
        },
        "id": "Fev3HDDJUPGy",
        "outputId": "2d5e1bfd-df98-42fd-9254-3b144c6ed926"
      },
      "source": [
        "mercury.iloc[0]"
      ],
      "execution_count": null,
      "outputs": [
        {
          "output_type": "execute_result",
          "data": {
            "text/plain": [
              "0.33"
            ]
          },
          "metadata": {
            "tags": []
          },
          "execution_count": 4
        }
      ]
    },
    {
      "cell_type": "code",
      "metadata": {
        "colab": {
          "base_uri": "https://localhost:8080/"
        },
        "id": "nVhNU-fhUlN-",
        "outputId": "9e39a7c3-ae46-4bbe-d63f-98eb26d03519"
      },
      "source": [
        "mercury.iloc[2]"
      ],
      "execution_count": null,
      "outputs": [
        {
          "output_type": "execute_result",
          "data": {
            "text/plain": [
              "4222.6"
            ]
          },
          "metadata": {
            "tags": []
          },
          "execution_count": 5
        }
      ]
    },
    {
      "cell_type": "code",
      "metadata": {
        "colab": {
          "base_uri": "https://localhost:8080/"
        },
        "id": "SEL5C_HqUrER",
        "outputId": "79b2c514-0f94-4e80-e494-09362720faee"
      },
      "source": [
        "mercury.loc[\"Mass\"]"
      ],
      "execution_count": null,
      "outputs": [
        {
          "output_type": "execute_result",
          "data": {
            "text/plain": [
              "0.33"
            ]
          },
          "metadata": {
            "tags": []
          },
          "execution_count": 6
        }
      ]
    },
    {
      "cell_type": "code",
      "metadata": {
        "colab": {
          "base_uri": "https://localhost:8080/"
        },
        "id": "JLvGS8l9U40y",
        "outputId": "3a1f161b-d5bf-4a50-f90b-ec8605bb370c"
      },
      "source": [
        "mercury.loc[\"DayLength\"]"
      ],
      "execution_count": null,
      "outputs": [
        {
          "output_type": "execute_result",
          "data": {
            "text/plain": [
              "4222.6"
            ]
          },
          "metadata": {
            "tags": []
          },
          "execution_count": 7
        }
      ]
    },
    {
      "cell_type": "markdown",
      "metadata": {
        "id": "on66LSX1VQsW"
      },
      "source": [
        "# Nifty Case Study"
      ]
    },
    {
      "cell_type": "code",
      "metadata": {
        "id": "QpND62ukU8yW"
      },
      "source": [
        "import pandas as pd \n",
        "import numpy as np"
      ],
      "execution_count": null,
      "outputs": []
    },
    {
      "cell_type": "code",
      "metadata": {
        "id": "zDS_pjhoVdyN"
      },
      "source": [
        "nifty = pd.read_csv('nifty.csv', index_col=0).iloc[:, 0]"
      ],
      "execution_count": null,
      "outputs": []
    },
    {
      "cell_type": "code",
      "metadata": {
        "colab": {
          "base_uri": "https://localhost:8080/"
        },
        "id": "AOGIqGDcbxUF",
        "outputId": "af73eae6-647d-47f4-f979-3fde6b552378"
      },
      "source": [
        "nifty_df = pd.read_csv('nifty.csv')\n",
        "type(nifty_df)"
      ],
      "execution_count": null,
      "outputs": [
        {
          "output_type": "execute_result",
          "data": {
            "text/plain": [
              "pandas.core.frame.DataFrame"
            ]
          },
          "metadata": {
            "tags": []
          },
          "execution_count": 7
        }
      ]
    },
    {
      "cell_type": "code",
      "metadata": {
        "colab": {
          "base_uri": "https://localhost:8080/"
        },
        "id": "ZIVde0-RV7Rq",
        "outputId": "92e605de-ed5d-4d8b-945a-eac2fd71e89f"
      },
      "source": [
        "nifty"
      ],
      "execution_count": null,
      "outputs": [
        {
          "output_type": "execute_result",
          "data": {
            "text/plain": [
              "Date\n",
              "01-Jan-2019    10910.10\n",
              "02-Jan-2019    10792.50\n",
              "03-Jan-2019    10672.25\n",
              "04-Jan-2019    10727.35\n",
              "07-Jan-2019    10771.80\n",
              "                 ...   \n",
              "24-Dec-2019    12214.55\n",
              "26-Dec-2019    12126.55\n",
              "27-Dec-2019    12245.80\n",
              "30-Dec-2019    12255.85\n",
              "31-Dec-2019    12168.45\n",
              "Name: Close, Length: 245, dtype: float64"
            ]
          },
          "metadata": {
            "tags": []
          },
          "execution_count": 8
        }
      ]
    },
    {
      "cell_type": "code",
      "metadata": {
        "colab": {
          "base_uri": "https://localhost:8080/"
        },
        "id": "GZgv9JNfV9Y1",
        "outputId": "2a55605b-eafe-4afa-864b-35ef49d4fa35"
      },
      "source": [
        "nifty.head()"
      ],
      "execution_count": null,
      "outputs": [
        {
          "output_type": "execute_result",
          "data": {
            "text/plain": [
              "Date\n",
              "01-Jan-2019    10910.10\n",
              "02-Jan-2019    10792.50\n",
              "03-Jan-2019    10672.25\n",
              "04-Jan-2019    10727.35\n",
              "07-Jan-2019    10771.80\n",
              "Name: Close, dtype: float64"
            ]
          },
          "metadata": {
            "tags": []
          },
          "execution_count": 9
        }
      ]
    },
    {
      "cell_type": "code",
      "metadata": {
        "colab": {
          "base_uri": "https://localhost:8080/"
        },
        "id": "R1MHnDVKWo51",
        "outputId": "b781cf5c-d66d-4fa8-85a2-a44f000fc14d"
      },
      "source": [
        "nifty.head(10)"
      ],
      "execution_count": null,
      "outputs": [
        {
          "output_type": "execute_result",
          "data": {
            "text/plain": [
              "Date\n",
              "01-Jan-2019    10910.10\n",
              "02-Jan-2019    10792.50\n",
              "03-Jan-2019    10672.25\n",
              "04-Jan-2019    10727.35\n",
              "07-Jan-2019    10771.80\n",
              "08-Jan-2019    10802.15\n",
              "09-Jan-2019    10855.15\n",
              "10-Jan-2019    10821.60\n",
              "11-Jan-2019    10794.95\n",
              "14-Jan-2019    10737.60\n",
              "Name: Close, dtype: float64"
            ]
          },
          "metadata": {
            "tags": []
          },
          "execution_count": 10
        }
      ]
    },
    {
      "cell_type": "code",
      "metadata": {
        "colab": {
          "base_uri": "https://localhost:8080/"
        },
        "id": "FkdHypV9WvVl",
        "outputId": "9f26eb22-50a6-44a9-a546-76cc4f5f508a"
      },
      "source": [
        "nifty.tail()"
      ],
      "execution_count": null,
      "outputs": [
        {
          "output_type": "execute_result",
          "data": {
            "text/plain": [
              "Date\n",
              "24-Dec-2019    12214.55\n",
              "26-Dec-2019    12126.55\n",
              "27-Dec-2019    12245.80\n",
              "30-Dec-2019    12255.85\n",
              "31-Dec-2019    12168.45\n",
              "Name: Close, dtype: float64"
            ]
          },
          "metadata": {
            "tags": []
          },
          "execution_count": 11
        }
      ]
    },
    {
      "cell_type": "code",
      "metadata": {
        "colab": {
          "base_uri": "https://localhost:8080/"
        },
        "id": "j7jQ6MQcWyuF",
        "outputId": "aec1a19b-5ba4-4589-f09f-4ce63f8859ab"
      },
      "source": [
        "nifty.tail(10)"
      ],
      "execution_count": null,
      "outputs": [
        {
          "output_type": "execute_result",
          "data": {
            "text/plain": [
              "Date\n",
              "17-Dec-2019    12165.00\n",
              "18-Dec-2019    12221.65\n",
              "19-Dec-2019    12259.70\n",
              "20-Dec-2019    12271.80\n",
              "23-Dec-2019    12262.75\n",
              "24-Dec-2019    12214.55\n",
              "26-Dec-2019    12126.55\n",
              "27-Dec-2019    12245.80\n",
              "30-Dec-2019    12255.85\n",
              "31-Dec-2019    12168.45\n",
              "Name: Close, dtype: float64"
            ]
          },
          "metadata": {
            "tags": []
          },
          "execution_count": 12
        }
      ]
    },
    {
      "cell_type": "code",
      "metadata": {
        "colab": {
          "base_uri": "https://localhost:8080/"
        },
        "id": "yiEt2F9xW1Ql",
        "outputId": "c52c0e99-d8bd-4762-9abe-1adb1177a2e6"
      },
      "source": [
        "np.mean(nifty)"
      ],
      "execution_count": null,
      "outputs": [
        {
          "output_type": "execute_result",
          "data": {
            "text/plain": [
              "11432.632244897959"
            ]
          },
          "metadata": {
            "tags": []
          },
          "execution_count": 13
        }
      ]
    },
    {
      "cell_type": "code",
      "metadata": {
        "colab": {
          "base_uri": "https://localhost:8080/"
        },
        "id": "GUnJaQ0MW9J9",
        "outputId": "082aa5d4-cc71-4789-aa11-395a2459457d"
      },
      "source": [
        "type(nifty)"
      ],
      "execution_count": null,
      "outputs": [
        {
          "output_type": "execute_result",
          "data": {
            "text/plain": [
              "pandas.core.series.Series"
            ]
          },
          "metadata": {
            "tags": []
          },
          "execution_count": 14
        }
      ]
    },
    {
      "cell_type": "code",
      "metadata": {
        "colab": {
          "base_uri": "https://localhost:8080/"
        },
        "id": "m9wbgnl4XICd",
        "outputId": "eef4f44c-acb9-44ad-a06b-625aac07c541"
      },
      "source": [
        "np.median(nifty)"
      ],
      "execution_count": null,
      "outputs": [
        {
          "output_type": "execute_result",
          "data": {
            "text/plain": [
              "11512.4"
            ]
          },
          "metadata": {
            "tags": []
          },
          "execution_count": 15
        }
      ]
    },
    {
      "cell_type": "markdown",
      "metadata": {
        "id": "tTu6DahyXc9G"
      },
      "source": [
        "### Question: How many days did the markets close higher than the previous day's close."
      ]
    },
    {
      "cell_type": "code",
      "metadata": {
        "colab": {
          "base_uri": "https://localhost:8080/"
        },
        "id": "ob670zNpXYVm",
        "outputId": "817fa262-c17a-45ee-f34d-7ac0ca26b786"
      },
      "source": [
        "nifty[0]"
      ],
      "execution_count": null,
      "outputs": [
        {
          "output_type": "execute_result",
          "data": {
            "text/plain": [
              "10910.1"
            ]
          },
          "metadata": {
            "tags": []
          },
          "execution_count": 16
        }
      ]
    },
    {
      "cell_type": "code",
      "metadata": {
        "colab": {
          "base_uri": "https://localhost:8080/"
        },
        "id": "Eh7zN1u_Ybek",
        "outputId": "c82c3029-97f6-49cc-d857-4570a197bf7a"
      },
      "source": [
        "nifty[1]"
      ],
      "execution_count": null,
      "outputs": [
        {
          "output_type": "execute_result",
          "data": {
            "text/plain": [
              "10792.5"
            ]
          },
          "metadata": {
            "tags": []
          },
          "execution_count": 17
        }
      ]
    },
    {
      "cell_type": "code",
      "metadata": {
        "colab": {
          "base_uri": "https://localhost:8080/"
        },
        "id": "DfeIfl6ZZK6r",
        "outputId": "2ea60ce4-612c-4866-a531-1f6592ace702"
      },
      "source": [
        "nifty[1] - nifty[0]"
      ],
      "execution_count": null,
      "outputs": [
        {
          "output_type": "execute_result",
          "data": {
            "text/plain": [
              "-117.60000000000036"
            ]
          },
          "metadata": {
            "tags": []
          },
          "execution_count": 18
        }
      ]
    },
    {
      "cell_type": "code",
      "metadata": {
        "colab": {
          "base_uri": "https://localhost:8080/"
        },
        "id": "Gm1RiRAsZR9f",
        "outputId": "fd34a692-f5a4-47e3-a06e-f0a3094be821"
      },
      "source": [
        "nifty[1:]"
      ],
      "execution_count": null,
      "outputs": [
        {
          "output_type": "execute_result",
          "data": {
            "text/plain": [
              "Date\n",
              "02-Jan-2019    10792.50\n",
              "03-Jan-2019    10672.25\n",
              "04-Jan-2019    10727.35\n",
              "07-Jan-2019    10771.80\n",
              "08-Jan-2019    10802.15\n",
              "                 ...   \n",
              "24-Dec-2019    12214.55\n",
              "26-Dec-2019    12126.55\n",
              "27-Dec-2019    12245.80\n",
              "30-Dec-2019    12255.85\n",
              "31-Dec-2019    12168.45\n",
              "Name: Close, Length: 244, dtype: float64"
            ]
          },
          "metadata": {
            "tags": []
          },
          "execution_count": 19
        }
      ]
    },
    {
      "cell_type": "code",
      "metadata": {
        "colab": {
          "base_uri": "https://localhost:8080/"
        },
        "id": "lYdC8hfqZXBr",
        "outputId": "6408166e-24ce-4af3-d347-0ee1480d5d02"
      },
      "source": [
        "nifty[:-1]"
      ],
      "execution_count": null,
      "outputs": [
        {
          "output_type": "execute_result",
          "data": {
            "text/plain": [
              "Date\n",
              "01-Jan-2019    10910.10\n",
              "02-Jan-2019    10792.50\n",
              "03-Jan-2019    10672.25\n",
              "04-Jan-2019    10727.35\n",
              "07-Jan-2019    10771.80\n",
              "                 ...   \n",
              "23-Dec-2019    12262.75\n",
              "24-Dec-2019    12214.55\n",
              "26-Dec-2019    12126.55\n",
              "27-Dec-2019    12245.80\n",
              "30-Dec-2019    12255.85\n",
              "Name: Close, Length: 244, dtype: float64"
            ]
          },
          "metadata": {
            "tags": []
          },
          "execution_count": 20
        }
      ]
    },
    {
      "cell_type": "code",
      "metadata": {
        "colab": {
          "base_uri": "https://localhost:8080/"
        },
        "id": "JXFtnFoEZqYT",
        "outputId": "042ffbc7-fbb6-42dd-fc21-8d5e3f53bf8d"
      },
      "source": [
        "nifty[1:] - nifty[:-1]"
      ],
      "execution_count": null,
      "outputs": [
        {
          "output_type": "execute_result",
          "data": {
            "text/plain": [
              "Date\n",
              "01-Apr-2019    0.0\n",
              "01-Aug-2019    0.0\n",
              "01-Feb-2019    0.0\n",
              "01-Jan-2019    NaN\n",
              "01-Jul-2019    0.0\n",
              "              ... \n",
              "31-Dec-2019    NaN\n",
              "31-Jan-2019    0.0\n",
              "31-Jul-2019    0.0\n",
              "31-May-2019    0.0\n",
              "31-Oct-2019    0.0\n",
              "Name: Close, Length: 245, dtype: float64"
            ]
          },
          "metadata": {
            "tags": []
          },
          "execution_count": 21
        }
      ]
    },
    {
      "cell_type": "code",
      "metadata": {
        "colab": {
          "base_uri": "https://localhost:8080/"
        },
        "id": "vMGtoOkIaJkO",
        "outputId": "b66566c4-64c1-40bb-9389-fe27b3b825cb"
      },
      "source": [
        "nifty.values[1:] - nifty.values[:-1]"
      ],
      "execution_count": null,
      "outputs": [
        {
          "output_type": "execute_result",
          "data": {
            "text/plain": [
              "array([-1.1760e+02, -1.2025e+02,  5.5100e+01,  4.4450e+01,  3.0350e+01,\n",
              "        5.3000e+01, -3.3550e+01, -2.6650e+01, -5.7350e+01,  1.4920e+02,\n",
              "        3.5000e+00,  1.4900e+01,  1.7500e+00,  5.4900e+01, -3.9100e+01,\n",
              "       -9.1250e+01,  1.8300e+01, -6.9250e+01, -1.1900e+02, -9.3500e+00,\n",
              "       -4.0000e-01,  1.7915e+02,  6.2700e+01,  1.8600e+01,  2.2100e+01,\n",
              "        1.2810e+02,  6.9500e+00, -1.2580e+02, -5.4800e+01, -5.7400e+01,\n",
              "       -3.7750e+01, -4.7600e+01, -2.1650e+01, -8.3450e+01, -3.6600e+01,\n",
              "        1.3110e+02,  5.4400e+01,  1.8000e+00,  8.8450e+01, -4.4800e+01,\n",
              "       -2.8650e+01, -1.4150e+01,  7.1000e+01,  1.2395e+02,  6.5550e+01,\n",
              "        5.2000e+00, -2.2800e+01,  1.3265e+02,  1.3315e+02,  4.0500e+01,\n",
              "        1.5500e+00,  8.3600e+01,  3.5350e+01,  7.0200e+01, -1.1350e+01,\n",
              "       -6.4150e+01, -1.0265e+02,  1.2900e+02, -3.8200e+01,  1.2495e+02,\n",
              "        5.3900e+01,  4.5250e+01,  4.4050e+01, -6.9250e+01, -4.5950e+01,\n",
              "        6.7950e+01, -6.1450e+01,  6.7450e+01, -8.7650e+01,  1.2400e+01,\n",
              "        4.6750e+01,  4.6900e+01,  9.6800e+01, -3.4350e+01, -1.5835e+02,\n",
              "       -1.8500e+01,  1.5020e+02, -8.4350e+01,  1.1285e+02, -6.5000e+00,\n",
              "       -2.3400e+01, -1.2500e+01, -1.1400e+02, -1.0035e+02, -1.3845e+02,\n",
              "       -5.7650e+01, -2.2900e+01, -1.3070e+02,  7.3850e+01, -6.5050e+01,\n",
              "        1.0010e+02,  1.5005e+02,  4.2110e+02, -1.1915e+02,  2.8800e+01,\n",
              "       -8.0850e+01,  1.8705e+02,  8.0650e+01,  4.0000e+00, -6.7650e+01,\n",
              "        8.4800e+01, -2.3100e+01,  1.6575e+02, -6.6900e+01, -1.7790e+02,\n",
              "        2.6900e+01,  5.2050e+01,  4.2900e+01, -5.9400e+01,  7.8500e+00,\n",
              "       -9.0750e+01, -1.5115e+02,  1.9350e+01, -5.0000e-02,  1.4030e+02,\n",
              "       -1.0765e+02, -2.4450e+01,  9.6800e+01,  5.1100e+01, -6.0000e+00,\n",
              "       -5.2700e+01,  7.6750e+01,  4.4700e+01,  6.4500e+00,  3.0000e+01,\n",
              "       -1.3560e+02, -2.5255e+02, -2.7000e+00, -5.7000e+01,  8.4000e+01,\n",
              "       -3.0400e+01,  3.5850e+01,  7.4250e+01,  2.4900e+01, -9.0600e+01,\n",
              "       -1.7765e+02, -7.3050e+01, -1.5150e+01, -5.9750e+01, -1.9150e+01,\n",
              "        3.2150e+01, -9.5100e+01, -1.0380e+02,  3.2600e+01, -1.3800e+02,\n",
              "        1.7350e+01, -1.3475e+02,  8.5650e+01, -9.2750e+01,  1.7695e+02,\n",
              "        7.7200e+01, -1.8380e+02,  1.0355e+02,  1.8400e+01,  6.1000e+00,\n",
              "       -3.6900e+01, -9.8300e+01, -1.7735e+02,  8.8000e+01,  2.2850e+02,\n",
              "        4.7500e+01, -5.9250e+01, -9.7800e+01,  7.4950e+01, -2.2535e+02,\n",
              "        4.6750e+01,  3.2500e+00,  9.8300e+01,  5.6850e+01,  3.2650e+01,\n",
              "       -5.2900e+01,  9.3100e+01, -7.2400e+01, -1.8590e+02,  2.3050e+01,\n",
              "       -1.3585e+02,  5.6940e+02,  3.2600e+02, -1.2000e+01, -1.4800e+02,\n",
              "        1.3100e+02, -5.8800e+01, -3.7950e+01, -1.1455e+02, -4.5900e+01,\n",
              "       -1.3925e+02, -4.8350e+01,  1.8690e+02, -7.8750e+01,  7.0500e+01,\n",
              "        3.6100e+01,  8.7150e+01,  3.5700e+01,  1.2235e+02,  7.5500e+01,\n",
              "       -7.3500e+01,  1.5750e+01, -2.1500e+01,  1.3000e+00,  4.3250e+01,\n",
              "        1.5970e+02,  5.7250e+01,  3.3350e+01,  1.3150e+01,  5.0700e+01,\n",
              "       -2.4100e+01,  4.8850e+01,  4.6000e+01, -1.0390e+02,  5.3000e+00,\n",
              "       -7.3000e+01,  3.1650e+01,  2.3350e+01, -1.0950e+01,  5.5600e+01,\n",
              "        5.9000e+01, -3.0700e+01, -5.4000e+01,  1.5935e+02, -3.6050e+01,\n",
              "        6.3000e+01,  5.0450e+01, -9.5100e+01, -7.8500e+00, -5.4000e+01,\n",
              "        4.9000e+01, -2.4800e+01, -9.6900e+01,  1.6000e+01, -8.0700e+01,\n",
              "        5.3350e+01,  6.1650e+01,  1.1490e+02, -3.2750e+01,  1.1105e+02,\n",
              "        5.6650e+01,  3.8050e+01,  1.2100e+01, -9.0500e+00, -4.8200e+01,\n",
              "       -8.8000e+01,  1.1925e+02,  1.0050e+01, -8.7400e+01])"
            ]
          },
          "metadata": {
            "tags": []
          },
          "execution_count": 22
        }
      ]
    },
    {
      "cell_type": "code",
      "metadata": {
        "colab": {
          "base_uri": "https://localhost:8080/"
        },
        "id": "CGdpiv9ia9jC",
        "outputId": "d6292d41-df6e-40ae-ea76-422316d8a124"
      },
      "source": [
        "(nifty.values[1:] - nifty.values[:-1]) > 0"
      ],
      "execution_count": null,
      "outputs": [
        {
          "output_type": "execute_result",
          "data": {
            "text/plain": [
              "array([False, False,  True,  True,  True,  True, False, False, False,\n",
              "        True,  True,  True,  True,  True, False, False,  True, False,\n",
              "       False, False, False,  True,  True,  True,  True,  True,  True,\n",
              "       False, False, False, False, False, False, False, False,  True,\n",
              "        True,  True,  True, False, False, False,  True,  True,  True,\n",
              "        True, False,  True,  True,  True,  True,  True,  True,  True,\n",
              "       False, False, False,  True, False,  True,  True,  True,  True,\n",
              "       False, False,  True, False,  True, False,  True,  True,  True,\n",
              "        True, False, False, False,  True, False,  True, False, False,\n",
              "       False, False, False, False, False, False, False,  True, False,\n",
              "        True,  True,  True, False,  True, False,  True,  True,  True,\n",
              "       False,  True, False,  True, False, False,  True,  True,  True,\n",
              "       False,  True, False, False,  True, False,  True, False, False,\n",
              "        True,  True, False, False,  True,  True,  True,  True, False,\n",
              "       False, False, False,  True, False,  True,  True,  True, False,\n",
              "       False, False, False, False, False,  True, False, False,  True,\n",
              "       False,  True, False,  True, False,  True,  True, False,  True,\n",
              "        True,  True, False, False, False,  True,  True,  True, False,\n",
              "       False,  True, False,  True,  True,  True,  True,  True, False,\n",
              "        True, False, False,  True, False,  True,  True, False, False,\n",
              "        True, False, False, False, False, False, False,  True, False,\n",
              "        True,  True,  True,  True,  True,  True, False,  True, False,\n",
              "        True,  True,  True,  True,  True,  True,  True, False,  True,\n",
              "        True, False,  True, False,  True,  True, False,  True,  True,\n",
              "       False, False,  True, False,  True,  True, False, False, False,\n",
              "        True, False, False,  True, False,  True,  True,  True, False,\n",
              "        True,  True,  True,  True, False, False, False,  True,  True,\n",
              "       False])"
            ]
          },
          "metadata": {
            "tags": []
          },
          "execution_count": 23
        }
      ]
    },
    {
      "cell_type": "code",
      "metadata": {
        "colab": {
          "base_uri": "https://localhost:8080/"
        },
        "id": "9USGvjOybK1z",
        "outputId": "57dd231c-ad27-4fd7-9249-ada400566065"
      },
      "source": [
        "np.sum((nifty.values[1:] - nifty.values[:-1]) > 0)"
      ],
      "execution_count": null,
      "outputs": [
        {
          "output_type": "execute_result",
          "data": {
            "text/plain": [
              "129"
            ]
          },
          "metadata": {
            "tags": []
          },
          "execution_count": 24
        }
      ]
    },
    {
      "cell_type": "code",
      "metadata": {
        "id": "F4eY5e84bTRG"
      },
      "source": [],
      "execution_count": null,
      "outputs": []
    }
  ]
}