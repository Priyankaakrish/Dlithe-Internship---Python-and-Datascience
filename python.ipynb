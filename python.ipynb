{
  "nbformat": 4,
  "nbformat_minor": 0,
  "metadata": {
    "colab": {
      "provenance": [],
      "authorship_tag": "ABX9TyMuSZkhxe5ggDf4r6M9D33x",
      "include_colab_link": true
    },
    "kernelspec": {
      "name": "python3",
      "display_name": "Python 3"
    },
    "language_info": {
      "name": "python"
    }
  },
  "cells": [
    {
      "cell_type": "markdown",
      "metadata": {
        "id": "view-in-github",
        "colab_type": "text"
      },
      "source": [
        "<a href=\"https://colab.research.google.com/github/Priyankaakrish/Dlithe-Internship---Python-and-Datascience/blob/main/python.ipynb\" target=\"_parent\"><img src=\"https://colab.research.google.com/assets/colab-badge.svg\" alt=\"Open In Colab\"/></a>"
      ]
    },
    {
      "cell_type": "markdown",
      "source": [
        "If Statements(Conditional Statements)"
      ],
      "metadata": {
        "id": "wLPJNLSLsVbn"
      }
    },
    {
      "cell_type": "code",
      "source": [
        "my_money = 10\n",
        "diary_milk = 40\n",
        "munch = 5\n",
        "if my_money >= 40:\n",
        "  print(\"I will buy it\")\n",
        "elif my_money >= munch:\n",
        "  print(\"I go with munch\")\n",
        "else:\n",
        "  print(\"I will buy some other day!\")"
      ],
      "metadata": {
        "colab": {
          "base_uri": "https://localhost:8080/"
        },
        "id": "Y06xns_9sa-N",
        "outputId": "a8b551e4-fa1b-4578-d2e9-4bf9a35c29f8"
      },
      "execution_count": 1,
      "outputs": [
        {
          "output_type": "stream",
          "name": "stdout",
          "text": [
            "I go with munch\n"
          ]
        }
      ]
    },
    {
      "cell_type": "markdown",
      "source": [
        "#Looping Statements"
      ],
      "metadata": {
        "id": "yZeWVOXXtUUC"
      }
    },
    {
      "cell_type": "code",
      "source": [
        "print(1)\n",
        "print(2)\n",
        "print(3)"
      ],
      "metadata": {
        "colab": {
          "base_uri": "https://localhost:8080/"
        },
        "id": "3to460w2tRQl",
        "outputId": "b9cc6998-831e-4df7-b143-dd2225d46d22"
      },
      "execution_count": 2,
      "outputs": [
        {
          "output_type": "stream",
          "name": "stdout",
          "text": [
            "1\n",
            "2\n",
            "3\n"
          ]
        }
      ]
    },
    {
      "cell_type": "markdown",
      "source": [
        "finding Fibonacci Series"
      ],
      "metadata": {
        "id": "JLef87GBtgCu"
      }
    },
    {
      "cell_type": "code",
      "source": [
        "#how to  write a function\n",
        "def fibonacci(pos):\n",
        "  a = 1\n",
        "  b = 1\n",
        "  for i in range(pos):\n",
        "    temp = a + b\n",
        "    a = b\n",
        "    b = temp\n",
        "    return temp"
      ],
      "metadata": {
        "id": "net_NTnttlel"
      },
      "execution_count": 4,
      "outputs": []
    },
    {
      "cell_type": "code",
      "source": [
        "print(fibonacci(10))"
      ],
      "metadata": {
        "colab": {
          "base_uri": "https://localhost:8080/"
        },
        "id": "VeHxKSupuCcU",
        "outputId": "6c83c088-418d-4299-8bd9-7876a471250b"
      },
      "execution_count": 5,
      "outputs": [
        {
          "output_type": "stream",
          "name": "stdout",
          "text": [
            "2\n"
          ]
        }
      ]
    },
    {
      "cell_type": "code",
      "source": [
        "def fibonacci(pos, a,b):\n",
        "  for i in range(pos):\n",
        "    temp = a + b\n",
        "    a = b\n",
        "    b = temp\n",
        "    return temp"
      ],
      "metadata": {
        "id": "qzWviX2nuiLx"
      },
      "execution_count": null,
      "outputs": []
    },
    {
      "cell_type": "code",
      "source": [
        "fibonacci(7)"
      ],
      "metadata": {
        "colab": {
          "base_uri": "https://localhost:8080/"
        },
        "id": "L5g1tt29vFIt",
        "outputId": "772fe30d-140f-4d01-b33b-7db9463633dd"
      },
      "execution_count": 12,
      "outputs": [
        {
          "output_type": "execute_result",
          "data": {
            "text/plain": [
              "2"
            ]
          },
          "metadata": {},
          "execution_count": 12
        }
      ]
    },
    {
      "cell_type": "code",
      "source": [
        "def fibonacci(pos, a=1,b=1):\n",
        "  for i in range(pos):\n",
        "    temp = a + b\n",
        "    a = b\n",
        "    b = temp\n",
        "    return temp"
      ],
      "metadata": {
        "id": "XgAk2UHNvA8l"
      },
      "execution_count": 10,
      "outputs": []
    },
    {
      "cell_type": "code",
      "source": [
        "fibonacci(10)"
      ],
      "metadata": {
        "colab": {
          "base_uri": "https://localhost:8080/"
        },
        "id": "sq2U52OvvKbG",
        "outputId": "39bf5073-bdfd-417a-c892-23ac7ab08a87"
      },
      "execution_count": 11,
      "outputs": [
        {
          "output_type": "execute_result",
          "data": {
            "text/plain": [
              "2"
            ]
          },
          "metadata": {},
          "execution_count": 11
        }
      ]
    },
    {
      "cell_type": "markdown",
      "source": [
        "Computing BMI"
      ],
      "metadata": {
        "id": "wvltqShuvbBT"
      }
    },
    {
      "cell_type": "code",
      "source": [
        "weight = int(input());\n",
        "height = float(input());\n",
        "x = weight/float(height*height);\n",
        "if x < 18.5:\n",
        "    print('Underweight')\n",
        "if x>=18.5 and x<25:\n",
        "    print(\"Normal\")\n",
        "if x >= 25 and x < 30:\n",
        "   print('Overweight')\n",
        "if x >= 30:\n",
        "   print('Obesity')\n"
      ],
      "metadata": {
        "colab": {
          "base_uri": "https://localhost:8080/"
        },
        "id": "c6Gy1hqhzZGC",
        "outputId": "eb5b6f34-d4a8-45cd-e42c-5c0a7c5e8ac5"
      },
      "execution_count": 16,
      "outputs": [
        {
          "output_type": "stream",
          "name": "stdout",
          "text": [
            "25\n",
            "16\n",
            "Underweight\n"
          ]
        }
      ]
    },
    {
      "cell_type": "code",
      "source": [
        "import seaborn as sns\n",
        "import pandas as pd\n",
        "import numpy as np\n"
      ],
      "metadata": {
        "id": "PLDHPs5_z9Fq"
      },
      "execution_count": 17,
      "outputs": []
    },
    {
      "cell_type": "code",
      "source": [
        "import urllib.request"
      ],
      "metadata": {
        "id": "5PNLEQAC0HyL"
      },
      "execution_count": 18,
      "outputs": []
    },
    {
      "cell_type": "code",
      "source": [
        "import urllib.request\n",
        "\n",
        "url = \"https://data.covid19india.org/states_daily.json\"\n",
        "urllib.request.urlretrieve(url, 'data.json')\n"
      ],
      "metadata": {
        "colab": {
          "base_uri": "https://localhost:8080/"
        },
        "id": "4dP9vJp312Wn",
        "outputId": "6ac3e45a-02eb-413d-e571-e7e80d19db76"
      },
      "execution_count": 21,
      "outputs": [
        {
          "output_type": "execute_result",
          "data": {
            "text/plain": [
              "('data.json', <http.client.HTTPMessage at 0x78a1d6e6b070>)"
            ]
          },
          "metadata": {},
          "execution_count": 21
        }
      ]
    },
    {
      "cell_type": "code",
      "source": [
        "covid_data = pd.read_json('data.json')"
      ],
      "metadata": {
        "id": "LghTtovM1-Up"
      },
      "execution_count": 22,
      "outputs": []
    },
    {
      "cell_type": "code",
      "source": [
        "covid_data"
      ],
      "metadata": {
        "colab": {
          "base_uri": "https://localhost:8080/",
          "height": 424
        },
        "id": "-USawv172KMr",
        "outputId": "be898820-742d-4aa1-a6cc-11352823814a"
      },
      "execution_count": 23,
      "outputs": [
        {
          "output_type": "execute_result",
          "data": {
            "text/plain": [
              "                                           states_daily\n",
              "0     {'an': '0', 'ap': '1', 'ar': '0', 'as': '0', '...\n",
              "1     {'an': '0', 'ap': '0', 'ar': '0', 'as': '0', '...\n",
              "2     {'an': '0', 'ap': '0', 'ar': '0', 'as': '0', '...\n",
              "3     {'an': '0', 'ap': '0', 'ar': '0', 'as': '0', '...\n",
              "4     {'an': '0', 'ap': '0', 'ar': '0', 'as': '0', '...\n",
              "...                                                 ...\n",
              "1558  {'an': '2', 'ap': '1835', 'ar': '255', 'as': '...\n",
              "1559  {'an': '0', 'ap': '16', 'ar': '0', 'as': '10',...\n",
              "1560  {'an': '1', 'ap': '909', 'ar': '165', 'as': '7...\n",
              "1561  {'an': '0', 'ap': '1543', 'ar': '249', 'as': '...\n",
              "1562  {'an': '0', 'ap': '13', 'ar': '0', 'as': '10',...\n",
              "\n",
              "[1563 rows x 1 columns]"
            ],
            "text/html": [
              "\n",
              "  <div id=\"df-633268ba-f8e4-41aa-a7d2-0b5766d09df5\" class=\"colab-df-container\">\n",
              "    <div>\n",
              "<style scoped>\n",
              "    .dataframe tbody tr th:only-of-type {\n",
              "        vertical-align: middle;\n",
              "    }\n",
              "\n",
              "    .dataframe tbody tr th {\n",
              "        vertical-align: top;\n",
              "    }\n",
              "\n",
              "    .dataframe thead th {\n",
              "        text-align: right;\n",
              "    }\n",
              "</style>\n",
              "<table border=\"1\" class=\"dataframe\">\n",
              "  <thead>\n",
              "    <tr style=\"text-align: right;\">\n",
              "      <th></th>\n",
              "      <th>states_daily</th>\n",
              "    </tr>\n",
              "  </thead>\n",
              "  <tbody>\n",
              "    <tr>\n",
              "      <th>0</th>\n",
              "      <td>{'an': '0', 'ap': '1', 'ar': '0', 'as': '0', '...</td>\n",
              "    </tr>\n",
              "    <tr>\n",
              "      <th>1</th>\n",
              "      <td>{'an': '0', 'ap': '0', 'ar': '0', 'as': '0', '...</td>\n",
              "    </tr>\n",
              "    <tr>\n",
              "      <th>2</th>\n",
              "      <td>{'an': '0', 'ap': '0', 'ar': '0', 'as': '0', '...</td>\n",
              "    </tr>\n",
              "    <tr>\n",
              "      <th>3</th>\n",
              "      <td>{'an': '0', 'ap': '0', 'ar': '0', 'as': '0', '...</td>\n",
              "    </tr>\n",
              "    <tr>\n",
              "      <th>4</th>\n",
              "      <td>{'an': '0', 'ap': '0', 'ar': '0', 'as': '0', '...</td>\n",
              "    </tr>\n",
              "    <tr>\n",
              "      <th>...</th>\n",
              "      <td>...</td>\n",
              "    </tr>\n",
              "    <tr>\n",
              "      <th>1558</th>\n",
              "      <td>{'an': '2', 'ap': '1835', 'ar': '255', 'as': '...</td>\n",
              "    </tr>\n",
              "    <tr>\n",
              "      <th>1559</th>\n",
              "      <td>{'an': '0', 'ap': '16', 'ar': '0', 'as': '10',...</td>\n",
              "    </tr>\n",
              "    <tr>\n",
              "      <th>1560</th>\n",
              "      <td>{'an': '1', 'ap': '909', 'ar': '165', 'as': '7...</td>\n",
              "    </tr>\n",
              "    <tr>\n",
              "      <th>1561</th>\n",
              "      <td>{'an': '0', 'ap': '1543', 'ar': '249', 'as': '...</td>\n",
              "    </tr>\n",
              "    <tr>\n",
              "      <th>1562</th>\n",
              "      <td>{'an': '0', 'ap': '13', 'ar': '0', 'as': '10',...</td>\n",
              "    </tr>\n",
              "  </tbody>\n",
              "</table>\n",
              "<p>1563 rows × 1 columns</p>\n",
              "</div>\n",
              "    <div class=\"colab-df-buttons\">\n",
              "\n",
              "  <div class=\"colab-df-container\">\n",
              "    <button class=\"colab-df-convert\" onclick=\"convertToInteractive('df-633268ba-f8e4-41aa-a7d2-0b5766d09df5')\"\n",
              "            title=\"Convert this dataframe to an interactive table.\"\n",
              "            style=\"display:none;\">\n",
              "\n",
              "  <svg xmlns=\"http://www.w3.org/2000/svg\" height=\"24px\" viewBox=\"0 -960 960 960\">\n",
              "    <path d=\"M120-120v-720h720v720H120Zm60-500h600v-160H180v160Zm220 220h160v-160H400v160Zm0 220h160v-160H400v160ZM180-400h160v-160H180v160Zm440 0h160v-160H620v160ZM180-180h160v-160H180v160Zm440 0h160v-160H620v160Z\"/>\n",
              "  </svg>\n",
              "    </button>\n",
              "\n",
              "  <style>\n",
              "    .colab-df-container {\n",
              "      display:flex;\n",
              "      gap: 12px;\n",
              "    }\n",
              "\n",
              "    .colab-df-convert {\n",
              "      background-color: #E8F0FE;\n",
              "      border: none;\n",
              "      border-radius: 50%;\n",
              "      cursor: pointer;\n",
              "      display: none;\n",
              "      fill: #1967D2;\n",
              "      height: 32px;\n",
              "      padding: 0 0 0 0;\n",
              "      width: 32px;\n",
              "    }\n",
              "\n",
              "    .colab-df-convert:hover {\n",
              "      background-color: #E2EBFA;\n",
              "      box-shadow: 0px 1px 2px rgba(60, 64, 67, 0.3), 0px 1px 3px 1px rgba(60, 64, 67, 0.15);\n",
              "      fill: #174EA6;\n",
              "    }\n",
              "\n",
              "    .colab-df-buttons div {\n",
              "      margin-bottom: 4px;\n",
              "    }\n",
              "\n",
              "    [theme=dark] .colab-df-convert {\n",
              "      background-color: #3B4455;\n",
              "      fill: #D2E3FC;\n",
              "    }\n",
              "\n",
              "    [theme=dark] .colab-df-convert:hover {\n",
              "      background-color: #434B5C;\n",
              "      box-shadow: 0px 1px 3px 1px rgba(0, 0, 0, 0.15);\n",
              "      filter: drop-shadow(0px 1px 2px rgba(0, 0, 0, 0.3));\n",
              "      fill: #FFFFFF;\n",
              "    }\n",
              "  </style>\n",
              "\n",
              "    <script>\n",
              "      const buttonEl =\n",
              "        document.querySelector('#df-633268ba-f8e4-41aa-a7d2-0b5766d09df5 button.colab-df-convert');\n",
              "      buttonEl.style.display =\n",
              "        google.colab.kernel.accessAllowed ? 'block' : 'none';\n",
              "\n",
              "      async function convertToInteractive(key) {\n",
              "        const element = document.querySelector('#df-633268ba-f8e4-41aa-a7d2-0b5766d09df5');\n",
              "        const dataTable =\n",
              "          await google.colab.kernel.invokeFunction('convertToInteractive',\n",
              "                                                    [key], {});\n",
              "        if (!dataTable) return;\n",
              "\n",
              "        const docLinkHtml = 'Like what you see? Visit the ' +\n",
              "          '<a target=\"_blank\" href=https://colab.research.google.com/notebooks/data_table.ipynb>data table notebook</a>'\n",
              "          + ' to learn more about interactive tables.';\n",
              "        element.innerHTML = '';\n",
              "        dataTable['output_type'] = 'display_data';\n",
              "        await google.colab.output.renderOutput(dataTable, element);\n",
              "        const docLink = document.createElement('div');\n",
              "        docLink.innerHTML = docLinkHtml;\n",
              "        element.appendChild(docLink);\n",
              "      }\n",
              "    </script>\n",
              "  </div>\n",
              "\n",
              "\n",
              "<div id=\"df-dd5696ae-54bd-4dfe-86dc-6ee1b60badbe\">\n",
              "  <button class=\"colab-df-quickchart\" onclick=\"quickchart('df-dd5696ae-54bd-4dfe-86dc-6ee1b60badbe')\"\n",
              "            title=\"Suggest charts\"\n",
              "            style=\"display:none;\">\n",
              "\n",
              "<svg xmlns=\"http://www.w3.org/2000/svg\" height=\"24px\"viewBox=\"0 0 24 24\"\n",
              "     width=\"24px\">\n",
              "    <g>\n",
              "        <path d=\"M19 3H5c-1.1 0-2 .9-2 2v14c0 1.1.9 2 2 2h14c1.1 0 2-.9 2-2V5c0-1.1-.9-2-2-2zM9 17H7v-7h2v7zm4 0h-2V7h2v10zm4 0h-2v-4h2v4z\"/>\n",
              "    </g>\n",
              "</svg>\n",
              "  </button>\n",
              "\n",
              "<style>\n",
              "  .colab-df-quickchart {\n",
              "      --bg-color: #E8F0FE;\n",
              "      --fill-color: #1967D2;\n",
              "      --hover-bg-color: #E2EBFA;\n",
              "      --hover-fill-color: #174EA6;\n",
              "      --disabled-fill-color: #AAA;\n",
              "      --disabled-bg-color: #DDD;\n",
              "  }\n",
              "\n",
              "  [theme=dark] .colab-df-quickchart {\n",
              "      --bg-color: #3B4455;\n",
              "      --fill-color: #D2E3FC;\n",
              "      --hover-bg-color: #434B5C;\n",
              "      --hover-fill-color: #FFFFFF;\n",
              "      --disabled-bg-color: #3B4455;\n",
              "      --disabled-fill-color: #666;\n",
              "  }\n",
              "\n",
              "  .colab-df-quickchart {\n",
              "    background-color: var(--bg-color);\n",
              "    border: none;\n",
              "    border-radius: 50%;\n",
              "    cursor: pointer;\n",
              "    display: none;\n",
              "    fill: var(--fill-color);\n",
              "    height: 32px;\n",
              "    padding: 0;\n",
              "    width: 32px;\n",
              "  }\n",
              "\n",
              "  .colab-df-quickchart:hover {\n",
              "    background-color: var(--hover-bg-color);\n",
              "    box-shadow: 0 1px 2px rgba(60, 64, 67, 0.3), 0 1px 3px 1px rgba(60, 64, 67, 0.15);\n",
              "    fill: var(--button-hover-fill-color);\n",
              "  }\n",
              "\n",
              "  .colab-df-quickchart-complete:disabled,\n",
              "  .colab-df-quickchart-complete:disabled:hover {\n",
              "    background-color: var(--disabled-bg-color);\n",
              "    fill: var(--disabled-fill-color);\n",
              "    box-shadow: none;\n",
              "  }\n",
              "\n",
              "  .colab-df-spinner {\n",
              "    border: 2px solid var(--fill-color);\n",
              "    border-color: transparent;\n",
              "    border-bottom-color: var(--fill-color);\n",
              "    animation:\n",
              "      spin 1s steps(1) infinite;\n",
              "  }\n",
              "\n",
              "  @keyframes spin {\n",
              "    0% {\n",
              "      border-color: transparent;\n",
              "      border-bottom-color: var(--fill-color);\n",
              "      border-left-color: var(--fill-color);\n",
              "    }\n",
              "    20% {\n",
              "      border-color: transparent;\n",
              "      border-left-color: var(--fill-color);\n",
              "      border-top-color: var(--fill-color);\n",
              "    }\n",
              "    30% {\n",
              "      border-color: transparent;\n",
              "      border-left-color: var(--fill-color);\n",
              "      border-top-color: var(--fill-color);\n",
              "      border-right-color: var(--fill-color);\n",
              "    }\n",
              "    40% {\n",
              "      border-color: transparent;\n",
              "      border-right-color: var(--fill-color);\n",
              "      border-top-color: var(--fill-color);\n",
              "    }\n",
              "    60% {\n",
              "      border-color: transparent;\n",
              "      border-right-color: var(--fill-color);\n",
              "    }\n",
              "    80% {\n",
              "      border-color: transparent;\n",
              "      border-right-color: var(--fill-color);\n",
              "      border-bottom-color: var(--fill-color);\n",
              "    }\n",
              "    90% {\n",
              "      border-color: transparent;\n",
              "      border-bottom-color: var(--fill-color);\n",
              "    }\n",
              "  }\n",
              "</style>\n",
              "\n",
              "  <script>\n",
              "    async function quickchart(key) {\n",
              "      const quickchartButtonEl =\n",
              "        document.querySelector('#' + key + ' button');\n",
              "      quickchartButtonEl.disabled = true;  // To prevent multiple clicks.\n",
              "      quickchartButtonEl.classList.add('colab-df-spinner');\n",
              "      try {\n",
              "        const charts = await google.colab.kernel.invokeFunction(\n",
              "            'suggestCharts', [key], {});\n",
              "      } catch (error) {\n",
              "        console.error('Error during call to suggestCharts:', error);\n",
              "      }\n",
              "      quickchartButtonEl.classList.remove('colab-df-spinner');\n",
              "      quickchartButtonEl.classList.add('colab-df-quickchart-complete');\n",
              "    }\n",
              "    (() => {\n",
              "      let quickchartButtonEl =\n",
              "        document.querySelector('#df-dd5696ae-54bd-4dfe-86dc-6ee1b60badbe button');\n",
              "      quickchartButtonEl.style.display =\n",
              "        google.colab.kernel.accessAllowed ? 'block' : 'none';\n",
              "    })();\n",
              "  </script>\n",
              "</div>\n",
              "    </div>\n",
              "  </div>\n"
            ]
          },
          "metadata": {},
          "execution_count": 23
        }
      ]
    },
    {
      "cell_type": "code",
      "source": [
        "import seaborn as sns\n",
        "import matplotlib.pyplot as plt\n",
        "\n",
        "# Example data (replace this with your actual data)\n",
        "x = [1.0, 2.0, 3.0, 2.5, 3.5, 4.0]\n",
        "\n",
        "# Create a kernel density plot\n",
        "sns.kdeplot(x)\n",
        "plt.show()\n"
      ],
      "metadata": {
        "colab": {
          "base_uri": "https://localhost:8080/",
          "height": 430
        },
        "id": "KekGrXxI2q_M",
        "outputId": "78d76580-0e10-45dd-ae89-d05934710880"
      },
      "execution_count": 26,
      "outputs": [
        {
          "output_type": "display_data",
          "data": {
            "text/plain": [
              "<Figure size 640x480 with 1 Axes>"
            ],
            "image/png": "[encoded data removed]"
          },
          "metadata": {}
        }
      ]
    },
    {
      "cell_type": "code",
      "source": [
        "sns.kdeplot(x, shade=True)"
      ],
      "metadata": {
        "colab": {
          "base_uri": "https://localhost:8080/",
          "height": 552
        },
        "id": "LIZ7BCKa2wZp",
        "outputId": "ea47309e-35c9-4899-ae08-82b7d8aa6d9b"
      },
      "execution_count": 27,
      "outputs": [
        {
          "output_type": "stream",
          "name": "stderr",
          "text": [
            "<ipython-input-27-d646ed801c0f>:1: FutureWarning: \n",
            "\n",
            "`shade` is now deprecated in favor of `fill`; setting `fill=True`.\n",
            "This will become an error in seaborn v0.14.0; please update your code.\n",
            "\n",
            "  sns.kdeplot(x, shade=True)\n"
          ]
        },
        {
          "output_type": "execute_result",
          "data": {
            "text/plain": [
              "<Axes: ylabel='Density'>"
            ]
          },
          "metadata": {},
          "execution_count": 27
        },
        {
          "output_type": "display_data",
          "data": {
            "text/plain": [
              "<Figure size 640x480 with 1 Axes>"
            ],
            "image/png": "[encoded data removed]"
          },
          "metadata": {}
        }
      ]
    },
    {
      "cell_type": "code",
      "source": [
        "import seaborn as sns\n",
        "import matplotlib.pyplot as plt\n",
        "\n",
        "# Load the built-in 'diamonds' dataset from Seaborn\n",
        "diamonds = sns.load_dataset('diamonds')\n",
        "\n",
        "# Display the first few rows of the dataset to understand its structure\n",
        "print(diamonds.head())\n",
        "\n",
        "# Count the occurrences of each clarity level\n",
        "clarity_count = diamonds.groupby('clarity')['clarity'].count()\n",
        "\n",
        "# Create a bar plot\n",
        "sns.barplot(x=clarity_count.index, y=clarity_count.values)\n",
        "\n",
        "# Add labels and title\n",
        "plt.xlabel('Clarity')\n",
        "plt.ylabel('Count')\n",
        "plt.title('Count of Diamonds by Clarity')\n",
        "\n",
        "# Display the plot\n",
        "plt.show()\n"
      ],
      "metadata": {
        "colab": {
          "base_uri": "https://localhost:8080/",
          "height": 576
        },
        "id": "BqkqZ1cC32dF",
        "outputId": "d922b840-65ef-4058-e5ee-56e38cb6e760"
      },
      "execution_count": 31,
      "outputs": [
        {
          "output_type": "stream",
          "name": "stdout",
          "text": [
            "   carat      cut color clarity  depth  table  price     x     y     z\n",
            "0   0.23    Ideal     E     SI2   61.5   55.0    326  3.95  3.98  2.43\n",
            "1   0.21  Premium     E     SI1   59.8   61.0    326  3.89  3.84  2.31\n",
            "2   0.23     Good     E     VS1   56.9   65.0    327  4.05  4.07  2.31\n",
            "3   0.29  Premium     I     VS2   62.4   58.0    334  4.20  4.23  2.63\n",
            "4   0.31     Good     J     SI2   63.3   58.0    335  4.34  4.35  2.75\n"
          ]
        },
        {
          "output_type": "display_data",
          "data": {
            "text/plain": [
              "<Figure size 640x480 with 1 Axes>"
            ],
            "image/png": "[encoded data removed]"
          },
          "metadata": {}
        }
      ]
    },
    {
      "cell_type": "markdown",
      "source": [
        "Stock- Market Billing System"
      ],
      "metadata": {
        "id": "xHlKeHgk40HH"
      }
    },
    {
      "cell_type": "code",
      "source": [
        "class Stock:\n",
        "    def __init__(self, symbol, name, price, quantity):\n",
        "        self.symbol = symbol\n",
        "        self.name = name\n",
        "        self.price = price\n",
        "        self.quantity = quantity\n",
        "\n",
        "    def __str__(self):\n",
        "        return f\"{self.symbol} - {self.name}: {self.quantity} shares at ${self.price} each\"\n",
        "\n",
        "class BillingSystem:\n",
        "    def __init__(self):\n",
        "        self.stocks = {}\n",
        "\n",
        "    def add_stock(self, stock):\n",
        "        if stock.symbol in self.stocks:\n",
        "            self.stocks[stock.symbol].quantity += stock.quantity\n",
        "        else:\n",
        "            self.stocks[stock.symbol] = stock\n",
        "\n",
        "    def process_transaction(self, symbol, quantity):\n",
        "        if symbol in self.stocks and self.stocks[symbol].quantity >= quantity:\n",
        "            self.stocks[symbol].quantity -= quantity\n",
        "            return True\n",
        "        else:\n",
        "            return False\n",
        "\n",
        "    def generate_bill(self):\n",
        "        total_amount = 0\n",
        "        for stock in self.stocks.values():\n",
        "            total_amount += stock.price * stock.quantity\n",
        "            print(stock)\n",
        "        print(\"\\nTotal Amount: ${:.2f}\".format(total_amount))\n",
        "\n",
        "# Example usage\n",
        "if __name__ == \"__main__\":\n",
        "    # Create stocks\n",
        "    stock1 = Stock(\"AAPL\", \"Apple Inc.\", 150.0, 10)\n",
        "    stock2 = Stock(\"GOOGL\", \"Alphabet Inc.\", 2500.0, 5)\n",
        "    stock3 = Stock(\"MSFT\", \"Microsoft Corp.\", 300.0, 8)\n",
        "\n",
        "    # Create billing system\n",
        "    billing_system = BillingSystem()\n",
        "\n",
        "    # Add stocks to the system\n",
        "    billing_system.add_stock(stock1)\n",
        "    billing_system.add_stock(stock2)\n",
        "    billing_system.add_stock(stock3)\n",
        "\n",
        "    # Process transactions\n",
        "    billing_system.process_transaction(\"AAPL\", 2)\n",
        "    billing_system.process_transaction(\"GOOGL\", 3)\n",
        "    billing_system.process_transaction(\"MSFT\", 5)\n",
        "\n",
        "    # Generate and display the bill\n",
        "    billing_system.generate_bill()\n"
      ],
      "metadata": {
        "colab": {
          "base_uri": "https://localhost:8080/"
        },
        "id": "L6pUajC85ByI",
        "outputId": "cdf4d641-6c8a-46ae-f047-e2b2ffc7984b"
      },
      "execution_count": 37,
      "outputs": [
        {
          "output_type": "stream",
          "name": "stdout",
          "text": [
            "AAPL - Apple Inc.: 8 shares at $150.0 each\n",
            "GOOGL - Alphabet Inc.: 2 shares at $2500.0 each\n",
            "MSFT - Microsoft Corp.: 3 shares at $300.0 each\n",
            "\n",
            "Total Amount: $7100.00\n"
          ]
        }
      ]
    }
  ]
}