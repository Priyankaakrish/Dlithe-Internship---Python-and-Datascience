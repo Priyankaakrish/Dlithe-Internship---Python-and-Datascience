{
  "nbformat": 4,
  "nbformat_minor": 0,
  "metadata": {
    "colab": {
      "provenance": [],
      "include_colab_link": true
    },
    "kernelspec": {
      "name": "python3",
      "display_name": "Python 3"
    },
    "language_info": {
      "name": "python"
    }
  },
  "cells": [
    {
      "cell_type": "markdown",
      "metadata": {
        "id": "view-in-github",
        "colab_type": "text"
      },
      "source": [
        "<a href=\"https://colab.research.google.com/github/priyanka-kris/Dlithe-Internship---Python-and-Datascience/blob/main/Day4/Data_Science.ipynb\" target=\"_parent\"><img src=\"https://colab.research.google.com/assets/colab-badge.svg\" alt=\"Open In Colab\"/></a>"
      ]
    },
    {
      "cell_type": "markdown",
      "source": [
        "**Day 4**"
      ],
      "metadata": {
        "id": "jUmS4QZuXuD0"
      }
    },
    {
      "cell_type": "code",
      "metadata": {
        "id": "pB1AkSXsRUCo"
      },
      "source": [
        "def fibo_seq(n, a = 1, b = 1):\n",
        "  \"\"\"\n",
        "    This computes n'th number in \n",
        "    fibonacci sequence starting with\n",
        "    a and b\n",
        "  \"\"\"\n",
        "  for i in range(n):\n",
        "    temp = a + b\n",
        "    a = b\n",
        "    b = temp\n",
        "  return temp"
      ],
      "execution_count": null,
      "outputs": []
    },
    {
      "cell_type": "code",
      "metadata": {
        "id": "vi5NDKWgRoRu"
      },
      "source": [
        "fibo_seq?"
      ],
      "execution_count": null,
      "outputs": []
    },
    {
      "cell_type": "code",
      "metadata": {
        "id": "CKRohD7CRrSX"
      },
      "source": [
        "def fibo_seq(n, a = 1, b = 1):\n",
        "  \"\"\"\n",
        "    This computes n'th number in \n",
        "    fibonacci sequence starting with\n",
        "    a and b.\n",
        "    Value of a and b is default set to 1\n",
        "  \"\"\"\n",
        "  for i in range(n):\n",
        "    temp = a + b\n",
        "    a = b\n",
        "    b = temp\n",
        "  return temp"
      ],
      "execution_count": null,
      "outputs": []
    },
    {
      "cell_type": "code",
      "metadata": {
        "id": "qOrKhKsKSuTi"
      },
      "source": [
        "fibo_seq?"
      ],
      "execution_count": null,
      "outputs": []
    },
    {
      "cell_type": "code",
      "metadata": {
        "id": "WQNon-_TS1MK"
      },
      "source": [
        "def input_single_float(prompt):\n",
        "  \"\"\"\n",
        "    This function will return an floating \n",
        "    point Number.\n",
        "  \"\"\"\n",
        "  user_input = input(prompt)\n",
        "  converted_input = float(user_input)\n",
        "  return converted_input"
      ],
      "execution_count": null,
      "outputs": []
    },
    {
      "cell_type": "code",
      "metadata": {
        "id": "tjZTVsIxUGZm"
      },
      "source": [
        "input_single_float?"
      ],
      "execution_count": null,
      "outputs": []
    },
    {
      "cell_type": "code",
      "metadata": {
        "colab": {
          "base_uri": "https://localhost:8080/"
        },
        "id": "7NX6gTLzUHjy",
        "outputId": "098cb10d-a77d-408b-81fc-3fc357c097b5"
      },
      "source": [
        "print(input_single_float(\"Enter float no\"))"
      ],
      "execution_count": null,
      "outputs": [
        {
          "output_type": "stream",
          "text": [
            "Enter a float4.5\n",
            "4.5\n"
          ],
          "name": "stdout"
        }
      ]
    },
    {
      "cell_type": "code",
      "metadata": {
        "colab": {
          "base_uri": "https://localhost:8080/",
          "height": 305
        },
        "id": "UEy2Jki-UPSf",
        "outputId": "f5c56f99-1a65-4e01-fa86-47f188e57592"
      },
      "source": [
        "print(input_single_float(\"Enter float no\"))"
      ],
      "execution_count": null,
      "outputs": [
        {
          "output_type": "stream",
          "text": [
            "Enter a floatdata science\n"
          ],
          "name": "stdout"
        },
        {
          "output_type": "error",
          "ename": "ValueError",
          "evalue": "ignored",
          "traceback": [
            "\u001b[0;31m---------------------------------------------------------------------------\u001b[0m",
            "\u001b[0;31mValueError\u001b[0m                                Traceback (most recent call last)",
            "\u001b[0;32m<ipython-input-15-3fd137cf5d5c>\u001b[0m in \u001b[0;36m<module>\u001b[0;34m()\u001b[0m\n\u001b[0;32m----> 1\u001b[0;31m \u001b[0mprint\u001b[0m\u001b[0;34m(\u001b[0m\u001b[0minput_single_float\u001b[0m\u001b[0;34m(\u001b[0m\u001b[0;34m\"Enter float no\"\u001b[0m\u001b[0;34m)\u001b[0m\u001b[0;34m)\u001b[0m\u001b[0;34m\u001b[0m\u001b[0;34m\u001b[0m\u001b[0m\n\u001b[0m",
            "\u001b[0;32m<ipython-input-11-e88fee9c2013>\u001b[0m in \u001b[0;36minput_single_float\u001b[0;34m(prompt)\u001b[0m\n\u001b[1;32m      5\u001b[0m   \"\"\"\n\u001b[1;32m      6\u001b[0m   \u001b[0muser_input\u001b[0m \u001b[0;34m=\u001b[0m \u001b[0minput\u001b[0m\u001b[0;34m(\u001b[0m\u001b[0;34m\"Enter a float\"\u001b[0m\u001b[0;34m)\u001b[0m\u001b[0;34m\u001b[0m\u001b[0;34m\u001b[0m\u001b[0m\n\u001b[0;32m----> 7\u001b[0;31m   \u001b[0mconverted_input\u001b[0m \u001b[0;34m=\u001b[0m \u001b[0mfloat\u001b[0m\u001b[0;34m(\u001b[0m\u001b[0muser_input\u001b[0m\u001b[0;34m)\u001b[0m\u001b[0;34m\u001b[0m\u001b[0;34m\u001b[0m\u001b[0m\n\u001b[0m\u001b[1;32m      8\u001b[0m   \u001b[0;32mreturn\u001b[0m \u001b[0mconverted_input\u001b[0m\u001b[0;34m\u001b[0m\u001b[0;34m\u001b[0m\u001b[0m\n",
            "\u001b[0;31mValueError\u001b[0m: could not convert string to float: 'data science'"
          ]
        }
      ]
    },
    {
      "cell_type": "code",
      "metadata": {
        "id": "lrmPn7QBUcXS"
      },
      "source": [
        "def input_single_float(prompt):\n",
        "  \"\"\"\n",
        "    This function will return an floating \n",
        "    point Number.\n",
        "  \"\"\"\n",
        "  user_input = input(prompt)\n",
        "  try:\n",
        "    converted_input = float(user_input)\n",
        "  except:\n",
        "    print(\"Please enter float\")\n",
        "  return converted_input"
      ],
      "execution_count": null,
      "outputs": []
    },
    {
      "cell_type": "code",
      "metadata": {
        "colab": {
          "base_uri": "https://localhost:8080/"
        },
        "id": "4Ba6_wPBV6PB",
        "outputId": "94efbc2b-76d3-4d8e-a361-ad2ceb7155a8"
      },
      "source": [
        "print(input_single_float(\"enter the float\"))"
      ],
      "execution_count": null,
      "outputs": [
        {
          "output_type": "stream",
          "text": [
            "enter the float4.5\n",
            "4.5\n"
          ],
          "name": "stdout"
        }
      ]
    },
    {
      "cell_type": "code",
      "metadata": {
        "colab": {
          "base_uri": "https://localhost:8080/",
          "height": 305
        },
        "id": "GSdOAe1yWJD2",
        "outputId": "832b219a-b401-4b58-e1d0-c96b31e68eb3"
      },
      "source": [
        "print(input_single_float(\"enter the float\"))"
      ],
      "execution_count": null,
      "outputs": [
        {
          "output_type": "stream",
          "text": [
            "enter the floatsohan\n",
            "Please enter float\n"
          ],
          "name": "stdout"
        },
        {
          "output_type": "error",
          "ename": "UnboundLocalError",
          "evalue": "ignored",
          "traceback": [
            "\u001b[0;31m---------------------------------------------------------------------------\u001b[0m",
            "\u001b[0;31mUnboundLocalError\u001b[0m                         Traceback (most recent call last)",
            "\u001b[0;32m<ipython-input-18-a1a7609eaf4b>\u001b[0m in \u001b[0;36m<module>\u001b[0;34m()\u001b[0m\n\u001b[0;32m----> 1\u001b[0;31m \u001b[0mprint\u001b[0m\u001b[0;34m(\u001b[0m\u001b[0minput_single_float\u001b[0m\u001b[0;34m(\u001b[0m\u001b[0;34m\"enter the float\"\u001b[0m\u001b[0;34m)\u001b[0m\u001b[0;34m)\u001b[0m\u001b[0;34m\u001b[0m\u001b[0;34m\u001b[0m\u001b[0m\n\u001b[0m",
            "\u001b[0;32m<ipython-input-16-5313d4d151e1>\u001b[0m in \u001b[0;36minput_single_float\u001b[0;34m(prompt)\u001b[0m\n\u001b[1;32m      9\u001b[0m   \u001b[0;32mexcept\u001b[0m\u001b[0;34m:\u001b[0m\u001b[0;34m\u001b[0m\u001b[0;34m\u001b[0m\u001b[0m\n\u001b[1;32m     10\u001b[0m     \u001b[0mprint\u001b[0m\u001b[0;34m(\u001b[0m\u001b[0;34m\"Please enter float\"\u001b[0m\u001b[0;34m)\u001b[0m\u001b[0;34m\u001b[0m\u001b[0;34m\u001b[0m\u001b[0m\n\u001b[0;32m---> 11\u001b[0;31m   \u001b[0;32mreturn\u001b[0m \u001b[0mconverted_input\u001b[0m\u001b[0;34m\u001b[0m\u001b[0;34m\u001b[0m\u001b[0m\n\u001b[0m",
            "\u001b[0;31mUnboundLocalError\u001b[0m: local variable 'converted_input' referenced before assignment"
          ]
        }
      ]
    },
    {
      "cell_type": "code",
      "metadata": {
        "id": "RO-KfSbVWLua"
      },
      "source": [
        "def input_single_float(prompt):\n",
        "  \"\"\"\n",
        "    This function will return an floating \n",
        "    point Number.\n",
        "  \"\"\"\n",
        "  user_input = input(prompt)\n",
        "  try:\n",
        "    converted_input = float(user_input)\n",
        "  except:\n",
        "    print(\"Please enter float\")\n",
        "    converted_input = None\n",
        "  return converted_input"
      ],
      "execution_count": null,
      "outputs": []
    },
    {
      "cell_type": "code",
      "metadata": {
        "colab": {
          "base_uri": "https://localhost:8080/"
        },
        "id": "M3ehdtg-Wgu2",
        "outputId": "1eb48063-2bfd-4ff7-c525-ae08a9d4106d"
      },
      "source": [
        "print(type(input_single_float(\"enter the float\")))"
      ],
      "execution_count": null,
      "outputs": [
        {
          "output_type": "stream",
          "text": [
            "enter the floatsohan\n",
            "Please enter float\n",
            "<class 'NoneType'>\n"
          ],
          "name": "stdout"
        }
      ]
    },
    {
      "cell_type": "markdown",
      "metadata": {
        "id": "uECPZDzkWuNU"
      },
      "source": [
        "# Lists"
      ]
    },
    {
      "cell_type": "code",
      "metadata": {
        "id": "biJd1Z4LWh6S"
      },
      "source": [
        "course_name = \"Foundations of data science\""
      ],
      "execution_count": null,
      "outputs": []
    },
    {
      "cell_type": "code",
      "metadata": {
        "colab": {
          "base_uri": "https://localhost:8080/"
        },
        "id": "GJDjDyKmXv4f",
        "outputId": "5d4a4a52-f106-4ebb-a4de-09d629835b86"
      },
      "source": [
        "words = course_name.split()\n",
        "print(words)"
      ],
      "execution_count": null,
      "outputs": [
        {
          "output_type": "stream",
          "text": [
            "['Foundations', 'of', 'data', 'science']\n"
          ],
          "name": "stdout"
        }
      ]
    },
    {
      "cell_type": "code",
      "metadata": {
        "colab": {
          "base_uri": "https://localhost:8080/"
        },
        "id": "n_YXe__tX3KG",
        "outputId": "a38019dc-04c3-4513-a9a2-b09605168771"
      },
      "source": [
        "print(type(words))"
      ],
      "execution_count": null,
      "outputs": [
        {
          "output_type": "stream",
          "text": [
            "<class 'list'>\n"
          ],
          "name": "stdout"
        }
      ]
    },
    {
      "cell_type": "code",
      "metadata": {
        "colab": {
          "base_uri": "https://localhost:8080/"
        },
        "id": "TtCcIHCuYJLe",
        "outputId": "0f77ab9a-2f90-4577-c25f-829d056ee80c"
      },
      "source": [
        "print(words[0])"
      ],
      "execution_count": null,
      "outputs": [
        {
          "output_type": "stream",
          "text": [
            "Foundations\n"
          ],
          "name": "stdout"
        }
      ]
    },
    {
      "cell_type": "code",
      "metadata": {
        "colab": {
          "base_uri": "https://localhost:8080/"
        },
        "id": "JJOLeEwBYQ8q",
        "outputId": "6ec80470-3758-41d8-a14d-683324c57c83"
      },
      "source": [
        "print(type(words[0]))"
      ],
      "execution_count": null,
      "outputs": [
        {
          "output_type": "stream",
          "text": [
            "<class 'str'>\n"
          ],
          "name": "stdout"
        }
      ]
    },
    {
      "cell_type": "code",
      "metadata": {
        "colab": {
          "base_uri": "https://localhost:8080/"
        },
        "id": "KnJH2pEfYU5D",
        "outputId": "7d149ddf-125f-4765-95fd-56b0bfaf6d67"
      },
      "source": [
        "print(words[-1])"
      ],
      "execution_count": null,
      "outputs": [
        {
          "output_type": "stream",
          "text": [
            "science\n"
          ],
          "name": "stdout"
        }
      ]
    },
    {
      "cell_type": "code",
      "metadata": {
        "colab": {
          "base_uri": "https://localhost:8080/"
        },
        "id": "jipQQO6eYbYF",
        "outputId": "b1d002db-2b66-48c5-f5c5-0b78e7f7741c"
      },
      "source": [
        "print(words[0].lower())"
      ],
      "execution_count": null,
      "outputs": [
        {
          "output_type": "stream",
          "text": [
            "foundations\n"
          ],
          "name": "stdout"
        }
      ]
    },
    {
      "cell_type": "code",
      "metadata": {
        "colab": {
          "base_uri": "https://localhost:8080/"
        },
        "id": "5zKwyknYYkql",
        "outputId": "f9a243f2-f66d-473f-9e4b-23860c47995a"
      },
      "source": [
        "print(words[2:])"
      ],
      "execution_count": null,
      "outputs": [
        {
          "output_type": "stream",
          "text": [
            "['data', 'science']\n"
          ],
          "name": "stdout"
        }
      ]
    },
    {
      "cell_type": "code",
      "metadata": {
        "colab": {
          "base_uri": "https://localhost:8080/"
        },
        "id": "8heGaV62ZnS2",
        "outputId": "966cd95f-4de4-40d4-cd6c-b944622ca432"
      },
      "source": [
        "print(words[-2])"
      ],
      "execution_count": null,
      "outputs": [
        {
          "output_type": "stream",
          "text": [
            "data\n"
          ],
          "name": "stdout"
        }
      ]
    },
    {
      "cell_type": "code",
      "metadata": {
        "colab": {
          "base_uri": "https://localhost:8080/"
        },
        "id": "g2ztZAMsY29y",
        "outputId": "5e5760cd-d09b-479c-d9ef-2bf1f10926e6"
      },
      "source": [
        "print(words[2:4])"
      ],
      "execution_count": null,
      "outputs": [
        {
          "output_type": "stream",
          "text": [
            "['data', 'science']\n"
          ],
          "name": "stdout"
        }
      ]
    },
    {
      "cell_type": "code",
      "metadata": {
        "id": "FyNmWHZCY47N"
      },
      "source": [
        "new_words = [\"machine\", \"learning\"]"
      ],
      "execution_count": null,
      "outputs": []
    },
    {
      "cell_type": "code",
      "metadata": {
        "colab": {
          "base_uri": "https://localhost:8080/"
        },
        "id": "ye_naNg-ZD9S",
        "outputId": "321db380-9504-43f2-fc7c-ef1b000d2c89"
      },
      "source": [
        "print(type(new_words))"
      ],
      "execution_count": null,
      "outputs": [
        {
          "output_type": "stream",
          "text": [
            "<class 'list'>\n"
          ],
          "name": "stdout"
        }
      ]
    },
    {
      "cell_type": "code",
      "metadata": {
        "id": "JkCW0ME5ZFO-"
      },
      "source": [
        "fibo_list = [1, 1, 2, 3, 5, 8, 13, 21]"
      ],
      "execution_count": null,
      "outputs": []
    },
    {
      "cell_type": "code",
      "metadata": {
        "colab": {
          "base_uri": "https://localhost:8080/"
        },
        "id": "ukOnYC1iZPPe",
        "outputId": "e4f8f9cc-e52d-4629-fd3c-8e760334350c"
      },
      "source": [
        "type(fibo_list)"
      ],
      "execution_count": null,
      "outputs": [
        {
          "output_type": "execute_result",
          "data": {
            "text/plain": [
              "list"
            ]
          },
          "metadata": {
            "tags": []
          },
          "execution_count": 35
        }
      ]
    },
    {
      "cell_type": "code",
      "metadata": {
        "colab": {
          "base_uri": "https://localhost:8080/"
        },
        "id": "Yk7aH0JNZQNB",
        "outputId": "1abb6472-501b-419b-b07c-3d5f80d2955b"
      },
      "source": [
        "fibo_list"
      ],
      "execution_count": null,
      "outputs": [
        {
          "output_type": "execute_result",
          "data": {
            "text/plain": [
              "[1, 1, 2, 3, 5, 8, 13, 21]"
            ]
          },
          "metadata": {
            "tags": []
          },
          "execution_count": 36
        }
      ]
    },
    {
      "cell_type": "code",
      "metadata": {
        "colab": {
          "base_uri": "https://localhost:8080/"
        },
        "id": "Et4t_9GlZWTB",
        "outputId": "3656780b-d7ec-45aa-d92a-f2ac60030852"
      },
      "source": [
        "fibo_list[::-1]"
      ],
      "execution_count": null,
      "outputs": [
        {
          "output_type": "execute_result",
          "data": {
            "text/plain": [
              "[21, 13, 8, 5, 3, 2, 1, 1]"
            ]
          },
          "metadata": {
            "tags": []
          },
          "execution_count": 37
        }
      ]
    },
    {
      "cell_type": "code",
      "metadata": {
        "id": "w8jzESmcZb5R"
      },
      "source": [
        "# Iteration"
      ],
      "execution_count": null,
      "outputs": []
    },
    {
      "cell_type": "code",
      "metadata": {
        "colab": {
          "base_uri": "https://localhost:8080/"
        },
        "id": "1SIRDghzZ07D",
        "outputId": "6a7c41c5-8c58-44b9-d3e2-2dcd0e0dbdb4"
      },
      "source": [
        "# Method 1\n",
        "for i in fibo_list:\n",
        "  print(i)"
      ],
      "execution_count": null,
      "outputs": [
        {
          "output_type": "stream",
          "text": [
            "1\n",
            "1\n",
            "2\n",
            "3\n",
            "5\n",
            "8\n",
            "13\n",
            "21\n"
          ],
          "name": "stdout"
        }
      ]
    },
    {
      "cell_type": "code",
      "metadata": {
        "colab": {
          "base_uri": "https://localhost:8080/"
        },
        "id": "0HgkDjMCZ8cO",
        "outputId": "bde16b8f-da70-45d1-f6cb-3326d141b0bf"
      },
      "source": [
        "# Method 2\n",
        "length = len(fibo_list)\n",
        "print(\"Length\", length)\n",
        "\n",
        "for i in range(length):\n",
        "  print(i)"
      ],
      "execution_count": null,
      "outputs": [
        {
          "output_type": "stream",
          "text": [
            "Length 8\n",
            "0\n",
            "1\n",
            "2\n",
            "3\n",
            "4\n",
            "5\n",
            "6\n",
            "7\n"
          ],
          "name": "stdout"
        }
      ]
    },
    {
      "cell_type": "code",
      "metadata": {
        "colab": {
          "base_uri": "https://localhost:8080/"
        },
        "id": "5a0DiqWZaVOt",
        "outputId": "9bb491a6-42b9-4d2a-9652-efce13b1608a"
      },
      "source": [
        "# Method 2\n",
        "length = len(fibo_list)\n",
        "print(\"Length\", length)\n",
        "\n",
        "for i in range(length):\n",
        "  print(i, fibo_list[i])"
      ],
      "execution_count": null,
      "outputs": [
        {
          "output_type": "stream",
          "text": [
            "Length 8\n",
            "0 1\n",
            "1 1\n",
            "2 2\n",
            "3 3\n",
            "4 5\n",
            "5 8\n",
            "6 13\n",
            "7 21\n"
          ],
          "name": "stdout"
        }
      ]
    },
    {
      "cell_type": "code",
      "metadata": {
        "colab": {
          "base_uri": "https://localhost:8080/"
        },
        "id": "QiKQ2lUKagi9",
        "outputId": "17cab719-c389-45d5-db05-d87569389aef"
      },
      "source": [
        "# Method 3\n",
        "for index, value in enumerate(fibo_list):\n",
        "  print(index, value)"
      ],
      "execution_count": null,
      "outputs": [
        {
          "output_type": "stream",
          "text": [
            "0 1\n",
            "1 1\n",
            "2 2\n",
            "3 3\n",
            "4 5\n",
            "5 8\n",
            "6 13\n",
            "7 21\n"
          ],
          "name": "stdout"
        }
      ]
    },
    {
      "cell_type": "code",
      "metadata": {
        "id": "9rTJGUhra5J9"
      },
      "source": [
        "bmi_record = [\"David\", 75, 1.73, False]"
      ],
      "execution_count": null,
      "outputs": []
    },
    {
      "cell_type": "code",
      "metadata": {
        "colab": {
          "base_uri": "https://localhost:8080/"
        },
        "id": "Gt-MoCc3bVub",
        "outputId": "3ae2dc2d-9d90-4e05-8bf9-c6a9e8a1c890"
      },
      "source": [
        "for item in bmi_record:\n",
        "  print(item)"
      ],
      "execution_count": null,
      "outputs": [
        {
          "output_type": "stream",
          "text": [
            "David\n",
            "75\n",
            "1.73\n",
            "False\n"
          ],
          "name": "stdout"
        }
      ]
    },
    {
      "cell_type": "code",
      "metadata": {
        "id": "ZJWRFytQbY-Z"
      },
      "source": [
        "bmi_record[0] = \"Not my name\""
      ],
      "execution_count": null,
      "outputs": []
    },
    {
      "cell_type": "code",
      "metadata": {
        "colab": {
          "base_uri": "https://localhost:8080/"
        },
        "id": "URHa-kXpbjgG",
        "outputId": "08803987-0a38-4b3f-9063-cabc7e8b2809"
      },
      "source": [
        "bmi_record"
      ],
      "execution_count": null,
      "outputs": [
        {
          "output_type": "execute_result",
          "data": {
            "text/plain": [
              "['Not my name', 75, 1.73, False]"
            ]
          },
          "metadata": {
            "tags": []
          },
          "execution_count": 50
        }
      ]
    },
    {
      "cell_type": "code",
      "metadata": {
        "id": "0_CythibbkdZ"
      },
      "source": [
        "bmi_record.append(\"david@somedomain.com\")"
      ],
      "execution_count": null,
      "outputs": []
    },
    {
      "cell_type": "code",
      "metadata": {
        "colab": {
          "base_uri": "https://localhost:8080/"
        },
        "id": "kol71e6vb3TQ",
        "outputId": "5f42cf42-d45c-4379-c257-a23e52822b6e"
      },
      "source": [
        "bmi_record"
      ],
      "execution_count": null,
      "outputs": [
        {
          "output_type": "execute_result",
          "data": {
            "text/plain": [
              "['Not my name', 75, 1.73, False, 'david@somedomain.com']"
            ]
          },
          "metadata": {
            "tags": []
          },
          "execution_count": 52
        }
      ]
    },
    {
      "cell_type": "code",
      "metadata": {
        "id": "w6IdtvS4b4TJ"
      },
      "source": [
        "bmi_record.insert(2, \"Indian\")"
      ],
      "execution_count": null,
      "outputs": []
    },
    {
      "cell_type": "code",
      "metadata": {
        "id": "EDtpx5stcI3J"
      },
      "source": [
        "list.insert?"
      ],
      "execution_count": null,
      "outputs": []
    },
    {
      "cell_type": "code",
      "metadata": {
        "colab": {
          "base_uri": "https://localhost:8080/"
        },
        "id": "MBeK6CkdcKZC",
        "outputId": "dca4c2b8-e916-42d7-c220-d35515ee6707"
      },
      "source": [
        "bmi_record"
      ],
      "execution_count": null,
      "outputs": [
        {
          "output_type": "execute_result",
          "data": {
            "text/plain": [
              "['Not my name', 75, 'Indian', 1.73, False, 'david@somedomain.com']"
            ]
          },
          "metadata": {
            "tags": []
          },
          "execution_count": 56
        }
      ]
    },
    {
      "cell_type": "code",
      "metadata": {
        "id": "4icjof3rdwHq"
      },
      "source": [],
      "execution_count": null,
      "outputs": []
    }
  ]
}