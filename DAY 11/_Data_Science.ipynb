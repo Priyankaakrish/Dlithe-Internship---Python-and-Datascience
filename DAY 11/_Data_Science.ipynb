{
  "nbformat": 4,
  "nbformat_minor": 0,
  "metadata": {
    "colab": {
      "provenance": [],
      "include_colab_link": true
    },
    "kernelspec": {
      "name": "python3",
      "display_name": "Python 3"
    },
    "language_info": {
      "name": "python"
    }
  },
  "cells": [
    {
      "cell_type": "markdown",
      "metadata": {
        "id": "view-in-github",
        "colab_type": "text"
      },
      "source": [
        "<a href=\"https://colab.research.google.com/github/priyanka-kris/Dlithe-Internship---Python-and-Datascience/blob/main/DAY%2011/_Data_Science.ipynb\" target=\"_parent\"><img src=\"https://colab.research.google.com/assets/colab-badge.svg\" alt=\"Open In Colab\"/></a>"
      ]
    },
    {
      "cell_type": "markdown",
      "source": [
        "**Day 11**"
      ],
      "metadata": {
        "id": "8d8-1uCWpQDJ"
      }
    },
    {
      "cell_type": "code",
      "metadata": {
        "id": "cdp9Gb_pfqPE"
      },
      "source": [
        "import pandas as pd\n",
        "import numpy as np"
      ],
      "execution_count": null,
      "outputs": []
    },
    {
      "cell_type": "code",
      "metadata": {
        "id": "VURRLUQlfQ1f"
      },
      "source": [
        "def create_df(nRows, nCols, maxRand=10):\n",
        "  arr = np.random.randint(0, maxRand, (nRows, nCols))\n",
        "  df = pd.DataFrame(arr)\n",
        "  \n",
        "  df.index = ['R' + str(x) for x in np.arange(1, nRows+1)]\n",
        "  df.columns = ['C' + str(x) for x in np.arange(1, nCols+1)]\n",
        "\n",
        "  return df"
      ],
      "execution_count": null,
      "outputs": []
    },
    {
      "cell_type": "code",
      "metadata": {
        "colab": {
          "base_uri": "https://localhost:8080/",
          "height": 206
        },
        "id": "T8RwiWsUggd4",
        "outputId": "c85c558d-9139-475b-f979-a7e32f5ea36f"
      },
      "source": [
        "create_df(5, 3)"
      ],
      "execution_count": null,
      "outputs": [
        {
          "output_type": "execute_result",
          "data": {
            "text/html": [
              "<div>\n",
              "<style scoped>\n",
              "    .dataframe tbody tr th:only-of-type {\n",
              "        vertical-align: middle;\n",
              "    }\n",
              "\n",
              "    .dataframe tbody tr th {\n",
              "        vertical-align: top;\n",
              "    }\n",
              "\n",
              "    .dataframe thead th {\n",
              "        text-align: right;\n",
              "    }\n",
              "</style>\n",
              "<table border=\"1\" class=\"dataframe\">\n",
              "  <thead>\n",
              "    <tr style=\"text-align: right;\">\n",
              "      <th></th>\n",
              "      <th>C1</th>\n",
              "      <th>C2</th>\n",
              "      <th>C3</th>\n",
              "    </tr>\n",
              "  </thead>\n",
              "  <tbody>\n",
              "    <tr>\n",
              "      <th>R1</th>\n",
              "      <td>6</td>\n",
              "      <td>1</td>\n",
              "      <td>7</td>\n",
              "    </tr>\n",
              "    <tr>\n",
              "      <th>R2</th>\n",
              "      <td>2</td>\n",
              "      <td>9</td>\n",
              "      <td>6</td>\n",
              "    </tr>\n",
              "    <tr>\n",
              "      <th>R3</th>\n",
              "      <td>8</td>\n",
              "      <td>0</td>\n",
              "      <td>6</td>\n",
              "    </tr>\n",
              "    <tr>\n",
              "      <th>R4</th>\n",
              "      <td>4</td>\n",
              "      <td>9</td>\n",
              "      <td>0</td>\n",
              "    </tr>\n",
              "    <tr>\n",
              "      <th>R5</th>\n",
              "      <td>5</td>\n",
              "      <td>1</td>\n",
              "      <td>1</td>\n",
              "    </tr>\n",
              "  </tbody>\n",
              "</table>\n",
              "</div>"
            ],
            "text/plain": [
              "    C1  C2  C3\n",
              "R1   6   1   7\n",
              "R2   2   9   6\n",
              "R3   8   0   6\n",
              "R4   4   9   0\n",
              "R5   5   1   1"
            ]
          },
          "metadata": {
            "tags": []
          },
          "execution_count": 3
        }
      ]
    },
    {
      "cell_type": "code",
      "metadata": {
        "colab": {
          "base_uri": "https://localhost:8080/",
          "height": 112
        },
        "id": "9qUmW8bBgjNW",
        "outputId": "549cbb36-560e-4c45-ce9a-ff2da7f3573c"
      },
      "source": [
        "create_df(2, 5)"
      ],
      "execution_count": null,
      "outputs": [
        {
          "output_type": "execute_result",
          "data": {
            "text/html": [
              "<div>\n",
              "<style scoped>\n",
              "    .dataframe tbody tr th:only-of-type {\n",
              "        vertical-align: middle;\n",
              "    }\n",
              "\n",
              "    .dataframe tbody tr th {\n",
              "        vertical-align: top;\n",
              "    }\n",
              "\n",
              "    .dataframe thead th {\n",
              "        text-align: right;\n",
              "    }\n",
              "</style>\n",
              "<table border=\"1\" class=\"dataframe\">\n",
              "  <thead>\n",
              "    <tr style=\"text-align: right;\">\n",
              "      <th></th>\n",
              "      <th>C1</th>\n",
              "      <th>C2</th>\n",
              "      <th>C3</th>\n",
              "      <th>C4</th>\n",
              "      <th>C5</th>\n",
              "    </tr>\n",
              "  </thead>\n",
              "  <tbody>\n",
              "    <tr>\n",
              "      <th>R1</th>\n",
              "      <td>4</td>\n",
              "      <td>2</td>\n",
              "      <td>4</td>\n",
              "      <td>0</td>\n",
              "      <td>6</td>\n",
              "    </tr>\n",
              "    <tr>\n",
              "      <th>R2</th>\n",
              "      <td>0</td>\n",
              "      <td>1</td>\n",
              "      <td>2</td>\n",
              "      <td>5</td>\n",
              "      <td>7</td>\n",
              "    </tr>\n",
              "  </tbody>\n",
              "</table>\n",
              "</div>"
            ],
            "text/plain": [
              "    C1  C2  C3  C4  C5\n",
              "R1   4   2   4   0   6\n",
              "R2   0   1   2   5   7"
            ]
          },
          "metadata": {
            "tags": []
          },
          "execution_count": 4
        }
      ]
    },
    {
      "cell_type": "markdown",
      "metadata": {
        "id": "mdZuADzSg_I3"
      },
      "source": [
        "# Planetary Dataset Case Study"
      ]
    },
    {
      "cell_type": "code",
      "metadata": {
        "id": "hCpRbmf9gsex"
      },
      "source": [
        "import seaborn as sns"
      ],
      "execution_count": null,
      "outputs": []
    },
    {
      "cell_type": "code",
      "metadata": {
        "colab": {
          "base_uri": "https://localhost:8080/",
          "height": 206
        },
        "id": "mkTELvuIhlzC",
        "outputId": "54c9d2cd-b5ab-4e98-f781-cf4fdf394e96"
      },
      "source": [
        "df = sns.load_dataset(\"planets\")\n",
        "df.head()"
      ],
      "execution_count": null,
      "outputs": [
        {
          "output_type": "execute_result",
          "data": {
            "text/html": [
              "<div>\n",
              "<style scoped>\n",
              "    .dataframe tbody tr th:only-of-type {\n",
              "        vertical-align: middle;\n",
              "    }\n",
              "\n",
              "    .dataframe tbody tr th {\n",
              "        vertical-align: top;\n",
              "    }\n",
              "\n",
              "    .dataframe thead th {\n",
              "        text-align: right;\n",
              "    }\n",
              "</style>\n",
              "<table border=\"1\" class=\"dataframe\">\n",
              "  <thead>\n",
              "    <tr style=\"text-align: right;\">\n",
              "      <th></th>\n",
              "      <th>method</th>\n",
              "      <th>number</th>\n",
              "      <th>orbital_period</th>\n",
              "      <th>mass</th>\n",
              "      <th>distance</th>\n",
              "      <th>year</th>\n",
              "    </tr>\n",
              "  </thead>\n",
              "  <tbody>\n",
              "    <tr>\n",
              "      <th>0</th>\n",
              "      <td>Radial Velocity</td>\n",
              "      <td>1</td>\n",
              "      <td>269.300</td>\n",
              "      <td>7.10</td>\n",
              "      <td>77.40</td>\n",
              "      <td>2006</td>\n",
              "    </tr>\n",
              "    <tr>\n",
              "      <th>1</th>\n",
              "      <td>Radial Velocity</td>\n",
              "      <td>1</td>\n",
              "      <td>874.774</td>\n",
              "      <td>2.21</td>\n",
              "      <td>56.95</td>\n",
              "      <td>2008</td>\n",
              "    </tr>\n",
              "    <tr>\n",
              "      <th>2</th>\n",
              "      <td>Radial Velocity</td>\n",
              "      <td>1</td>\n",
              "      <td>763.000</td>\n",
              "      <td>2.60</td>\n",
              "      <td>19.84</td>\n",
              "      <td>2011</td>\n",
              "    </tr>\n",
              "    <tr>\n",
              "      <th>3</th>\n",
              "      <td>Radial Velocity</td>\n",
              "      <td>1</td>\n",
              "      <td>326.030</td>\n",
              "      <td>19.40</td>\n",
              "      <td>110.62</td>\n",
              "      <td>2007</td>\n",
              "    </tr>\n",
              "    <tr>\n",
              "      <th>4</th>\n",
              "      <td>Radial Velocity</td>\n",
              "      <td>1</td>\n",
              "      <td>516.220</td>\n",
              "      <td>10.50</td>\n",
              "      <td>119.47</td>\n",
              "      <td>2009</td>\n",
              "    </tr>\n",
              "  </tbody>\n",
              "</table>\n",
              "</div>"
            ],
            "text/plain": [
              "            method  number  orbital_period   mass  distance  year\n",
              "0  Radial Velocity       1         269.300   7.10     77.40  2006\n",
              "1  Radial Velocity       1         874.774   2.21     56.95  2008\n",
              "2  Radial Velocity       1         763.000   2.60     19.84  2011\n",
              "3  Radial Velocity       1         326.030  19.40    110.62  2007\n",
              "4  Radial Velocity       1         516.220  10.50    119.47  2009"
            ]
          },
          "metadata": {
            "tags": []
          },
          "execution_count": 7
        }
      ]
    },
    {
      "cell_type": "code",
      "metadata": {
        "colab": {
          "base_uri": "https://localhost:8080/",
          "height": 206
        },
        "id": "nqNS5y_KhvCp",
        "outputId": "1446987e-c4d2-41c4-fee8-161a0aa0d14e"
      },
      "source": [
        "df.tail()"
      ],
      "execution_count": null,
      "outputs": [
        {
          "output_type": "execute_result",
          "data": {
            "text/html": [
              "<div>\n",
              "<style scoped>\n",
              "    .dataframe tbody tr th:only-of-type {\n",
              "        vertical-align: middle;\n",
              "    }\n",
              "\n",
              "    .dataframe tbody tr th {\n",
              "        vertical-align: top;\n",
              "    }\n",
              "\n",
              "    .dataframe thead th {\n",
              "        text-align: right;\n",
              "    }\n",
              "</style>\n",
              "<table border=\"1\" class=\"dataframe\">\n",
              "  <thead>\n",
              "    <tr style=\"text-align: right;\">\n",
              "      <th></th>\n",
              "      <th>method</th>\n",
              "      <th>number</th>\n",
              "      <th>orbital_period</th>\n",
              "      <th>mass</th>\n",
              "      <th>distance</th>\n",
              "      <th>year</th>\n",
              "    </tr>\n",
              "  </thead>\n",
              "  <tbody>\n",
              "    <tr>\n",
              "      <th>1030</th>\n",
              "      <td>Transit</td>\n",
              "      <td>1</td>\n",
              "      <td>3.941507</td>\n",
              "      <td>NaN</td>\n",
              "      <td>172.0</td>\n",
              "      <td>2006</td>\n",
              "    </tr>\n",
              "    <tr>\n",
              "      <th>1031</th>\n",
              "      <td>Transit</td>\n",
              "      <td>1</td>\n",
              "      <td>2.615864</td>\n",
              "      <td>NaN</td>\n",
              "      <td>148.0</td>\n",
              "      <td>2007</td>\n",
              "    </tr>\n",
              "    <tr>\n",
              "      <th>1032</th>\n",
              "      <td>Transit</td>\n",
              "      <td>1</td>\n",
              "      <td>3.191524</td>\n",
              "      <td>NaN</td>\n",
              "      <td>174.0</td>\n",
              "      <td>2007</td>\n",
              "    </tr>\n",
              "    <tr>\n",
              "      <th>1033</th>\n",
              "      <td>Transit</td>\n",
              "      <td>1</td>\n",
              "      <td>4.125083</td>\n",
              "      <td>NaN</td>\n",
              "      <td>293.0</td>\n",
              "      <td>2008</td>\n",
              "    </tr>\n",
              "    <tr>\n",
              "      <th>1034</th>\n",
              "      <td>Transit</td>\n",
              "      <td>1</td>\n",
              "      <td>4.187757</td>\n",
              "      <td>NaN</td>\n",
              "      <td>260.0</td>\n",
              "      <td>2008</td>\n",
              "    </tr>\n",
              "  </tbody>\n",
              "</table>\n",
              "</div>"
            ],
            "text/plain": [
              "       method  number  orbital_period  mass  distance  year\n",
              "1030  Transit       1        3.941507   NaN     172.0  2006\n",
              "1031  Transit       1        2.615864   NaN     148.0  2007\n",
              "1032  Transit       1        3.191524   NaN     174.0  2007\n",
              "1033  Transit       1        4.125083   NaN     293.0  2008\n",
              "1034  Transit       1        4.187757   NaN     260.0  2008"
            ]
          },
          "metadata": {
            "tags": []
          },
          "execution_count": 8
        }
      ]
    },
    {
      "cell_type": "code",
      "metadata": {
        "colab": {
          "base_uri": "https://localhost:8080/"
        },
        "id": "pLTo4-8vh12W",
        "outputId": "3c1dc92e-2987-46d2-c04f-4b8b5bd3df97"
      },
      "source": [
        "df.info()"
      ],
      "execution_count": null,
      "outputs": [
        {
          "output_type": "stream",
          "text": [
            "<class 'pandas.core.frame.DataFrame'>\n",
            "RangeIndex: 1035 entries, 0 to 1034\n",
            "Data columns (total 6 columns):\n",
            " #   Column          Non-Null Count  Dtype  \n",
            "---  ------          --------------  -----  \n",
            " 0   method          1035 non-null   object \n",
            " 1   number          1035 non-null   int64  \n",
            " 2   orbital_period  992 non-null    float64\n",
            " 3   mass            513 non-null    float64\n",
            " 4   distance        808 non-null    float64\n",
            " 5   year            1035 non-null   int64  \n",
            "dtypes: float64(3), int64(2), object(1)\n",
            "memory usage: 48.6+ KB\n"
          ],
          "name": "stdout"
        }
      ]
    },
    {
      "cell_type": "code",
      "metadata": {
        "colab": {
          "base_uri": "https://localhost:8080/",
          "height": 300
        },
        "id": "dyhzXO10iM9h",
        "outputId": "029888b1-bcd5-4912-c709-860ddbd3ee89"
      },
      "source": [
        "df.describe()"
      ],
      "execution_count": null,
      "outputs": [
        {
          "output_type": "execute_result",
          "data": {
            "text/html": [
              "<div>\n",
              "<style scoped>\n",
              "    .dataframe tbody tr th:only-of-type {\n",
              "        vertical-align: middle;\n",
              "    }\n",
              "\n",
              "    .dataframe tbody tr th {\n",
              "        vertical-align: top;\n",
              "    }\n",
              "\n",
              "    .dataframe thead th {\n",
              "        text-align: right;\n",
              "    }\n",
              "</style>\n",
              "<table border=\"1\" class=\"dataframe\">\n",
              "  <thead>\n",
              "    <tr style=\"text-align: right;\">\n",
              "      <th></th>\n",
              "      <th>number</th>\n",
              "      <th>orbital_period</th>\n",
              "      <th>mass</th>\n",
              "      <th>distance</th>\n",
              "      <th>year</th>\n",
              "    </tr>\n",
              "  </thead>\n",
              "  <tbody>\n",
              "    <tr>\n",
              "      <th>count</th>\n",
              "      <td>1035.000000</td>\n",
              "      <td>992.000000</td>\n",
              "      <td>513.000000</td>\n",
              "      <td>808.000000</td>\n",
              "      <td>1035.000000</td>\n",
              "    </tr>\n",
              "    <tr>\n",
              "      <th>mean</th>\n",
              "      <td>1.785507</td>\n",
              "      <td>2002.917596</td>\n",
              "      <td>2.638161</td>\n",
              "      <td>264.069282</td>\n",
              "      <td>2009.070531</td>\n",
              "    </tr>\n",
              "    <tr>\n",
              "      <th>std</th>\n",
              "      <td>1.240976</td>\n",
              "      <td>26014.728304</td>\n",
              "      <td>3.818617</td>\n",
              "      <td>733.116493</td>\n",
              "      <td>3.972567</td>\n",
              "    </tr>\n",
              "    <tr>\n",
              "      <th>min</th>\n",
              "      <td>1.000000</td>\n",
              "      <td>0.090706</td>\n",
              "      <td>0.003600</td>\n",
              "      <td>1.350000</td>\n",
              "      <td>1989.000000</td>\n",
              "    </tr>\n",
              "    <tr>\n",
              "      <th>25%</th>\n",
              "      <td>1.000000</td>\n",
              "      <td>5.442540</td>\n",
              "      <td>0.229000</td>\n",
              "      <td>32.560000</td>\n",
              "      <td>2007.000000</td>\n",
              "    </tr>\n",
              "    <tr>\n",
              "      <th>50%</th>\n",
              "      <td>1.000000</td>\n",
              "      <td>39.979500</td>\n",
              "      <td>1.260000</td>\n",
              "      <td>55.250000</td>\n",
              "      <td>2010.000000</td>\n",
              "    </tr>\n",
              "    <tr>\n",
              "      <th>75%</th>\n",
              "      <td>2.000000</td>\n",
              "      <td>526.005000</td>\n",
              "      <td>3.040000</td>\n",
              "      <td>178.500000</td>\n",
              "      <td>2012.000000</td>\n",
              "    </tr>\n",
              "    <tr>\n",
              "      <th>max</th>\n",
              "      <td>7.000000</td>\n",
              "      <td>730000.000000</td>\n",
              "      <td>25.000000</td>\n",
              "      <td>8500.000000</td>\n",
              "      <td>2014.000000</td>\n",
              "    </tr>\n",
              "  </tbody>\n",
              "</table>\n",
              "</div>"
            ],
            "text/plain": [
              "            number  orbital_period        mass     distance         year\n",
              "count  1035.000000      992.000000  513.000000   808.000000  1035.000000\n",
              "mean      1.785507     2002.917596    2.638161   264.069282  2009.070531\n",
              "std       1.240976    26014.728304    3.818617   733.116493     3.972567\n",
              "min       1.000000        0.090706    0.003600     1.350000  1989.000000\n",
              "25%       1.000000        5.442540    0.229000    32.560000  2007.000000\n",
              "50%       1.000000       39.979500    1.260000    55.250000  2010.000000\n",
              "75%       2.000000      526.005000    3.040000   178.500000  2012.000000\n",
              "max       7.000000   730000.000000   25.000000  8500.000000  2014.000000"
            ]
          },
          "metadata": {
            "tags": []
          },
          "execution_count": 10
        }
      ]
    },
    {
      "cell_type": "markdown",
      "metadata": {
        "id": "11fco1xEjzyS"
      },
      "source": [
        "### Question 1: Go through each row of the dataframe and delete it(Drop) if any of the columns is null."
      ]
    },
    {
      "cell_type": "code",
      "metadata": {
        "id": "OTEoFbAIjOAE"
      },
      "source": [
        "# Method 1\n",
        "for row in df.index:\n",
        "  for column in df.columns:\n",
        "    if pd.isnull(df.loc[row, column]):\n",
        "      df.drop(row, inplace=True)\n",
        "      break"
      ],
      "execution_count": null,
      "outputs": []
    },
    {
      "cell_type": "code",
      "metadata": {
        "colab": {
          "base_uri": "https://localhost:8080/",
          "height": 300
        },
        "id": "AhYtahaalacK",
        "outputId": "5763495a-1812-49a5-ecec-6bd17e4b762c"
      },
      "source": [
        "df.describe()"
      ],
      "execution_count": null,
      "outputs": [
        {
          "output_type": "execute_result",
          "data": {
            "text/html": [
              "<div>\n",
              "<style scoped>\n",
              "    .dataframe tbody tr th:only-of-type {\n",
              "        vertical-align: middle;\n",
              "    }\n",
              "\n",
              "    .dataframe tbody tr th {\n",
              "        vertical-align: top;\n",
              "    }\n",
              "\n",
              "    .dataframe thead th {\n",
              "        text-align: right;\n",
              "    }\n",
              "</style>\n",
              "<table border=\"1\" class=\"dataframe\">\n",
              "  <thead>\n",
              "    <tr style=\"text-align: right;\">\n",
              "      <th></th>\n",
              "      <th>number</th>\n",
              "      <th>orbital_period</th>\n",
              "      <th>mass</th>\n",
              "      <th>distance</th>\n",
              "      <th>year</th>\n",
              "    </tr>\n",
              "  </thead>\n",
              "  <tbody>\n",
              "    <tr>\n",
              "      <th>count</th>\n",
              "      <td>498.00000</td>\n",
              "      <td>498.000000</td>\n",
              "      <td>498.000000</td>\n",
              "      <td>498.000000</td>\n",
              "      <td>498.000000</td>\n",
              "    </tr>\n",
              "    <tr>\n",
              "      <th>mean</th>\n",
              "      <td>1.73494</td>\n",
              "      <td>835.778671</td>\n",
              "      <td>2.509320</td>\n",
              "      <td>52.068213</td>\n",
              "      <td>2007.377510</td>\n",
              "    </tr>\n",
              "    <tr>\n",
              "      <th>std</th>\n",
              "      <td>1.17572</td>\n",
              "      <td>1469.128259</td>\n",
              "      <td>3.636274</td>\n",
              "      <td>46.596041</td>\n",
              "      <td>4.167284</td>\n",
              "    </tr>\n",
              "    <tr>\n",
              "      <th>min</th>\n",
              "      <td>1.00000</td>\n",
              "      <td>1.328300</td>\n",
              "      <td>0.003600</td>\n",
              "      <td>1.350000</td>\n",
              "      <td>1989.000000</td>\n",
              "    </tr>\n",
              "    <tr>\n",
              "      <th>25%</th>\n",
              "      <td>1.00000</td>\n",
              "      <td>38.272250</td>\n",
              "      <td>0.212500</td>\n",
              "      <td>24.497500</td>\n",
              "      <td>2005.000000</td>\n",
              "    </tr>\n",
              "    <tr>\n",
              "      <th>50%</th>\n",
              "      <td>1.00000</td>\n",
              "      <td>357.000000</td>\n",
              "      <td>1.245000</td>\n",
              "      <td>39.940000</td>\n",
              "      <td>2009.000000</td>\n",
              "    </tr>\n",
              "    <tr>\n",
              "      <th>75%</th>\n",
              "      <td>2.00000</td>\n",
              "      <td>999.600000</td>\n",
              "      <td>2.867500</td>\n",
              "      <td>59.332500</td>\n",
              "      <td>2011.000000</td>\n",
              "    </tr>\n",
              "    <tr>\n",
              "      <th>max</th>\n",
              "      <td>6.00000</td>\n",
              "      <td>17337.500000</td>\n",
              "      <td>25.000000</td>\n",
              "      <td>354.000000</td>\n",
              "      <td>2014.000000</td>\n",
              "    </tr>\n",
              "  </tbody>\n",
              "</table>\n",
              "</div>"
            ],
            "text/plain": [
              "          number  orbital_period        mass    distance         year\n",
              "count  498.00000      498.000000  498.000000  498.000000   498.000000\n",
              "mean     1.73494      835.778671    2.509320   52.068213  2007.377510\n",
              "std      1.17572     1469.128259    3.636274   46.596041     4.167284\n",
              "min      1.00000        1.328300    0.003600    1.350000  1989.000000\n",
              "25%      1.00000       38.272250    0.212500   24.497500  2005.000000\n",
              "50%      1.00000      357.000000    1.245000   39.940000  2009.000000\n",
              "75%      2.00000      999.600000    2.867500   59.332500  2011.000000\n",
              "max      6.00000    17337.500000   25.000000  354.000000  2014.000000"
            ]
          },
          "metadata": {
            "tags": []
          },
          "execution_count": 12
        }
      ]
    },
    {
      "cell_type": "code",
      "metadata": {
        "colab": {
          "base_uri": "https://localhost:8080/"
        },
        "id": "mTlx2bTKlcW8",
        "outputId": "6d1fe79f-4a26-4b15-ffaf-e0eac2f3f0e9"
      },
      "source": [
        "df.info()"
      ],
      "execution_count": null,
      "outputs": [
        {
          "output_type": "stream",
          "text": [
            "<class 'pandas.core.frame.DataFrame'>\n",
            "Int64Index: 498 entries, 0 to 784\n",
            "Data columns (total 6 columns):\n",
            " #   Column          Non-Null Count  Dtype  \n",
            "---  ------          --------------  -----  \n",
            " 0   method          498 non-null    object \n",
            " 1   number          498 non-null    int64  \n",
            " 2   orbital_period  498 non-null    float64\n",
            " 3   mass            498 non-null    float64\n",
            " 4   distance        498 non-null    float64\n",
            " 5   year            498 non-null    int64  \n",
            "dtypes: float64(3), int64(2), object(1)\n",
            "memory usage: 27.2+ KB\n"
          ],
          "name": "stdout"
        }
      ]
    },
    {
      "cell_type": "code",
      "metadata": {
        "colab": {
          "base_uri": "https://localhost:8080/"
        },
        "id": "k2idxxW-lhxs",
        "outputId": "5eedcc0b-0632-4083-aa81-12bea88ba3eb"
      },
      "source": [
        "df = sns.load_dataset(\"planets\")\n",
        "\n",
        "# Method 2\n",
        "for i, r in df.iterrows():\n",
        "  print(i)\n",
        "  print(r)\n",
        "  break"
      ],
      "execution_count": null,
      "outputs": [
        {
          "output_type": "stream",
          "text": [
            "0\n",
            "method            Radial Velocity\n",
            "number                          1\n",
            "orbital_period              269.3\n",
            "mass                          7.1\n",
            "distance                     77.4\n",
            "year                         2006\n",
            "Name: 0, dtype: object\n"
          ],
          "name": "stdout"
        }
      ]
    },
    {
      "cell_type": "code",
      "metadata": {
        "colab": {
          "base_uri": "https://localhost:8080/"
        },
        "id": "SUPBHEvTlqVR",
        "outputId": "406fab50-fd64-4165-e382-deccc2d6d9e2"
      },
      "source": [
        "for i, r in df.iterrows():\n",
        "  print(pd.isnull(r).any())\n",
        "  break"
      ],
      "execution_count": null,
      "outputs": [
        {
          "output_type": "stream",
          "text": [
            "False\n"
          ],
          "name": "stdout"
        }
      ]
    },
    {
      "cell_type": "code",
      "metadata": {
        "id": "DDk_hf4wmIz4"
      },
      "source": [
        "for i, r in df.iterrows():\n",
        "  if pd.isnull(r).any():\n",
        "    df.drop(i, inplace=True)"
      ],
      "execution_count": null,
      "outputs": []
    },
    {
      "cell_type": "code",
      "metadata": {
        "colab": {
          "base_uri": "https://localhost:8080/"
        },
        "id": "F7ify0WLmVC1",
        "outputId": "77352fdc-c34d-456d-85a9-88067e5de497"
      },
      "source": [
        "df.info()"
      ],
      "execution_count": null,
      "outputs": [
        {
          "output_type": "stream",
          "text": [
            "<class 'pandas.core.frame.DataFrame'>\n",
            "Int64Index: 498 entries, 0 to 784\n",
            "Data columns (total 6 columns):\n",
            " #   Column          Non-Null Count  Dtype  \n",
            "---  ------          --------------  -----  \n",
            " 0   method          498 non-null    object \n",
            " 1   number          498 non-null    int64  \n",
            " 2   orbital_period  498 non-null    float64\n",
            " 3   mass            498 non-null    float64\n",
            " 4   distance        498 non-null    float64\n",
            " 5   year            498 non-null    int64  \n",
            "dtypes: float64(3), int64(2), object(1)\n",
            "memory usage: 27.2+ KB\n"
          ],
          "name": "stdout"
        }
      ]
    },
    {
      "cell_type": "code",
      "metadata": {
        "id": "R2K35jdmmb97"
      },
      "source": [
        "# Method 3\n",
        "df = sns.load_dataset(\"planets\")\n",
        "\n",
        "df.dropna(inplace=True)"
      ],
      "execution_count": null,
      "outputs": []
    },
    {
      "cell_type": "code",
      "metadata": {
        "colab": {
          "base_uri": "https://localhost:8080/",
          "height": 300
        },
        "id": "96v7TOIynunp",
        "outputId": "5547c66c-459c-4f52-c877-ff1d5c4994d5"
      },
      "source": [
        "df.describe()"
      ],
      "execution_count": null,
      "outputs": [
        {
          "output_type": "execute_result",
          "data": {
            "text/html": [
              "<div>\n",
              "<style scoped>\n",
              "    .dataframe tbody tr th:only-of-type {\n",
              "        vertical-align: middle;\n",
              "    }\n",
              "\n",
              "    .dataframe tbody tr th {\n",
              "        vertical-align: top;\n",
              "    }\n",
              "\n",
              "    .dataframe thead th {\n",
              "        text-align: right;\n",
              "    }\n",
              "</style>\n",
              "<table border=\"1\" class=\"dataframe\">\n",
              "  <thead>\n",
              "    <tr style=\"text-align: right;\">\n",
              "      <th></th>\n",
              "      <th>number</th>\n",
              "      <th>orbital_period</th>\n",
              "      <th>mass</th>\n",
              "      <th>distance</th>\n",
              "      <th>year</th>\n",
              "    </tr>\n",
              "  </thead>\n",
              "  <tbody>\n",
              "    <tr>\n",
              "      <th>count</th>\n",
              "      <td>498.00000</td>\n",
              "      <td>498.000000</td>\n",
              "      <td>498.000000</td>\n",
              "      <td>498.000000</td>\n",
              "      <td>498.000000</td>\n",
              "    </tr>\n",
              "    <tr>\n",
              "      <th>mean</th>\n",
              "      <td>1.73494</td>\n",
              "      <td>835.778671</td>\n",
              "      <td>2.509320</td>\n",
              "      <td>52.068213</td>\n",
              "      <td>2007.377510</td>\n",
              "    </tr>\n",
              "    <tr>\n",
              "      <th>std</th>\n",
              "      <td>1.17572</td>\n",
              "      <td>1469.128259</td>\n",
              "      <td>3.636274</td>\n",
              "      <td>46.596041</td>\n",
              "      <td>4.167284</td>\n",
              "    </tr>\n",
              "    <tr>\n",
              "      <th>min</th>\n",
              "      <td>1.00000</td>\n",
              "      <td>1.328300</td>\n",
              "      <td>0.003600</td>\n",
              "      <td>1.350000</td>\n",
              "      <td>1989.000000</td>\n",
              "    </tr>\n",
              "    <tr>\n",
              "      <th>25%</th>\n",
              "      <td>1.00000</td>\n",
              "      <td>38.272250</td>\n",
              "      <td>0.212500</td>\n",
              "      <td>24.497500</td>\n",
              "      <td>2005.000000</td>\n",
              "    </tr>\n",
              "    <tr>\n",
              "      <th>50%</th>\n",
              "      <td>1.00000</td>\n",
              "      <td>357.000000</td>\n",
              "      <td>1.245000</td>\n",
              "      <td>39.940000</td>\n",
              "      <td>2009.000000</td>\n",
              "    </tr>\n",
              "    <tr>\n",
              "      <th>75%</th>\n",
              "      <td>2.00000</td>\n",
              "      <td>999.600000</td>\n",
              "      <td>2.867500</td>\n",
              "      <td>59.332500</td>\n",
              "      <td>2011.000000</td>\n",
              "    </tr>\n",
              "    <tr>\n",
              "      <th>max</th>\n",
              "      <td>6.00000</td>\n",
              "      <td>17337.500000</td>\n",
              "      <td>25.000000</td>\n",
              "      <td>354.000000</td>\n",
              "      <td>2014.000000</td>\n",
              "    </tr>\n",
              "  </tbody>\n",
              "</table>\n",
              "</div>"
            ],
            "text/plain": [
              "          number  orbital_period        mass    distance         year\n",
              "count  498.00000      498.000000  498.000000  498.000000   498.000000\n",
              "mean     1.73494      835.778671    2.509320   52.068213  2007.377510\n",
              "std      1.17572     1469.128259    3.636274   46.596041     4.167284\n",
              "min      1.00000        1.328300    0.003600    1.350000  1989.000000\n",
              "25%      1.00000       38.272250    0.212500   24.497500  2005.000000\n",
              "50%      1.00000      357.000000    1.245000   39.940000  2009.000000\n",
              "75%      2.00000      999.600000    2.867500   59.332500  2011.000000\n",
              "max      6.00000    17337.500000   25.000000  354.000000  2014.000000"
            ]
          },
          "metadata": {
            "tags": []
          },
          "execution_count": 27
        }
      ]
    },
    {
      "cell_type": "markdown",
      "metadata": {
        "id": "T8l6EswSn5z6"
      },
      "source": [
        "# Question 2: Filter and show only those rows which have planets that are found in the 2010's and afterwards and method is Radial Velocity or Transit."
      ]
    },
    {
      "cell_type": "code",
      "metadata": {
        "id": "vl8koOCrnwX4"
      },
      "source": [
        "df_ = df.copy()"
      ],
      "execution_count": null,
      "outputs": []
    },
    {
      "cell_type": "code",
      "metadata": {
        "id": "p6QbLSxwomSG"
      },
      "source": [
        "# Query the DataFrame\n",
        "df_ = df_[\n",
        "          (df_['year'] >= 2010) &\n",
        "          ((df_['method'] == 'Radial Velocity') | \n",
        "          (df_['method'] == 'Transit'))\n",
        "]"
      ],
      "execution_count": null,
      "outputs": []
    },
    {
      "cell_type": "code",
      "metadata": {
        "colab": {
          "base_uri": "https://localhost:8080/"
        },
        "id": "r3fm2j2gpgjS",
        "outputId": "b77829c0-50a0-4a0a-822d-766c476784b7"
      },
      "source": [
        "df_['year'].unique()"
      ],
      "execution_count": null,
      "outputs": [
        {
          "output_type": "execute_result",
          "data": {
            "text/plain": [
              "array([2011, 2010, 2013, 2012, 2014])"
            ]
          },
          "metadata": {
            "tags": []
          },
          "execution_count": 31
        }
      ]
    },
    {
      "cell_type": "code",
      "metadata": {
        "colab": {
          "base_uri": "https://localhost:8080/",
          "height": 206
        },
        "id": "JJdH3yjOphlv",
        "outputId": "22ec1092-8cd0-4f71-e98f-08deec00a951"
      },
      "source": [
        "df_.head()"
      ],
      "execution_count": null,
      "outputs": [
        {
          "output_type": "execute_result",
          "data": {
            "text/html": [
              "<div>\n",
              "<style scoped>\n",
              "    .dataframe tbody tr th:only-of-type {\n",
              "        vertical-align: middle;\n",
              "    }\n",
              "\n",
              "    .dataframe tbody tr th {\n",
              "        vertical-align: top;\n",
              "    }\n",
              "\n",
              "    .dataframe thead th {\n",
              "        text-align: right;\n",
              "    }\n",
              "</style>\n",
              "<table border=\"1\" class=\"dataframe\">\n",
              "  <thead>\n",
              "    <tr style=\"text-align: right;\">\n",
              "      <th></th>\n",
              "      <th>method</th>\n",
              "      <th>number</th>\n",
              "      <th>orbital_period</th>\n",
              "      <th>mass</th>\n",
              "      <th>distance</th>\n",
              "      <th>year</th>\n",
              "    </tr>\n",
              "  </thead>\n",
              "  <tbody>\n",
              "    <tr>\n",
              "      <th>2</th>\n",
              "      <td>Radial Velocity</td>\n",
              "      <td>1</td>\n",
              "      <td>763.0</td>\n",
              "      <td>2.60</td>\n",
              "      <td>19.84</td>\n",
              "      <td>2011</td>\n",
              "    </tr>\n",
              "    <tr>\n",
              "      <th>9</th>\n",
              "      <td>Radial Velocity</td>\n",
              "      <td>2</td>\n",
              "      <td>452.8</td>\n",
              "      <td>1.99</td>\n",
              "      <td>74.79</td>\n",
              "      <td>2010</td>\n",
              "    </tr>\n",
              "    <tr>\n",
              "      <th>10</th>\n",
              "      <td>Radial Velocity</td>\n",
              "      <td>2</td>\n",
              "      <td>883.0</td>\n",
              "      <td>0.86</td>\n",
              "      <td>74.79</td>\n",
              "      <td>2010</td>\n",
              "    </tr>\n",
              "    <tr>\n",
              "      <th>28</th>\n",
              "      <td>Radial Velocity</td>\n",
              "      <td>1</td>\n",
              "      <td>181.4</td>\n",
              "      <td>3.20</td>\n",
              "      <td>45.52</td>\n",
              "      <td>2013</td>\n",
              "    </tr>\n",
              "    <tr>\n",
              "      <th>45</th>\n",
              "      <td>Radial Velocity</td>\n",
              "      <td>1</td>\n",
              "      <td>380.8</td>\n",
              "      <td>1.80</td>\n",
              "      <td>20.21</td>\n",
              "      <td>2010</td>\n",
              "    </tr>\n",
              "  </tbody>\n",
              "</table>\n",
              "</div>"
            ],
            "text/plain": [
              "             method  number  orbital_period  mass  distance  year\n",
              "2   Radial Velocity       1           763.0  2.60     19.84  2011\n",
              "9   Radial Velocity       2           452.8  1.99     74.79  2010\n",
              "10  Radial Velocity       2           883.0  0.86     74.79  2010\n",
              "28  Radial Velocity       1           181.4  3.20     45.52  2013\n",
              "45  Radial Velocity       1           380.8  1.80     20.21  2010"
            ]
          },
          "metadata": {
            "tags": []
          },
          "execution_count": 32
        }
      ]
    },
    {
      "cell_type": "code",
      "metadata": {
        "colab": {
          "base_uri": "https://localhost:8080/"
        },
        "id": "kxhitakApue3",
        "outputId": "36c7064b-2fc1-47bf-c72b-274bf579dbf5"
      },
      "source": [
        "df_['method'].unique()"
      ],
      "execution_count": null,
      "outputs": [
        {
          "output_type": "execute_result",
          "data": {
            "text/plain": [
              "array(['Radial Velocity', 'Transit'], dtype=object)"
            ]
          },
          "metadata": {
            "tags": []
          },
          "execution_count": 33
        }
      ]
    },
    {
      "cell_type": "code",
      "metadata": {
        "colab": {
          "base_uri": "https://localhost:8080/",
          "height": 206
        },
        "id": "HWdE-9o_pwmy",
        "outputId": "8035b1f5-35ff-4ef9-96ab-afd852ccd21b"
      },
      "source": [
        "df = sns.load_dataset(\"planets\")\n",
        "df.head()"
      ],
      "execution_count": null,
      "outputs": [
        {
          "output_type": "execute_result",
          "data": {
            "text/html": [
              "<div>\n",
              "<style scoped>\n",
              "    .dataframe tbody tr th:only-of-type {\n",
              "        vertical-align: middle;\n",
              "    }\n",
              "\n",
              "    .dataframe tbody tr th {\n",
              "        vertical-align: top;\n",
              "    }\n",
              "\n",
              "    .dataframe thead th {\n",
              "        text-align: right;\n",
              "    }\n",
              "</style>\n",
              "<table border=\"1\" class=\"dataframe\">\n",
              "  <thead>\n",
              "    <tr style=\"text-align: right;\">\n",
              "      <th></th>\n",
              "      <th>method</th>\n",
              "      <th>number</th>\n",
              "      <th>orbital_period</th>\n",
              "      <th>mass</th>\n",
              "      <th>distance</th>\n",
              "      <th>year</th>\n",
              "    </tr>\n",
              "  </thead>\n",
              "  <tbody>\n",
              "    <tr>\n",
              "      <th>0</th>\n",
              "      <td>Radial Velocity</td>\n",
              "      <td>1</td>\n",
              "      <td>269.300</td>\n",
              "      <td>7.10</td>\n",
              "      <td>77.40</td>\n",
              "      <td>2006</td>\n",
              "    </tr>\n",
              "    <tr>\n",
              "      <th>1</th>\n",
              "      <td>Radial Velocity</td>\n",
              "      <td>1</td>\n",
              "      <td>874.774</td>\n",
              "      <td>2.21</td>\n",
              "      <td>56.95</td>\n",
              "      <td>2008</td>\n",
              "    </tr>\n",
              "    <tr>\n",
              "      <th>2</th>\n",
              "      <td>Radial Velocity</td>\n",
              "      <td>1</td>\n",
              "      <td>763.000</td>\n",
              "      <td>2.60</td>\n",
              "      <td>19.84</td>\n",
              "      <td>2011</td>\n",
              "    </tr>\n",
              "    <tr>\n",
              "      <th>3</th>\n",
              "      <td>Radial Velocity</td>\n",
              "      <td>1</td>\n",
              "      <td>326.030</td>\n",
              "      <td>19.40</td>\n",
              "      <td>110.62</td>\n",
              "      <td>2007</td>\n",
              "    </tr>\n",
              "    <tr>\n",
              "      <th>4</th>\n",
              "      <td>Radial Velocity</td>\n",
              "      <td>1</td>\n",
              "      <td>516.220</td>\n",
              "      <td>10.50</td>\n",
              "      <td>119.47</td>\n",
              "      <td>2009</td>\n",
              "    </tr>\n",
              "  </tbody>\n",
              "</table>\n",
              "</div>"
            ],
            "text/plain": [
              "            method  number  orbital_period   mass  distance  year\n",
              "0  Radial Velocity       1         269.300   7.10     77.40  2006\n",
              "1  Radial Velocity       1         874.774   2.21     56.95  2008\n",
              "2  Radial Velocity       1         763.000   2.60     19.84  2011\n",
              "3  Radial Velocity       1         326.030  19.40    110.62  2007\n",
              "4  Radial Velocity       1         516.220  10.50    119.47  2009"
            ]
          },
          "metadata": {
            "tags": []
          },
          "execution_count": 36
        }
      ]
    },
    {
      "cell_type": "code",
      "metadata": {
        "colab": {
          "base_uri": "https://localhost:8080/"
        },
        "id": "35CSt_a_p1uJ",
        "outputId": "0297e25a-8d39-4179-f0a5-8056ea84e687"
      },
      "source": [
        "df['method'].unique()"
      ],
      "execution_count": null,
      "outputs": [
        {
          "output_type": "execute_result",
          "data": {
            "text/plain": [
              "array(['Radial Velocity', 'Imaging', 'Eclipse Timing Variations',\n",
              "       'Transit', 'Astrometry', 'Transit Timing Variations',\n",
              "       'Orbital Brightness Modulation', 'Microlensing', 'Pulsar Timing',\n",
              "       'Pulsation Timing Variations'], dtype=object)"
            ]
          },
          "metadata": {
            "tags": []
          },
          "execution_count": 38
        }
      ]
    },
    {
      "cell_type": "code",
      "metadata": {
        "id": "C8R93waqqA6P"
      },
      "source": [],
      "execution_count": null,
      "outputs": []
    }
  ]
}