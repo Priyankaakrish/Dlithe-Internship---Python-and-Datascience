{
  "nbformat": 4,
  "nbformat_minor": 0,
  "metadata": {
    "colab": {
      "provenance": [],
      "include_colab_link": true
    },
    "kernelspec": {
      "name": "python3",
      "display_name": "Python 3"
    },
    "language_info": {
      "name": "python"
    }
  },
  "cells": [
    {
      "cell_type": "markdown",
      "metadata": {
        "id": "view-in-github",
        "colab_type": "text"
      },
      "source": [
        "<a href=\"https://colab.research.google.com/github/priyanka-kris/Dlithe-Internship---Python-and-Datascience/blob/main/Day3/Data_Science.ipynb\" target=\"_parent\"><img src=\"https://colab.research.google.com/assets/colab-badge.svg\" alt=\"Open In Colab\"/></a>"
      ]
    },
    {
      "cell_type": "markdown",
      "source": [
        "**Day 3**"
      ],
      "metadata": {
        "id": "21yTr2ZBlIik"
      }
    },
    {
      "cell_type": "markdown",
      "metadata": {
        "id": "ghzyCP9DC6ze"
      },
      "source": [
        "## Problem 1\n",
        "\n",
        "1.\tPrompt the user \"Enter your weight (in kgs)\" and record weight\n",
        "2.\tPrompt the user \"What is your preferred unit of height? Type \"F\" for feet and \"M\" for meters\" and record the preference\n",
        "3.\tIf user says \"F\" then prompt user \"You will enter your height given as feet and inches. First enter feet\" and record feet and then prompt user \"Now enter inches\" and record inches\n",
        "4.\tIf user says \"M\" then prompt user \"What is your height in meters\" and record height in meters\n",
        "5.\tIf user had chosen \"F\" then convert height into meters\n",
        "6.\tCompute BMI using the following formula\n",
        "\n",
        "    BMI = weight / height ** 2\n",
        "\n",
        "7.\tDepending on the value of BMI, report the user's type given by the following table:\n",
        "●\tBMI < 18.5\t: UNDERWEIGHT\n",
        "●\t18.5 <= BMI < 25\t: NORMAL\n",
        "●\t25 <= BMI < 30\t: OVERWEIGHT\n",
        "●\tBMI > 30 : VERY-OVERWEIGHT\n"
      ]
    },
    {
      "cell_type": "code",
      "metadata": {
        "colab": {
          "base_uri": "https://localhost:8080/"
        },
        "id": "KdUFMU5KHa6p",
        "outputId": "04347d39-d309-4eba-f6ff-22194471b4ed"
      },
      "source": [
        "# prompt the user about the weight\n",
        "weight = input(\"Enter your weight (in kgs\")\n",
        "height_unit = input(\"What is your preferred unit of height\")\n",
        "\n",
        "if height_unit == \"F\":\n",
        "  print(\"I am in the F Block.\")\n",
        "else:\n",
        "  print(\"I am in the M Block.\")"
      ],
      "execution_count": null,
      "outputs": [
        {
          "output_type": "stream",
          "text": [
            "Enter your weight (in kgs12\n",
            "What is your preferred unit of heightF\n",
            "I am in the F Block.\n"
          ],
          "name": "stdout"
        }
      ]
    },
    {
      "cell_type": "code",
      "metadata": {
        "colab": {
          "base_uri": "https://localhost:8080/"
        },
        "id": "rL1qQ3EGLXxI",
        "outputId": "9260990f-245c-41f5-904e-d31efe32b859"
      },
      "source": [
        "# prompt the user about the weight\n",
        "weight = input(\"Enter your weight (in kgs\")\n",
        "height_unit = input(\"What is your preferred unit of height\")\n",
        "\n",
        "if height_unit == \"F\":\n",
        "  feet = input(\"Enter feet and inches. Lets start with feet\")\n",
        "  inches = input(\"Now enter inches\")\n",
        "else:\n",
        "  meters = input(\"Please enter your height in meters\")"
      ],
      "execution_count": null,
      "outputs": [
        {
          "output_type": "stream",
          "text": [
            "Enter your weight (in kgs12\n",
            "What is your preferred unit of height23\n",
            "Please enter your height in meters23\n"
          ],
          "name": "stdout"
        }
      ]
    },
    {
      "cell_type": "code",
      "metadata": {
        "colab": {
          "base_uri": "https://localhost:8080/",
          "height": 317
        },
        "id": "xtFVOxRnLzPA",
        "outputId": "f4f86025-3220-4a06-e67c-21ef0faebeb7"
      },
      "source": [
        "# prompt the user about the weight\n",
        "weight = input(\"Enter your weight (in kgs\")\n",
        "height_unit = input(\"What is your preferred unit of height\")\n",
        "\n",
        "if height_unit == \"F\":\n",
        "  feet = input(\"Enter feet and inches. Lets start with feet\")\n",
        "  inches = input(\"Now enter inches\")\n",
        "  meters = (feet + inches/12) * 0.3048\n",
        "else:\n",
        "  meters = input(\"Please enter your height in meters\")"
      ],
      "execution_count": null,
      "outputs": [
        {
          "output_type": "stream",
          "text": [
            "Enter your weight (in kgs12\n",
            "What is your preferred unit of heightF\n",
            "Enter feet and inches. Lets start with feet6\n",
            "Now enter inches3\n"
          ],
          "name": "stdout"
        },
        {
          "output_type": "error",
          "ename": "TypeError",
          "evalue": "ignored",
          "traceback": [
            "\u001b[0;31m---------------------------------------------------------------------------\u001b[0m",
            "\u001b[0;31mTypeError\u001b[0m                                 Traceback (most recent call last)",
            "\u001b[0;32m<ipython-input-4-978ec0c93202>\u001b[0m in \u001b[0;36m<module>\u001b[0;34m()\u001b[0m\n\u001b[1;32m      6\u001b[0m   \u001b[0mfeet\u001b[0m \u001b[0;34m=\u001b[0m \u001b[0minput\u001b[0m\u001b[0;34m(\u001b[0m\u001b[0;34m\"Enter feet and inches. Lets start with feet\"\u001b[0m\u001b[0;34m)\u001b[0m\u001b[0;34m\u001b[0m\u001b[0;34m\u001b[0m\u001b[0m\n\u001b[1;32m      7\u001b[0m   \u001b[0minches\u001b[0m \u001b[0;34m=\u001b[0m \u001b[0minput\u001b[0m\u001b[0;34m(\u001b[0m\u001b[0;34m\"Now enter inches\"\u001b[0m\u001b[0;34m)\u001b[0m\u001b[0;34m\u001b[0m\u001b[0;34m\u001b[0m\u001b[0m\n\u001b[0;32m----> 8\u001b[0;31m   \u001b[0mmeters\u001b[0m \u001b[0;34m=\u001b[0m \u001b[0;34m(\u001b[0m\u001b[0mfeet\u001b[0m \u001b[0;34m+\u001b[0m \u001b[0minches\u001b[0m\u001b[0;34m/\u001b[0m\u001b[0;36m12\u001b[0m\u001b[0;34m)\u001b[0m \u001b[0;34m*\u001b[0m \u001b[0;36m0.3048\u001b[0m\u001b[0;34m\u001b[0m\u001b[0;34m\u001b[0m\u001b[0m\n\u001b[0m\u001b[1;32m      9\u001b[0m \u001b[0;32melse\u001b[0m\u001b[0;34m:\u001b[0m\u001b[0;34m\u001b[0m\u001b[0;34m\u001b[0m\u001b[0m\n\u001b[1;32m     10\u001b[0m   \u001b[0mmeters\u001b[0m \u001b[0;34m=\u001b[0m \u001b[0minput\u001b[0m\u001b[0;34m(\u001b[0m\u001b[0;34m\"Please enter your height in meters\"\u001b[0m\u001b[0;34m)\u001b[0m\u001b[0;34m\u001b[0m\u001b[0;34m\u001b[0m\u001b[0m\n",
            "\u001b[0;31mTypeError\u001b[0m: unsupported operand type(s) for /: 'str' and 'int'"
          ]
        }
      ]
    },
    {
      "cell_type": "code",
      "metadata": {
        "id": "ovgtl9GJMKlH"
      },
      "source": [
        "def input_single_integer(prompt):\n",
        "  ret = int(input(prompt))\n",
        "  return ret"
      ],
      "execution_count": null,
      "outputs": []
    },
    {
      "cell_type": "code",
      "metadata": {
        "id": "Qkyvc9EANDT9"
      },
      "source": [
        "def input_single_float(prompt):\n",
        "  ret = float(input(prompt))\n",
        "  return ret"
      ],
      "execution_count": null,
      "outputs": []
    },
    {
      "cell_type": "code",
      "metadata": {
        "colab": {
          "base_uri": "https://localhost:8080/"
        },
        "id": "ZVdBG2BcMsrH",
        "outputId": "f66d50c7-3263-46fe-8472-66df77bf4645"
      },
      "source": [
        "# prompt the user about the weight\n",
        "weight = input_single_float(\"Enter your weight (in kgs\")\n",
        "height_unit = input(\"What is your preferred unit of height\")\n",
        "\n",
        "if height_unit == \"F\":\n",
        "  feet = input_single_integer(\"Enter feet and inches. Lets start with feet\")\n",
        "  inches = input_single_integer(\"Now enter inches\")\n",
        "  meters = (feet + inches/12) * 0.3048\n",
        "else:\n",
        "  meters = input_single_float(\"Please enter your height in meters\")"
      ],
      "execution_count": null,
      "outputs": [
        {
          "output_type": "stream",
          "text": [
            "Enter your weight (in kgs60\n",
            "What is your preferred unit of height5\n",
            "Please enter your height in meters4\n"
          ],
          "name": "stdout"
        }
      ]
    },
    {
      "cell_type": "code",
      "metadata": {
        "colab": {
          "base_uri": "https://localhost:8080/"
        },
        "id": "JxFpEbIjNPCw",
        "outputId": "a6e947bf-f32f-40d1-d3e5-0eedba3dbc4d"
      },
      "source": [
        "# prompt the user about the weight\n",
        "weight = input_single_float(\"Enter your weight (in kgs\")\n",
        "height_unit = input(\"What is your preferred unit of height\")\n",
        "\n",
        "if height_unit == \"F\":\n",
        "  feet = input_single_integer(\"Enter feet and inches. Lets start with feet\")\n",
        "  inches = input_single_integer(\"Now enter inches\")\n",
        "  meters = (feet + inches/12) * 0.3048\n",
        "else:\n",
        "  meters = input_single_float(\"Please enter your height in meters\")\n",
        "\n",
        "height = meters\n",
        "bmi = weight / height ** 2\n",
        "\n",
        "print(\"My BMI value is \", str(bmi))\n",
        "\n",
        "if bmi < 18.5:\n",
        "  print(\"UNDERWEIGHT\")\n",
        "elif bmi < 25:\n",
        "  print(\"NORMAL\")\n",
        "elif bmi < 30:\n",
        "  print(\"OVERWEIGHT\")\n",
        "else:\n",
        "  print(\"VERY-OVERWEIGHT\")"
      ],
      "execution_count": null,
      "outputs": [
        {
          "output_type": "stream",
          "text": [
            "Enter your weight (in kgs60\n",
            "What is your preferred unit of heightF\n",
            "Enter feet and inches. Lets start with feet5\n",
            "Now enter inches4\n",
            "My BMI value is  22.705123535247072\n",
            "NORMAL\n"
          ],
          "name": "stdout"
        }
      ]
    },
    {
      "cell_type": "code",
      "metadata": {
        "id": "HrO_TYu8NuRW"
      },
      "source": [],
      "execution_count": null,
      "outputs": []
    },
    {
      "cell_type": "code",
      "metadata": {
        "id": "qhgQrTZvTukm"
      },
      "source": [],
      "execution_count": null,
      "outputs": []
    }
  ]
}