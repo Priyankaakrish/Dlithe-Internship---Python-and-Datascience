{
  "nbformat": 4,
  "nbformat_minor": 0,
  "metadata": {
    "colab": {
      "provenance": [],
      "include_colab_link": true
    },
    "kernelspec": {
      "name": "python3",
      "display_name": "Python 3"
    },
    "language_info": {
      "name": "python"
    }
  },
  "cells": [
    {
      "cell_type": "markdown",
      "metadata": {
        "id": "view-in-github",
        "colab_type": "text"
      },
      "source": [
        "<a href=\"https://colab.research.google.com/github/priyanka-kris/Dlithe-Internship---Python-and-Datascience/blob/main/DAY%2012/_Data_Science.ipynb\" target=\"_parent\"><img src=\"https://colab.research.google.com/assets/colab-badge.svg\" alt=\"Open In Colab\"/></a>"
      ]
    },
    {
      "cell_type": "markdown",
      "source": [
        "**Day 12**"
      ],
      "metadata": {
        "id": "5Y2aSmm5pjc9"
      }
    },
    {
      "cell_type": "markdown",
      "metadata": {
        "id": "jPsm3viNyAW4"
      },
      "source": [
        "# Visualization"
      ]
    },
    {
      "cell_type": "markdown",
      "metadata": {
        "id": "N-iSyQj9yWtk"
      },
      "source": [
        "### Tabulation"
      ]
    },
    {
      "cell_type": "markdown",
      "metadata": {
        "id": "Y4eu9c6G8bSB"
      },
      "source": []
    },
    {
      "cell_type": "code",
      "metadata": {
        "id": "RDj4f7uzx9SF"
      },
      "source": [
        "import seaborn as sns\n",
        "import pandas as pd\n",
        "import numpy as np"
      ],
      "execution_count": null,
      "outputs": []
    },
    {
      "cell_type": "code",
      "metadata": {
        "id": "3J8AIzzYyrG9"
      },
      "source": [
        "import urllib.request"
      ],
      "execution_count": null,
      "outputs": []
    },
    {
      "cell_type": "markdown",
      "metadata": {
        "id": "GM_s-Bn8zRn2"
      },
      "source": [
        "### Read Complex Json files"
      ]
    },
    {
      "cell_type": "code",
      "metadata": {
        "colab": {
          "base_uri": "https://localhost:8080/"
        },
        "id": "beqrnI6wzO7X",
        "outputId": "6f930aae-a9e7-46ef-fc8a-02aa4f143e31"
      },
      "source": [
        "url = \"https://api.covid19india.org/states_daily.json\"\n",
        "urllib.request.urlretrieve(url, 'data.json')"
      ],
      "execution_count": null,
      "outputs": [
        {
          "output_type": "execute_result",
          "data": {
            "text/plain": [
              "('data.json', <http.client.HTTPMessage at 0x7f16d7de4750>)"
            ]
          },
          "metadata": {
            "tags": []
          },
          "execution_count": 37
        }
      ]
    },
    {
      "cell_type": "code",
      "metadata": {
        "id": "BjLtfeau0JLS"
      },
      "source": [
        "covid_data = pd.read_json('data.json')"
      ],
      "execution_count": null,
      "outputs": []
    },
    {
      "cell_type": "code",
      "metadata": {
        "colab": {
          "base_uri": "https://localhost:8080/",
          "height": 424
        },
        "id": "cql5EDTc0adS",
        "outputId": "ee0ebe20-24ce-41ab-c330-db7784e099c1"
      },
      "source": [
        "covid_data"
      ],
      "execution_count": null,
      "outputs": [
        {
          "output_type": "execute_result",
          "data": {
            "text/html": [
              "<div>\n",
              "<style scoped>\n",
              "    .dataframe tbody tr th:only-of-type {\n",
              "        vertical-align: middle;\n",
              "    }\n",
              "\n",
              "    .dataframe tbody tr th {\n",
              "        vertical-align: top;\n",
              "    }\n",
              "\n",
              "    .dataframe thead th {\n",
              "        text-align: right;\n",
              "    }\n",
              "</style>\n",
              "<table border=\"1\" class=\"dataframe\">\n",
              "  <thead>\n",
              "    <tr style=\"text-align: right;\">\n",
              "      <th></th>\n",
              "      <th>states_daily</th>\n",
              "    </tr>\n",
              "  </thead>\n",
              "  <tbody>\n",
              "    <tr>\n",
              "      <th>0</th>\n",
              "      <td>{'an': '0', 'ap': '1', 'ar': '0', 'as': '0', '...</td>\n",
              "    </tr>\n",
              "    <tr>\n",
              "      <th>1</th>\n",
              "      <td>{'an': '0', 'ap': '0', 'ar': '0', 'as': '0', '...</td>\n",
              "    </tr>\n",
              "    <tr>\n",
              "      <th>2</th>\n",
              "      <td>{'an': '0', 'ap': '0', 'ar': '0', 'as': '0', '...</td>\n",
              "    </tr>\n",
              "    <tr>\n",
              "      <th>3</th>\n",
              "      <td>{'an': '0', 'ap': '0', 'ar': '0', 'as': '0', '...</td>\n",
              "    </tr>\n",
              "    <tr>\n",
              "      <th>4</th>\n",
              "      <td>{'an': '0', 'ap': '0', 'ar': '0', 'as': '0', '...</td>\n",
              "    </tr>\n",
              "    <tr>\n",
              "      <th>...</th>\n",
              "      <td>...</td>\n",
              "    </tr>\n",
              "    <tr>\n",
              "      <th>1471</th>\n",
              "      <td>{'an': '1', 'ap': '2467', 'ar': '412', 'as': '...</td>\n",
              "    </tr>\n",
              "    <tr>\n",
              "      <th>1472</th>\n",
              "      <td>{'an': '0', 'ap': '18', 'ar': '2', 'as': '23',...</td>\n",
              "    </tr>\n",
              "    <tr>\n",
              "      <th>1473</th>\n",
              "      <td>{'an': '4', 'ap': '2974', 'ar': '258', 'as': '...</td>\n",
              "    </tr>\n",
              "    <tr>\n",
              "      <th>1474</th>\n",
              "      <td>{'an': '4', 'ap': '3290', 'ar': '367', 'as': '...</td>\n",
              "    </tr>\n",
              "    <tr>\n",
              "      <th>1475</th>\n",
              "      <td>{'an': '0', 'ap': '17', 'ar': '1', 'as': '15',...</td>\n",
              "    </tr>\n",
              "  </tbody>\n",
              "</table>\n",
              "<p>1476 rows × 1 columns</p>\n",
              "</div>"
            ],
            "text/plain": [
              "                                           states_daily\n",
              "0     {'an': '0', 'ap': '1', 'ar': '0', 'as': '0', '...\n",
              "1     {'an': '0', 'ap': '0', 'ar': '0', 'as': '0', '...\n",
              "2     {'an': '0', 'ap': '0', 'ar': '0', 'as': '0', '...\n",
              "3     {'an': '0', 'ap': '0', 'ar': '0', 'as': '0', '...\n",
              "4     {'an': '0', 'ap': '0', 'ar': '0', 'as': '0', '...\n",
              "...                                                 ...\n",
              "1471  {'an': '1', 'ap': '2467', 'ar': '412', 'as': '...\n",
              "1472  {'an': '0', 'ap': '18', 'ar': '2', 'as': '23',...\n",
              "1473  {'an': '4', 'ap': '2974', 'ar': '258', 'as': '...\n",
              "1474  {'an': '4', 'ap': '3290', 'ar': '367', 'as': '...\n",
              "1475  {'an': '0', 'ap': '17', 'ar': '1', 'as': '15',...\n",
              "\n",
              "[1476 rows x 1 columns]"
            ]
          },
          "metadata": {
            "tags": []
          },
          "execution_count": 39
        }
      ]
    },
    {
      "cell_type": "code",
      "metadata": {
        "id": "TVD6vsmf0fVN"
      },
      "source": [
        "import json"
      ],
      "execution_count": null,
      "outputs": []
    },
    {
      "cell_type": "code",
      "metadata": {
        "id": "88PxO5If08Lq"
      },
      "source": [
        "with open('data.json') as f:\n",
        "  data = json.load(f)\n",
        "data"
      ],
      "execution_count": null,
      "outputs": []
    },
    {
      "cell_type": "code",
      "metadata": {
        "id": "piC1Rpy_1IMW"
      },
      "source": [
        "data = data['states_daily']"
      ],
      "execution_count": null,
      "outputs": []
    },
    {
      "cell_type": "code",
      "metadata": {
        "id": "lK4gIySC1pk6"
      },
      "source": [
        "covid_data = pd.json_normalize(data)"
      ],
      "execution_count": null,
      "outputs": []
    },
    {
      "cell_type": "code",
      "metadata": {
        "colab": {
          "base_uri": "https://localhost:8080/",
          "height": 617
        },
        "id": "1e4l4uNZ1zpP",
        "outputId": "1761f2a8-7373-4261-c13b-62be668e7b33"
      },
      "source": [
        "covid_data"
      ],
      "execution_count": null,
      "outputs": [
        {
          "output_type": "execute_result",
          "data": {
            "text/html": [
              "<div>\n",
              "<style scoped>\n",
              "    .dataframe tbody tr th:only-of-type {\n",
              "        vertical-align: middle;\n",
              "    }\n",
              "\n",
              "    .dataframe tbody tr th {\n",
              "        vertical-align: top;\n",
              "    }\n",
              "\n",
              "    .dataframe thead th {\n",
              "        text-align: right;\n",
              "    }\n",
              "</style>\n",
              "<table border=\"1\" class=\"dataframe\">\n",
              "  <thead>\n",
              "    <tr style=\"text-align: right;\">\n",
              "      <th></th>\n",
              "      <th>an</th>\n",
              "      <th>ap</th>\n",
              "      <th>ar</th>\n",
              "      <th>as</th>\n",
              "      <th>br</th>\n",
              "      <th>ch</th>\n",
              "      <th>ct</th>\n",
              "      <th>date</th>\n",
              "      <th>dateymd</th>\n",
              "      <th>dd</th>\n",
              "      <th>dl</th>\n",
              "      <th>dn</th>\n",
              "      <th>ga</th>\n",
              "      <th>gj</th>\n",
              "      <th>hp</th>\n",
              "      <th>hr</th>\n",
              "      <th>jh</th>\n",
              "      <th>jk</th>\n",
              "      <th>ka</th>\n",
              "      <th>kl</th>\n",
              "      <th>la</th>\n",
              "      <th>ld</th>\n",
              "      <th>mh</th>\n",
              "      <th>ml</th>\n",
              "      <th>mn</th>\n",
              "      <th>mp</th>\n",
              "      <th>mz</th>\n",
              "      <th>nl</th>\n",
              "      <th>or</th>\n",
              "      <th>pb</th>\n",
              "      <th>py</th>\n",
              "      <th>rj</th>\n",
              "      <th>sk</th>\n",
              "      <th>status</th>\n",
              "      <th>tg</th>\n",
              "      <th>tn</th>\n",
              "      <th>tr</th>\n",
              "      <th>tt</th>\n",
              "      <th>un</th>\n",
              "      <th>up</th>\n",
              "      <th>ut</th>\n",
              "      <th>wb</th>\n",
              "    </tr>\n",
              "  </thead>\n",
              "  <tbody>\n",
              "    <tr>\n",
              "      <th>0</th>\n",
              "      <td>0</td>\n",
              "      <td>1</td>\n",
              "      <td>0</td>\n",
              "      <td>0</td>\n",
              "      <td>0</td>\n",
              "      <td>0</td>\n",
              "      <td>0</td>\n",
              "      <td>14-Mar-20</td>\n",
              "      <td>2020-03-14</td>\n",
              "      <td>0</td>\n",
              "      <td>7</td>\n",
              "      <td>0</td>\n",
              "      <td>0</td>\n",
              "      <td>0</td>\n",
              "      <td>0</td>\n",
              "      <td>14</td>\n",
              "      <td>0</td>\n",
              "      <td>2</td>\n",
              "      <td>6</td>\n",
              "      <td>19</td>\n",
              "      <td>0</td>\n",
              "      <td>0</td>\n",
              "      <td>14</td>\n",
              "      <td>0</td>\n",
              "      <td>0</td>\n",
              "      <td>0</td>\n",
              "      <td>0</td>\n",
              "      <td>0</td>\n",
              "      <td>0</td>\n",
              "      <td>1</td>\n",
              "      <td>0</td>\n",
              "      <td>3</td>\n",
              "      <td>0</td>\n",
              "      <td>Confirmed</td>\n",
              "      <td>1</td>\n",
              "      <td>1</td>\n",
              "      <td>0</td>\n",
              "      <td>81</td>\n",
              "      <td>0</td>\n",
              "      <td>12</td>\n",
              "      <td>0</td>\n",
              "      <td>0</td>\n",
              "    </tr>\n",
              "    <tr>\n",
              "      <th>1</th>\n",
              "      <td>0</td>\n",
              "      <td>0</td>\n",
              "      <td>0</td>\n",
              "      <td>0</td>\n",
              "      <td>0</td>\n",
              "      <td>0</td>\n",
              "      <td>0</td>\n",
              "      <td>14-Mar-20</td>\n",
              "      <td>2020-03-14</td>\n",
              "      <td>0</td>\n",
              "      <td>1</td>\n",
              "      <td>0</td>\n",
              "      <td>0</td>\n",
              "      <td>0</td>\n",
              "      <td>0</td>\n",
              "      <td>0</td>\n",
              "      <td>0</td>\n",
              "      <td>0</td>\n",
              "      <td>0</td>\n",
              "      <td>3</td>\n",
              "      <td>0</td>\n",
              "      <td>0</td>\n",
              "      <td>0</td>\n",
              "      <td>0</td>\n",
              "      <td>0</td>\n",
              "      <td>0</td>\n",
              "      <td>0</td>\n",
              "      <td>0</td>\n",
              "      <td>0</td>\n",
              "      <td>0</td>\n",
              "      <td>0</td>\n",
              "      <td>1</td>\n",
              "      <td>0</td>\n",
              "      <td>Recovered</td>\n",
              "      <td>0</td>\n",
              "      <td>0</td>\n",
              "      <td>0</td>\n",
              "      <td>9</td>\n",
              "      <td>0</td>\n",
              "      <td>4</td>\n",
              "      <td>0</td>\n",
              "      <td>0</td>\n",
              "    </tr>\n",
              "    <tr>\n",
              "      <th>2</th>\n",
              "      <td>0</td>\n",
              "      <td>0</td>\n",
              "      <td>0</td>\n",
              "      <td>0</td>\n",
              "      <td>0</td>\n",
              "      <td>0</td>\n",
              "      <td>0</td>\n",
              "      <td>14-Mar-20</td>\n",
              "      <td>2020-03-14</td>\n",
              "      <td>0</td>\n",
              "      <td>1</td>\n",
              "      <td>0</td>\n",
              "      <td>0</td>\n",
              "      <td>0</td>\n",
              "      <td>0</td>\n",
              "      <td>0</td>\n",
              "      <td>0</td>\n",
              "      <td>0</td>\n",
              "      <td>1</td>\n",
              "      <td>0</td>\n",
              "      <td>0</td>\n",
              "      <td>0</td>\n",
              "      <td>0</td>\n",
              "      <td>0</td>\n",
              "      <td>0</td>\n",
              "      <td>0</td>\n",
              "      <td>0</td>\n",
              "      <td>0</td>\n",
              "      <td>0</td>\n",
              "      <td>0</td>\n",
              "      <td>0</td>\n",
              "      <td>0</td>\n",
              "      <td>0</td>\n",
              "      <td>Deceased</td>\n",
              "      <td>0</td>\n",
              "      <td>0</td>\n",
              "      <td>0</td>\n",
              "      <td>2</td>\n",
              "      <td>0</td>\n",
              "      <td>0</td>\n",
              "      <td>0</td>\n",
              "      <td>0</td>\n",
              "    </tr>\n",
              "    <tr>\n",
              "      <th>3</th>\n",
              "      <td>0</td>\n",
              "      <td>0</td>\n",
              "      <td>0</td>\n",
              "      <td>0</td>\n",
              "      <td>0</td>\n",
              "      <td>0</td>\n",
              "      <td>0</td>\n",
              "      <td>15-Mar-20</td>\n",
              "      <td>2020-03-15</td>\n",
              "      <td>0</td>\n",
              "      <td>0</td>\n",
              "      <td>0</td>\n",
              "      <td>0</td>\n",
              "      <td>0</td>\n",
              "      <td>0</td>\n",
              "      <td>0</td>\n",
              "      <td>0</td>\n",
              "      <td>0</td>\n",
              "      <td>0</td>\n",
              "      <td>5</td>\n",
              "      <td>0</td>\n",
              "      <td>0</td>\n",
              "      <td>18</td>\n",
              "      <td>0</td>\n",
              "      <td>0</td>\n",
              "      <td>0</td>\n",
              "      <td>0</td>\n",
              "      <td>0</td>\n",
              "      <td>0</td>\n",
              "      <td>0</td>\n",
              "      <td>0</td>\n",
              "      <td>1</td>\n",
              "      <td>0</td>\n",
              "      <td>Confirmed</td>\n",
              "      <td>2</td>\n",
              "      <td>0</td>\n",
              "      <td>0</td>\n",
              "      <td>27</td>\n",
              "      <td>0</td>\n",
              "      <td>1</td>\n",
              "      <td>0</td>\n",
              "      <td>0</td>\n",
              "    </tr>\n",
              "    <tr>\n",
              "      <th>4</th>\n",
              "      <td>0</td>\n",
              "      <td>0</td>\n",
              "      <td>0</td>\n",
              "      <td>0</td>\n",
              "      <td>0</td>\n",
              "      <td>0</td>\n",
              "      <td>0</td>\n",
              "      <td>15-Mar-20</td>\n",
              "      <td>2020-03-15</td>\n",
              "      <td>0</td>\n",
              "      <td>1</td>\n",
              "      <td>0</td>\n",
              "      <td>0</td>\n",
              "      <td>0</td>\n",
              "      <td>0</td>\n",
              "      <td>0</td>\n",
              "      <td>0</td>\n",
              "      <td>0</td>\n",
              "      <td>0</td>\n",
              "      <td>0</td>\n",
              "      <td>0</td>\n",
              "      <td>0</td>\n",
              "      <td>0</td>\n",
              "      <td>0</td>\n",
              "      <td>0</td>\n",
              "      <td>0</td>\n",
              "      <td>0</td>\n",
              "      <td>0</td>\n",
              "      <td>0</td>\n",
              "      <td>0</td>\n",
              "      <td>0</td>\n",
              "      <td>2</td>\n",
              "      <td>0</td>\n",
              "      <td>Recovered</td>\n",
              "      <td>1</td>\n",
              "      <td>0</td>\n",
              "      <td>0</td>\n",
              "      <td>4</td>\n",
              "      <td>0</td>\n",
              "      <td>0</td>\n",
              "      <td>0</td>\n",
              "      <td>0</td>\n",
              "    </tr>\n",
              "    <tr>\n",
              "      <th>...</th>\n",
              "      <td>...</td>\n",
              "      <td>...</td>\n",
              "      <td>...</td>\n",
              "      <td>...</td>\n",
              "      <td>...</td>\n",
              "      <td>...</td>\n",
              "      <td>...</td>\n",
              "      <td>...</td>\n",
              "      <td>...</td>\n",
              "      <td>...</td>\n",
              "      <td>...</td>\n",
              "      <td>...</td>\n",
              "      <td>...</td>\n",
              "      <td>...</td>\n",
              "      <td>...</td>\n",
              "      <td>...</td>\n",
              "      <td>...</td>\n",
              "      <td>...</td>\n",
              "      <td>...</td>\n",
              "      <td>...</td>\n",
              "      <td>...</td>\n",
              "      <td>...</td>\n",
              "      <td>...</td>\n",
              "      <td>...</td>\n",
              "      <td>...</td>\n",
              "      <td>...</td>\n",
              "      <td>...</td>\n",
              "      <td>...</td>\n",
              "      <td>...</td>\n",
              "      <td>...</td>\n",
              "      <td>...</td>\n",
              "      <td>...</td>\n",
              "      <td>...</td>\n",
              "      <td>...</td>\n",
              "      <td>...</td>\n",
              "      <td>...</td>\n",
              "      <td>...</td>\n",
              "      <td>...</td>\n",
              "      <td>...</td>\n",
              "      <td>...</td>\n",
              "      <td>...</td>\n",
              "      <td>...</td>\n",
              "    </tr>\n",
              "    <tr>\n",
              "      <th>1471</th>\n",
              "      <td>1</td>\n",
              "      <td>2467</td>\n",
              "      <td>412</td>\n",
              "      <td>2495</td>\n",
              "      <td>105</td>\n",
              "      <td>13</td>\n",
              "      <td>354</td>\n",
              "      <td>17-Jul-21</td>\n",
              "      <td>2021-07-17</td>\n",
              "      <td>0</td>\n",
              "      <td>91</td>\n",
              "      <td>1</td>\n",
              "      <td>152</td>\n",
              "      <td>110</td>\n",
              "      <td>138</td>\n",
              "      <td>47</td>\n",
              "      <td>64</td>\n",
              "      <td>277</td>\n",
              "      <td>3144</td>\n",
              "      <td>13197</td>\n",
              "      <td>8</td>\n",
              "      <td>14</td>\n",
              "      <td>8950</td>\n",
              "      <td>585</td>\n",
              "      <td>742</td>\n",
              "      <td>23</td>\n",
              "      <td>307</td>\n",
              "      <td>60</td>\n",
              "      <td>2400</td>\n",
              "      <td>194</td>\n",
              "      <td>171</td>\n",
              "      <td>47</td>\n",
              "      <td>219</td>\n",
              "      <td>Recovered</td>\n",
              "      <td>772</td>\n",
              "      <td>2802</td>\n",
              "      <td>473</td>\n",
              "      <td>42049</td>\n",
              "      <td>0</td>\n",
              "      <td>106</td>\n",
              "      <td>66</td>\n",
              "      <td>1042</td>\n",
              "    </tr>\n",
              "    <tr>\n",
              "      <th>1472</th>\n",
              "      <td>0</td>\n",
              "      <td>18</td>\n",
              "      <td>2</td>\n",
              "      <td>23</td>\n",
              "      <td>1</td>\n",
              "      <td>0</td>\n",
              "      <td>2</td>\n",
              "      <td>17-Jul-21</td>\n",
              "      <td>2021-07-17</td>\n",
              "      <td>0</td>\n",
              "      <td>4</td>\n",
              "      <td>0</td>\n",
              "      <td>3</td>\n",
              "      <td>1</td>\n",
              "      <td>1</td>\n",
              "      <td>7</td>\n",
              "      <td>0</td>\n",
              "      <td>1</td>\n",
              "      <td>42</td>\n",
              "      <td>114</td>\n",
              "      <td>0</td>\n",
              "      <td>0</td>\n",
              "      <td>124</td>\n",
              "      <td>8</td>\n",
              "      <td>15</td>\n",
              "      <td>2</td>\n",
              "      <td>1</td>\n",
              "      <td>5</td>\n",
              "      <td>67</td>\n",
              "      <td>9</td>\n",
              "      <td>1</td>\n",
              "      <td>2</td>\n",
              "      <td>2</td>\n",
              "      <td>Deceased</td>\n",
              "      <td>5</td>\n",
              "      <td>43</td>\n",
              "      <td>1</td>\n",
              "      <td>517</td>\n",
              "      <td>0</td>\n",
              "      <td>4</td>\n",
              "      <td>1</td>\n",
              "      <td>8</td>\n",
              "    </tr>\n",
              "    <tr>\n",
              "      <th>1473</th>\n",
              "      <td>4</td>\n",
              "      <td>2974</td>\n",
              "      <td>258</td>\n",
              "      <td>1329</td>\n",
              "      <td>81</td>\n",
              "      <td>19</td>\n",
              "      <td>165</td>\n",
              "      <td>18-Jul-21</td>\n",
              "      <td>2021-07-18</td>\n",
              "      <td>0</td>\n",
              "      <td>51</td>\n",
              "      <td>4</td>\n",
              "      <td>120</td>\n",
              "      <td>33</td>\n",
              "      <td>54</td>\n",
              "      <td>35</td>\n",
              "      <td>32</td>\n",
              "      <td>146</td>\n",
              "      <td>1708</td>\n",
              "      <td>13956</td>\n",
              "      <td>11</td>\n",
              "      <td>3</td>\n",
              "      <td>9000</td>\n",
              "      <td>388</td>\n",
              "      <td>963</td>\n",
              "      <td>18</td>\n",
              "      <td>463</td>\n",
              "      <td>106</td>\n",
              "      <td>2215</td>\n",
              "      <td>86</td>\n",
              "      <td>100</td>\n",
              "      <td>26</td>\n",
              "      <td>155</td>\n",
              "      <td>Confirmed</td>\n",
              "      <td>578</td>\n",
              "      <td>2079</td>\n",
              "      <td>325</td>\n",
              "      <td>38330</td>\n",
              "      <td>0</td>\n",
              "      <td>25</td>\n",
              "      <td>19</td>\n",
              "      <td>801</td>\n",
              "    </tr>\n",
              "    <tr>\n",
              "      <th>1474</th>\n",
              "      <td>4</td>\n",
              "      <td>3290</td>\n",
              "      <td>367</td>\n",
              "      <td>2277</td>\n",
              "      <td>109</td>\n",
              "      <td>22</td>\n",
              "      <td>281</td>\n",
              "      <td>18-Jul-21</td>\n",
              "      <td>2021-07-18</td>\n",
              "      <td>0</td>\n",
              "      <td>80</td>\n",
              "      <td>2</td>\n",
              "      <td>219</td>\n",
              "      <td>71</td>\n",
              "      <td>153</td>\n",
              "      <td>35</td>\n",
              "      <td>42</td>\n",
              "      <td>230</td>\n",
              "      <td>2463</td>\n",
              "      <td>13613</td>\n",
              "      <td>11</td>\n",
              "      <td>8</td>\n",
              "      <td>5756</td>\n",
              "      <td>483</td>\n",
              "      <td>723</td>\n",
              "      <td>20</td>\n",
              "      <td>227</td>\n",
              "      <td>56</td>\n",
              "      <td>2492</td>\n",
              "      <td>184</td>\n",
              "      <td>144</td>\n",
              "      <td>49</td>\n",
              "      <td>98</td>\n",
              "      <td>Recovered</td>\n",
              "      <td>731</td>\n",
              "      <td>2743</td>\n",
              "      <td>416</td>\n",
              "      <td>38532</td>\n",
              "      <td>0</td>\n",
              "      <td>69</td>\n",
              "      <td>52</td>\n",
              "      <td>1012</td>\n",
              "    </tr>\n",
              "    <tr>\n",
              "      <th>1475</th>\n",
              "      <td>0</td>\n",
              "      <td>17</td>\n",
              "      <td>1</td>\n",
              "      <td>15</td>\n",
              "      <td>2</td>\n",
              "      <td>0</td>\n",
              "      <td>2</td>\n",
              "      <td>18-Jul-21</td>\n",
              "      <td>2021-07-18</td>\n",
              "      <td>0</td>\n",
              "      <td>0</td>\n",
              "      <td>0</td>\n",
              "      <td>2</td>\n",
              "      <td>1</td>\n",
              "      <td>2</td>\n",
              "      <td>6</td>\n",
              "      <td>0</td>\n",
              "      <td>1</td>\n",
              "      <td>36</td>\n",
              "      <td>81</td>\n",
              "      <td>0</td>\n",
              "      <td>0</td>\n",
              "      <td>180</td>\n",
              "      <td>6</td>\n",
              "      <td>11</td>\n",
              "      <td>0</td>\n",
              "      <td>2</td>\n",
              "      <td>4</td>\n",
              "      <td>66</td>\n",
              "      <td>9</td>\n",
              "      <td>2</td>\n",
              "      <td>1</td>\n",
              "      <td>3</td>\n",
              "      <td>Deceased</td>\n",
              "      <td>3</td>\n",
              "      <td>29</td>\n",
              "      <td>2</td>\n",
              "      <td>501</td>\n",
              "      <td>0</td>\n",
              "      <td>6</td>\n",
              "      <td>0</td>\n",
              "      <td>11</td>\n",
              "    </tr>\n",
              "  </tbody>\n",
              "</table>\n",
              "<p>1476 rows × 42 columns</p>\n",
              "</div>"
            ],
            "text/plain": [
              "     an    ap   ar    as   br  ch   ct  ...    tn   tr     tt un   up  ut    wb\n",
              "0     0     1    0     0    0   0    0  ...     1    0     81  0   12   0     0\n",
              "1     0     0    0     0    0   0    0  ...     0    0      9  0    4   0     0\n",
              "2     0     0    0     0    0   0    0  ...     0    0      2  0    0   0     0\n",
              "3     0     0    0     0    0   0    0  ...     0    0     27  0    1   0     0\n",
              "4     0     0    0     0    0   0    0  ...     0    0      4  0    0   0     0\n",
              "...  ..   ...  ...   ...  ...  ..  ...  ...   ...  ...    ... ..  ...  ..   ...\n",
              "1471  1  2467  412  2495  105  13  354  ...  2802  473  42049  0  106  66  1042\n",
              "1472  0    18    2    23    1   0    2  ...    43    1    517  0    4   1     8\n",
              "1473  4  2974  258  1329   81  19  165  ...  2079  325  38330  0   25  19   801\n",
              "1474  4  3290  367  2277  109  22  281  ...  2743  416  38532  0   69  52  1012\n",
              "1475  0    17    1    15    2   0    2  ...    29    2    501  0    6   0    11\n",
              "\n",
              "[1476 rows x 42 columns]"
            ]
          },
          "metadata": {
            "tags": []
          },
          "execution_count": 45
        }
      ]
    },
    {
      "cell_type": "code",
      "metadata": {
        "colab": {
          "base_uri": "https://localhost:8080/"
        },
        "id": "6Qr432IX1-v7",
        "outputId": "38a29624-2132-4574-9155-9fbbd93c965f"
      },
      "source": [
        "covid_data.info()"
      ],
      "execution_count": null,
      "outputs": [
        {
          "output_type": "stream",
          "text": [
            "<class 'pandas.core.frame.DataFrame'>\n",
            "RangeIndex: 1476 entries, 0 to 1475\n",
            "Data columns (total 42 columns):\n",
            " #   Column   Non-Null Count  Dtype \n",
            "---  ------   --------------  ----- \n",
            " 0   an       1476 non-null   object\n",
            " 1   ap       1476 non-null   object\n",
            " 2   ar       1476 non-null   object\n",
            " 3   as       1476 non-null   object\n",
            " 4   br       1476 non-null   object\n",
            " 5   ch       1476 non-null   object\n",
            " 6   ct       1476 non-null   object\n",
            " 7   date     1476 non-null   object\n",
            " 8   dateymd  1476 non-null   object\n",
            " 9   dd       1476 non-null   object\n",
            " 10  dl       1476 non-null   object\n",
            " 11  dn       1476 non-null   object\n",
            " 12  ga       1476 non-null   object\n",
            " 13  gj       1476 non-null   object\n",
            " 14  hp       1476 non-null   object\n",
            " 15  hr       1476 non-null   object\n",
            " 16  jh       1476 non-null   object\n",
            " 17  jk       1476 non-null   object\n",
            " 18  ka       1476 non-null   object\n",
            " 19  kl       1476 non-null   object\n",
            " 20  la       1476 non-null   object\n",
            " 21  ld       1476 non-null   object\n",
            " 22  mh       1476 non-null   object\n",
            " 23  ml       1476 non-null   object\n",
            " 24  mn       1476 non-null   object\n",
            " 25  mp       1476 non-null   object\n",
            " 26  mz       1476 non-null   object\n",
            " 27  nl       1476 non-null   object\n",
            " 28  or       1476 non-null   object\n",
            " 29  pb       1476 non-null   object\n",
            " 30  py       1476 non-null   object\n",
            " 31  rj       1476 non-null   object\n",
            " 32  sk       1476 non-null   object\n",
            " 33  status   1476 non-null   object\n",
            " 34  tg       1476 non-null   object\n",
            " 35  tn       1476 non-null   object\n",
            " 36  tr       1476 non-null   object\n",
            " 37  tt       1476 non-null   object\n",
            " 38  un       1476 non-null   object\n",
            " 39  up       1476 non-null   object\n",
            " 40  ut       1476 non-null   object\n",
            " 41  wb       1476 non-null   object\n",
            "dtypes: object(42)\n",
            "memory usage: 484.4+ KB\n"
          ],
          "name": "stdout"
        }
      ]
    },
    {
      "cell_type": "code",
      "metadata": {
        "id": "8UMavuUU2btp"
      },
      "source": [
        "# covid_data = pd.to_datetime(covid_data.date)"
      ],
      "execution_count": null,
      "outputs": []
    },
    {
      "cell_type": "code",
      "metadata": {
        "id": "OaWKHFvf2oLe"
      },
      "source": [
        "# covid_data.info()"
      ],
      "execution_count": null,
      "outputs": []
    },
    {
      "cell_type": "code",
      "metadata": {
        "id": "ZGUaZJbL2plN"
      },
      "source": [
        "covid_data = covid_data[covid_data.status == 'Confirmed']"
      ],
      "execution_count": null,
      "outputs": []
    },
    {
      "cell_type": "code",
      "metadata": {
        "colab": {
          "base_uri": "https://localhost:8080/",
          "height": 617
        },
        "id": "h58i5VHR3SFa",
        "outputId": "de5b5b1c-b7ed-4cf1-811b-7186601b9b1d"
      },
      "source": [
        "covid_data"
      ],
      "execution_count": null,
      "outputs": [
        {
          "output_type": "execute_result",
          "data": {
            "text/html": [
              "<div>\n",
              "<style scoped>\n",
              "    .dataframe tbody tr th:only-of-type {\n",
              "        vertical-align: middle;\n",
              "    }\n",
              "\n",
              "    .dataframe tbody tr th {\n",
              "        vertical-align: top;\n",
              "    }\n",
              "\n",
              "    .dataframe thead th {\n",
              "        text-align: right;\n",
              "    }\n",
              "</style>\n",
              "<table border=\"1\" class=\"dataframe\">\n",
              "  <thead>\n",
              "    <tr style=\"text-align: right;\">\n",
              "      <th></th>\n",
              "      <th>an</th>\n",
              "      <th>ap</th>\n",
              "      <th>ar</th>\n",
              "      <th>as</th>\n",
              "      <th>br</th>\n",
              "      <th>ch</th>\n",
              "      <th>ct</th>\n",
              "      <th>date</th>\n",
              "      <th>dateymd</th>\n",
              "      <th>dd</th>\n",
              "      <th>dl</th>\n",
              "      <th>dn</th>\n",
              "      <th>ga</th>\n",
              "      <th>gj</th>\n",
              "      <th>hp</th>\n",
              "      <th>hr</th>\n",
              "      <th>jh</th>\n",
              "      <th>jk</th>\n",
              "      <th>ka</th>\n",
              "      <th>kl</th>\n",
              "      <th>la</th>\n",
              "      <th>ld</th>\n",
              "      <th>mh</th>\n",
              "      <th>ml</th>\n",
              "      <th>mn</th>\n",
              "      <th>mp</th>\n",
              "      <th>mz</th>\n",
              "      <th>nl</th>\n",
              "      <th>or</th>\n",
              "      <th>pb</th>\n",
              "      <th>py</th>\n",
              "      <th>rj</th>\n",
              "      <th>sk</th>\n",
              "      <th>status</th>\n",
              "      <th>tg</th>\n",
              "      <th>tn</th>\n",
              "      <th>tr</th>\n",
              "      <th>tt</th>\n",
              "      <th>un</th>\n",
              "      <th>up</th>\n",
              "      <th>ut</th>\n",
              "      <th>wb</th>\n",
              "    </tr>\n",
              "  </thead>\n",
              "  <tbody>\n",
              "    <tr>\n",
              "      <th>0</th>\n",
              "      <td>0</td>\n",
              "      <td>1</td>\n",
              "      <td>0</td>\n",
              "      <td>0</td>\n",
              "      <td>0</td>\n",
              "      <td>0</td>\n",
              "      <td>0</td>\n",
              "      <td>14-Mar-20</td>\n",
              "      <td>2020-03-14</td>\n",
              "      <td>0</td>\n",
              "      <td>7</td>\n",
              "      <td>0</td>\n",
              "      <td>0</td>\n",
              "      <td>0</td>\n",
              "      <td>0</td>\n",
              "      <td>14</td>\n",
              "      <td>0</td>\n",
              "      <td>2</td>\n",
              "      <td>6</td>\n",
              "      <td>19</td>\n",
              "      <td>0</td>\n",
              "      <td>0</td>\n",
              "      <td>14</td>\n",
              "      <td>0</td>\n",
              "      <td>0</td>\n",
              "      <td>0</td>\n",
              "      <td>0</td>\n",
              "      <td>0</td>\n",
              "      <td>0</td>\n",
              "      <td>1</td>\n",
              "      <td>0</td>\n",
              "      <td>3</td>\n",
              "      <td>0</td>\n",
              "      <td>Confirmed</td>\n",
              "      <td>1</td>\n",
              "      <td>1</td>\n",
              "      <td>0</td>\n",
              "      <td>81</td>\n",
              "      <td>0</td>\n",
              "      <td>12</td>\n",
              "      <td>0</td>\n",
              "      <td>0</td>\n",
              "    </tr>\n",
              "    <tr>\n",
              "      <th>3</th>\n",
              "      <td>0</td>\n",
              "      <td>0</td>\n",
              "      <td>0</td>\n",
              "      <td>0</td>\n",
              "      <td>0</td>\n",
              "      <td>0</td>\n",
              "      <td>0</td>\n",
              "      <td>15-Mar-20</td>\n",
              "      <td>2020-03-15</td>\n",
              "      <td>0</td>\n",
              "      <td>0</td>\n",
              "      <td>0</td>\n",
              "      <td>0</td>\n",
              "      <td>0</td>\n",
              "      <td>0</td>\n",
              "      <td>0</td>\n",
              "      <td>0</td>\n",
              "      <td>0</td>\n",
              "      <td>0</td>\n",
              "      <td>5</td>\n",
              "      <td>0</td>\n",
              "      <td>0</td>\n",
              "      <td>18</td>\n",
              "      <td>0</td>\n",
              "      <td>0</td>\n",
              "      <td>0</td>\n",
              "      <td>0</td>\n",
              "      <td>0</td>\n",
              "      <td>0</td>\n",
              "      <td>0</td>\n",
              "      <td>0</td>\n",
              "      <td>1</td>\n",
              "      <td>0</td>\n",
              "      <td>Confirmed</td>\n",
              "      <td>2</td>\n",
              "      <td>0</td>\n",
              "      <td>0</td>\n",
              "      <td>27</td>\n",
              "      <td>0</td>\n",
              "      <td>1</td>\n",
              "      <td>0</td>\n",
              "      <td>0</td>\n",
              "    </tr>\n",
              "    <tr>\n",
              "      <th>6</th>\n",
              "      <td>0</td>\n",
              "      <td>0</td>\n",
              "      <td>0</td>\n",
              "      <td>0</td>\n",
              "      <td>0</td>\n",
              "      <td>0</td>\n",
              "      <td>0</td>\n",
              "      <td>16-Mar-20</td>\n",
              "      <td>2020-03-16</td>\n",
              "      <td>0</td>\n",
              "      <td>0</td>\n",
              "      <td>0</td>\n",
              "      <td>0</td>\n",
              "      <td>0</td>\n",
              "      <td>0</td>\n",
              "      <td>0</td>\n",
              "      <td>0</td>\n",
              "      <td>1</td>\n",
              "      <td>1</td>\n",
              "      <td>3</td>\n",
              "      <td>0</td>\n",
              "      <td>0</td>\n",
              "      <td>6</td>\n",
              "      <td>0</td>\n",
              "      <td>0</td>\n",
              "      <td>0</td>\n",
              "      <td>0</td>\n",
              "      <td>0</td>\n",
              "      <td>1</td>\n",
              "      <td>0</td>\n",
              "      <td>1</td>\n",
              "      <td>0</td>\n",
              "      <td>0</td>\n",
              "      <td>Confirmed</td>\n",
              "      <td>1</td>\n",
              "      <td>0</td>\n",
              "      <td>0</td>\n",
              "      <td>15</td>\n",
              "      <td>0</td>\n",
              "      <td>0</td>\n",
              "      <td>1</td>\n",
              "      <td>0</td>\n",
              "    </tr>\n",
              "    <tr>\n",
              "      <th>9</th>\n",
              "      <td>0</td>\n",
              "      <td>0</td>\n",
              "      <td>0</td>\n",
              "      <td>0</td>\n",
              "      <td>0</td>\n",
              "      <td>0</td>\n",
              "      <td>0</td>\n",
              "      <td>17-Mar-20</td>\n",
              "      <td>2020-03-17</td>\n",
              "      <td>0</td>\n",
              "      <td>1</td>\n",
              "      <td>0</td>\n",
              "      <td>0</td>\n",
              "      <td>0</td>\n",
              "      <td>0</td>\n",
              "      <td>1</td>\n",
              "      <td>0</td>\n",
              "      <td>0</td>\n",
              "      <td>2</td>\n",
              "      <td>0</td>\n",
              "      <td>0</td>\n",
              "      <td>0</td>\n",
              "      <td>3</td>\n",
              "      <td>0</td>\n",
              "      <td>0</td>\n",
              "      <td>0</td>\n",
              "      <td>0</td>\n",
              "      <td>0</td>\n",
              "      <td>0</td>\n",
              "      <td>0</td>\n",
              "      <td>0</td>\n",
              "      <td>0</td>\n",
              "      <td>0</td>\n",
              "      <td>Confirmed</td>\n",
              "      <td>1</td>\n",
              "      <td>0</td>\n",
              "      <td>0</td>\n",
              "      <td>11</td>\n",
              "      <td>0</td>\n",
              "      <td>2</td>\n",
              "      <td>0</td>\n",
              "      <td>1</td>\n",
              "    </tr>\n",
              "    <tr>\n",
              "      <th>12</th>\n",
              "      <td>0</td>\n",
              "      <td>0</td>\n",
              "      <td>0</td>\n",
              "      <td>0</td>\n",
              "      <td>0</td>\n",
              "      <td>0</td>\n",
              "      <td>0</td>\n",
              "      <td>18-Mar-20</td>\n",
              "      <td>2020-03-18</td>\n",
              "      <td>0</td>\n",
              "      <td>2</td>\n",
              "      <td>0</td>\n",
              "      <td>0</td>\n",
              "      <td>0</td>\n",
              "      <td>0</td>\n",
              "      <td>1</td>\n",
              "      <td>0</td>\n",
              "      <td>1</td>\n",
              "      <td>5</td>\n",
              "      <td>0</td>\n",
              "      <td>8</td>\n",
              "      <td>0</td>\n",
              "      <td>3</td>\n",
              "      <td>0</td>\n",
              "      <td>0</td>\n",
              "      <td>0</td>\n",
              "      <td>0</td>\n",
              "      <td>0</td>\n",
              "      <td>1</td>\n",
              "      <td>1</td>\n",
              "      <td>0</td>\n",
              "      <td>3</td>\n",
              "      <td>0</td>\n",
              "      <td>Confirmed</td>\n",
              "      <td>8</td>\n",
              "      <td>1</td>\n",
              "      <td>0</td>\n",
              "      <td>37</td>\n",
              "      <td>0</td>\n",
              "      <td>2</td>\n",
              "      <td>1</td>\n",
              "      <td>0</td>\n",
              "    </tr>\n",
              "    <tr>\n",
              "      <th>...</th>\n",
              "      <td>...</td>\n",
              "      <td>...</td>\n",
              "      <td>...</td>\n",
              "      <td>...</td>\n",
              "      <td>...</td>\n",
              "      <td>...</td>\n",
              "      <td>...</td>\n",
              "      <td>...</td>\n",
              "      <td>...</td>\n",
              "      <td>...</td>\n",
              "      <td>...</td>\n",
              "      <td>...</td>\n",
              "      <td>...</td>\n",
              "      <td>...</td>\n",
              "      <td>...</td>\n",
              "      <td>...</td>\n",
              "      <td>...</td>\n",
              "      <td>...</td>\n",
              "      <td>...</td>\n",
              "      <td>...</td>\n",
              "      <td>...</td>\n",
              "      <td>...</td>\n",
              "      <td>...</td>\n",
              "      <td>...</td>\n",
              "      <td>...</td>\n",
              "      <td>...</td>\n",
              "      <td>...</td>\n",
              "      <td>...</td>\n",
              "      <td>...</td>\n",
              "      <td>...</td>\n",
              "      <td>...</td>\n",
              "      <td>...</td>\n",
              "      <td>...</td>\n",
              "      <td>...</td>\n",
              "      <td>...</td>\n",
              "      <td>...</td>\n",
              "      <td>...</td>\n",
              "      <td>...</td>\n",
              "      <td>...</td>\n",
              "      <td>...</td>\n",
              "      <td>...</td>\n",
              "      <td>...</td>\n",
              "    </tr>\n",
              "    <tr>\n",
              "      <th>1461</th>\n",
              "      <td>3</td>\n",
              "      <td>2591</td>\n",
              "      <td>465</td>\n",
              "      <td>2046</td>\n",
              "      <td>113</td>\n",
              "      <td>7</td>\n",
              "      <td>252</td>\n",
              "      <td>14-Jul-21</td>\n",
              "      <td>2021-07-14</td>\n",
              "      <td>0</td>\n",
              "      <td>77</td>\n",
              "      <td>2</td>\n",
              "      <td>227</td>\n",
              "      <td>41</td>\n",
              "      <td>93</td>\n",
              "      <td>40</td>\n",
              "      <td>68</td>\n",
              "      <td>161</td>\n",
              "      <td>1990</td>\n",
              "      <td>15637</td>\n",
              "      <td>4</td>\n",
              "      <td>5</td>\n",
              "      <td>8602</td>\n",
              "      <td>422</td>\n",
              "      <td>1104</td>\n",
              "      <td>11</td>\n",
              "      <td>468</td>\n",
              "      <td>109</td>\n",
              "      <td>2074</td>\n",
              "      <td>108</td>\n",
              "      <td>121</td>\n",
              "      <td>37</td>\n",
              "      <td>169</td>\n",
              "      <td>Confirmed</td>\n",
              "      <td>749</td>\n",
              "      <td>2458</td>\n",
              "      <td>558</td>\n",
              "      <td>41759</td>\n",
              "      <td>0</td>\n",
              "      <td>83</td>\n",
              "      <td>33</td>\n",
              "      <td>831</td>\n",
              "    </tr>\n",
              "    <tr>\n",
              "      <th>1464</th>\n",
              "      <td>2</td>\n",
              "      <td>2526</td>\n",
              "      <td>367</td>\n",
              "      <td>1992</td>\n",
              "      <td>125</td>\n",
              "      <td>5</td>\n",
              "      <td>333</td>\n",
              "      <td>15-Jul-21</td>\n",
              "      <td>2021-07-15</td>\n",
              "      <td>0</td>\n",
              "      <td>72</td>\n",
              "      <td>0</td>\n",
              "      <td>126</td>\n",
              "      <td>38</td>\n",
              "      <td>136</td>\n",
              "      <td>34</td>\n",
              "      <td>54</td>\n",
              "      <td>203</td>\n",
              "      <td>1977</td>\n",
              "      <td>13773</td>\n",
              "      <td>3</td>\n",
              "      <td>7</td>\n",
              "      <td>8010</td>\n",
              "      <td>412</td>\n",
              "      <td>1039</td>\n",
              "      <td>20</td>\n",
              "      <td>581</td>\n",
              "      <td>132</td>\n",
              "      <td>2110</td>\n",
              "      <td>98</td>\n",
              "      <td>103</td>\n",
              "      <td>33</td>\n",
              "      <td>137</td>\n",
              "      <td>Confirmed</td>\n",
              "      <td>710</td>\n",
              "      <td>2405</td>\n",
              "      <td>492</td>\n",
              "      <td>39071</td>\n",
              "      <td>0</td>\n",
              "      <td>70</td>\n",
              "      <td>55</td>\n",
              "      <td>891</td>\n",
              "    </tr>\n",
              "    <tr>\n",
              "      <th>1467</th>\n",
              "      <td>4</td>\n",
              "      <td>2345</td>\n",
              "      <td>443</td>\n",
              "      <td>1782</td>\n",
              "      <td>90</td>\n",
              "      <td>6</td>\n",
              "      <td>312</td>\n",
              "      <td>16-Jul-21</td>\n",
              "      <td>2021-07-16</td>\n",
              "      <td>0</td>\n",
              "      <td>66</td>\n",
              "      <td>1</td>\n",
              "      <td>120</td>\n",
              "      <td>39</td>\n",
              "      <td>126</td>\n",
              "      <td>46</td>\n",
              "      <td>55</td>\n",
              "      <td>221</td>\n",
              "      <td>1806</td>\n",
              "      <td>13750</td>\n",
              "      <td>6</td>\n",
              "      <td>10</td>\n",
              "      <td>7761</td>\n",
              "      <td>441</td>\n",
              "      <td>1128</td>\n",
              "      <td>15</td>\n",
              "      <td>455</td>\n",
              "      <td>95</td>\n",
              "      <td>2070</td>\n",
              "      <td>103</td>\n",
              "      <td>104</td>\n",
              "      <td>35</td>\n",
              "      <td>151</td>\n",
              "      <td>Confirmed</td>\n",
              "      <td>715</td>\n",
              "      <td>2312</td>\n",
              "      <td>495</td>\n",
              "      <td>38115</td>\n",
              "      <td>0</td>\n",
              "      <td>86</td>\n",
              "      <td>39</td>\n",
              "      <td>882</td>\n",
              "    </tr>\n",
              "    <tr>\n",
              "      <th>1470</th>\n",
              "      <td>1</td>\n",
              "      <td>2672</td>\n",
              "      <td>475</td>\n",
              "      <td>1727</td>\n",
              "      <td>79</td>\n",
              "      <td>8</td>\n",
              "      <td>226</td>\n",
              "      <td>17-Jul-21</td>\n",
              "      <td>2021-07-17</td>\n",
              "      <td>0</td>\n",
              "      <td>59</td>\n",
              "      <td>1</td>\n",
              "      <td>159</td>\n",
              "      <td>37</td>\n",
              "      <td>113</td>\n",
              "      <td>41</td>\n",
              "      <td>61</td>\n",
              "      <td>179</td>\n",
              "      <td>1869</td>\n",
              "      <td>16148</td>\n",
              "      <td>6</td>\n",
              "      <td>8</td>\n",
              "      <td>8172</td>\n",
              "      <td>507</td>\n",
              "      <td>1171</td>\n",
              "      <td>11</td>\n",
              "      <td>484</td>\n",
              "      <td>100</td>\n",
              "      <td>2182</td>\n",
              "      <td>118</td>\n",
              "      <td>94</td>\n",
              "      <td>42</td>\n",
              "      <td>157</td>\n",
              "      <td>Confirmed</td>\n",
              "      <td>729</td>\n",
              "      <td>2205</td>\n",
              "      <td>430</td>\n",
              "      <td>41283</td>\n",
              "      <td>0</td>\n",
              "      <td>81</td>\n",
              "      <td>32</td>\n",
              "      <td>899</td>\n",
              "    </tr>\n",
              "    <tr>\n",
              "      <th>1473</th>\n",
              "      <td>4</td>\n",
              "      <td>2974</td>\n",
              "      <td>258</td>\n",
              "      <td>1329</td>\n",
              "      <td>81</td>\n",
              "      <td>19</td>\n",
              "      <td>165</td>\n",
              "      <td>18-Jul-21</td>\n",
              "      <td>2021-07-18</td>\n",
              "      <td>0</td>\n",
              "      <td>51</td>\n",
              "      <td>4</td>\n",
              "      <td>120</td>\n",
              "      <td>33</td>\n",
              "      <td>54</td>\n",
              "      <td>35</td>\n",
              "      <td>32</td>\n",
              "      <td>146</td>\n",
              "      <td>1708</td>\n",
              "      <td>13956</td>\n",
              "      <td>11</td>\n",
              "      <td>3</td>\n",
              "      <td>9000</td>\n",
              "      <td>388</td>\n",
              "      <td>963</td>\n",
              "      <td>18</td>\n",
              "      <td>463</td>\n",
              "      <td>106</td>\n",
              "      <td>2215</td>\n",
              "      <td>86</td>\n",
              "      <td>100</td>\n",
              "      <td>26</td>\n",
              "      <td>155</td>\n",
              "      <td>Confirmed</td>\n",
              "      <td>578</td>\n",
              "      <td>2079</td>\n",
              "      <td>325</td>\n",
              "      <td>38330</td>\n",
              "      <td>0</td>\n",
              "      <td>25</td>\n",
              "      <td>19</td>\n",
              "      <td>801</td>\n",
              "    </tr>\n",
              "  </tbody>\n",
              "</table>\n",
              "<p>492 rows × 42 columns</p>\n",
              "</div>"
            ],
            "text/plain": [
              "     an    ap   ar    as   br  ch   ct  ...    tn   tr     tt un  up  ut   wb\n",
              "0     0     1    0     0    0   0    0  ...     1    0     81  0  12   0    0\n",
              "3     0     0    0     0    0   0    0  ...     0    0     27  0   1   0    0\n",
              "6     0     0    0     0    0   0    0  ...     0    0     15  0   0   1    0\n",
              "9     0     0    0     0    0   0    0  ...     0    0     11  0   2   0    1\n",
              "12    0     0    0     0    0   0    0  ...     1    0     37  0   2   1    0\n",
              "...  ..   ...  ...   ...  ...  ..  ...  ...   ...  ...    ... ..  ..  ..  ...\n",
              "1461  3  2591  465  2046  113   7  252  ...  2458  558  41759  0  83  33  831\n",
              "1464  2  2526  367  1992  125   5  333  ...  2405  492  39071  0  70  55  891\n",
              "1467  4  2345  443  1782   90   6  312  ...  2312  495  38115  0  86  39  882\n",
              "1470  1  2672  475  1727   79   8  226  ...  2205  430  41283  0  81  32  899\n",
              "1473  4  2974  258  1329   81  19  165  ...  2079  325  38330  0  25  19  801\n",
              "\n",
              "[492 rows x 42 columns]"
            ]
          },
          "metadata": {
            "tags": []
          },
          "execution_count": 48
        }
      ]
    },
    {
      "cell_type": "code",
      "metadata": {
        "colab": {
          "base_uri": "https://localhost:8080/"
        },
        "id": "JzZ6SM5z3aqc",
        "outputId": "f500baa8-4f45-469e-8be6-cd921155188d"
      },
      "source": [
        "covid_data.drop('status', axis=1, inplace=True)\n",
        "covid_data.drop('dateymd', axis=1, inplace=True)"
      ],
      "execution_count": null,
      "outputs": [
        {
          "output_type": "stream",
          "text": [
            "/usr/local/lib/python3.7/dist-packages/pandas/core/frame.py:4174: SettingWithCopyWarning: \n",
            "A value is trying to be set on a copy of a slice from a DataFrame\n",
            "\n",
            "See the caveats in the documentation: https://pandas.pydata.org/pandas-docs/stable/user_guide/indexing.html#returning-a-view-versus-a-copy\n",
            "  errors=errors,\n"
          ],
          "name": "stderr"
        }
      ]
    },
    {
      "cell_type": "code",
      "metadata": {
        "colab": {
          "base_uri": "https://localhost:8080/",
          "height": 617
        },
        "id": "xPsv-O9c3tfR",
        "outputId": "ec7689fb-96ee-4f21-c3ed-d9f64b1293ce"
      },
      "source": [
        "covid_data"
      ],
      "execution_count": null,
      "outputs": [
        {
          "output_type": "execute_result",
          "data": {
            "text/html": [
              "<div>\n",
              "<style scoped>\n",
              "    .dataframe tbody tr th:only-of-type {\n",
              "        vertical-align: middle;\n",
              "    }\n",
              "\n",
              "    .dataframe tbody tr th {\n",
              "        vertical-align: top;\n",
              "    }\n",
              "\n",
              "    .dataframe thead th {\n",
              "        text-align: right;\n",
              "    }\n",
              "</style>\n",
              "<table border=\"1\" class=\"dataframe\">\n",
              "  <thead>\n",
              "    <tr style=\"text-align: right;\">\n",
              "      <th></th>\n",
              "      <th>an</th>\n",
              "      <th>ap</th>\n",
              "      <th>ar</th>\n",
              "      <th>as</th>\n",
              "      <th>br</th>\n",
              "      <th>ch</th>\n",
              "      <th>ct</th>\n",
              "      <th>date</th>\n",
              "      <th>dd</th>\n",
              "      <th>dl</th>\n",
              "      <th>dn</th>\n",
              "      <th>ga</th>\n",
              "      <th>gj</th>\n",
              "      <th>hp</th>\n",
              "      <th>hr</th>\n",
              "      <th>jh</th>\n",
              "      <th>jk</th>\n",
              "      <th>ka</th>\n",
              "      <th>kl</th>\n",
              "      <th>la</th>\n",
              "      <th>ld</th>\n",
              "      <th>mh</th>\n",
              "      <th>ml</th>\n",
              "      <th>mn</th>\n",
              "      <th>mp</th>\n",
              "      <th>mz</th>\n",
              "      <th>nl</th>\n",
              "      <th>or</th>\n",
              "      <th>pb</th>\n",
              "      <th>py</th>\n",
              "      <th>rj</th>\n",
              "      <th>sk</th>\n",
              "      <th>tg</th>\n",
              "      <th>tn</th>\n",
              "      <th>tr</th>\n",
              "      <th>tt</th>\n",
              "      <th>un</th>\n",
              "      <th>up</th>\n",
              "      <th>ut</th>\n",
              "      <th>wb</th>\n",
              "    </tr>\n",
              "  </thead>\n",
              "  <tbody>\n",
              "    <tr>\n",
              "      <th>0</th>\n",
              "      <td>0</td>\n",
              "      <td>1</td>\n",
              "      <td>0</td>\n",
              "      <td>0</td>\n",
              "      <td>0</td>\n",
              "      <td>0</td>\n",
              "      <td>0</td>\n",
              "      <td>14-Mar-20</td>\n",
              "      <td>0</td>\n",
              "      <td>7</td>\n",
              "      <td>0</td>\n",
              "      <td>0</td>\n",
              "      <td>0</td>\n",
              "      <td>0</td>\n",
              "      <td>14</td>\n",
              "      <td>0</td>\n",
              "      <td>2</td>\n",
              "      <td>6</td>\n",
              "      <td>19</td>\n",
              "      <td>0</td>\n",
              "      <td>0</td>\n",
              "      <td>14</td>\n",
              "      <td>0</td>\n",
              "      <td>0</td>\n",
              "      <td>0</td>\n",
              "      <td>0</td>\n",
              "      <td>0</td>\n",
              "      <td>0</td>\n",
              "      <td>1</td>\n",
              "      <td>0</td>\n",
              "      <td>3</td>\n",
              "      <td>0</td>\n",
              "      <td>1</td>\n",
              "      <td>1</td>\n",
              "      <td>0</td>\n",
              "      <td>81</td>\n",
              "      <td>0</td>\n",
              "      <td>12</td>\n",
              "      <td>0</td>\n",
              "      <td>0</td>\n",
              "    </tr>\n",
              "    <tr>\n",
              "      <th>3</th>\n",
              "      <td>0</td>\n",
              "      <td>0</td>\n",
              "      <td>0</td>\n",
              "      <td>0</td>\n",
              "      <td>0</td>\n",
              "      <td>0</td>\n",
              "      <td>0</td>\n",
              "      <td>15-Mar-20</td>\n",
              "      <td>0</td>\n",
              "      <td>0</td>\n",
              "      <td>0</td>\n",
              "      <td>0</td>\n",
              "      <td>0</td>\n",
              "      <td>0</td>\n",
              "      <td>0</td>\n",
              "      <td>0</td>\n",
              "      <td>0</td>\n",
              "      <td>0</td>\n",
              "      <td>5</td>\n",
              "      <td>0</td>\n",
              "      <td>0</td>\n",
              "      <td>18</td>\n",
              "      <td>0</td>\n",
              "      <td>0</td>\n",
              "      <td>0</td>\n",
              "      <td>0</td>\n",
              "      <td>0</td>\n",
              "      <td>0</td>\n",
              "      <td>0</td>\n",
              "      <td>0</td>\n",
              "      <td>1</td>\n",
              "      <td>0</td>\n",
              "      <td>2</td>\n",
              "      <td>0</td>\n",
              "      <td>0</td>\n",
              "      <td>27</td>\n",
              "      <td>0</td>\n",
              "      <td>1</td>\n",
              "      <td>0</td>\n",
              "      <td>0</td>\n",
              "    </tr>\n",
              "    <tr>\n",
              "      <th>6</th>\n",
              "      <td>0</td>\n",
              "      <td>0</td>\n",
              "      <td>0</td>\n",
              "      <td>0</td>\n",
              "      <td>0</td>\n",
              "      <td>0</td>\n",
              "      <td>0</td>\n",
              "      <td>16-Mar-20</td>\n",
              "      <td>0</td>\n",
              "      <td>0</td>\n",
              "      <td>0</td>\n",
              "      <td>0</td>\n",
              "      <td>0</td>\n",
              "      <td>0</td>\n",
              "      <td>0</td>\n",
              "      <td>0</td>\n",
              "      <td>1</td>\n",
              "      <td>1</td>\n",
              "      <td>3</td>\n",
              "      <td>0</td>\n",
              "      <td>0</td>\n",
              "      <td>6</td>\n",
              "      <td>0</td>\n",
              "      <td>0</td>\n",
              "      <td>0</td>\n",
              "      <td>0</td>\n",
              "      <td>0</td>\n",
              "      <td>1</td>\n",
              "      <td>0</td>\n",
              "      <td>1</td>\n",
              "      <td>0</td>\n",
              "      <td>0</td>\n",
              "      <td>1</td>\n",
              "      <td>0</td>\n",
              "      <td>0</td>\n",
              "      <td>15</td>\n",
              "      <td>0</td>\n",
              "      <td>0</td>\n",
              "      <td>1</td>\n",
              "      <td>0</td>\n",
              "    </tr>\n",
              "    <tr>\n",
              "      <th>9</th>\n",
              "      <td>0</td>\n",
              "      <td>0</td>\n",
              "      <td>0</td>\n",
              "      <td>0</td>\n",
              "      <td>0</td>\n",
              "      <td>0</td>\n",
              "      <td>0</td>\n",
              "      <td>17-Mar-20</td>\n",
              "      <td>0</td>\n",
              "      <td>1</td>\n",
              "      <td>0</td>\n",
              "      <td>0</td>\n",
              "      <td>0</td>\n",
              "      <td>0</td>\n",
              "      <td>1</td>\n",
              "      <td>0</td>\n",
              "      <td>0</td>\n",
              "      <td>2</td>\n",
              "      <td>0</td>\n",
              "      <td>0</td>\n",
              "      <td>0</td>\n",
              "      <td>3</td>\n",
              "      <td>0</td>\n",
              "      <td>0</td>\n",
              "      <td>0</td>\n",
              "      <td>0</td>\n",
              "      <td>0</td>\n",
              "      <td>0</td>\n",
              "      <td>0</td>\n",
              "      <td>0</td>\n",
              "      <td>0</td>\n",
              "      <td>0</td>\n",
              "      <td>1</td>\n",
              "      <td>0</td>\n",
              "      <td>0</td>\n",
              "      <td>11</td>\n",
              "      <td>0</td>\n",
              "      <td>2</td>\n",
              "      <td>0</td>\n",
              "      <td>1</td>\n",
              "    </tr>\n",
              "    <tr>\n",
              "      <th>12</th>\n",
              "      <td>0</td>\n",
              "      <td>0</td>\n",
              "      <td>0</td>\n",
              "      <td>0</td>\n",
              "      <td>0</td>\n",
              "      <td>0</td>\n",
              "      <td>0</td>\n",
              "      <td>18-Mar-20</td>\n",
              "      <td>0</td>\n",
              "      <td>2</td>\n",
              "      <td>0</td>\n",
              "      <td>0</td>\n",
              "      <td>0</td>\n",
              "      <td>0</td>\n",
              "      <td>1</td>\n",
              "      <td>0</td>\n",
              "      <td>1</td>\n",
              "      <td>5</td>\n",
              "      <td>0</td>\n",
              "      <td>8</td>\n",
              "      <td>0</td>\n",
              "      <td>3</td>\n",
              "      <td>0</td>\n",
              "      <td>0</td>\n",
              "      <td>0</td>\n",
              "      <td>0</td>\n",
              "      <td>0</td>\n",
              "      <td>1</td>\n",
              "      <td>1</td>\n",
              "      <td>0</td>\n",
              "      <td>3</td>\n",
              "      <td>0</td>\n",
              "      <td>8</td>\n",
              "      <td>1</td>\n",
              "      <td>0</td>\n",
              "      <td>37</td>\n",
              "      <td>0</td>\n",
              "      <td>2</td>\n",
              "      <td>1</td>\n",
              "      <td>0</td>\n",
              "    </tr>\n",
              "    <tr>\n",
              "      <th>...</th>\n",
              "      <td>...</td>\n",
              "      <td>...</td>\n",
              "      <td>...</td>\n",
              "      <td>...</td>\n",
              "      <td>...</td>\n",
              "      <td>...</td>\n",
              "      <td>...</td>\n",
              "      <td>...</td>\n",
              "      <td>...</td>\n",
              "      <td>...</td>\n",
              "      <td>...</td>\n",
              "      <td>...</td>\n",
              "      <td>...</td>\n",
              "      <td>...</td>\n",
              "      <td>...</td>\n",
              "      <td>...</td>\n",
              "      <td>...</td>\n",
              "      <td>...</td>\n",
              "      <td>...</td>\n",
              "      <td>...</td>\n",
              "      <td>...</td>\n",
              "      <td>...</td>\n",
              "      <td>...</td>\n",
              "      <td>...</td>\n",
              "      <td>...</td>\n",
              "      <td>...</td>\n",
              "      <td>...</td>\n",
              "      <td>...</td>\n",
              "      <td>...</td>\n",
              "      <td>...</td>\n",
              "      <td>...</td>\n",
              "      <td>...</td>\n",
              "      <td>...</td>\n",
              "      <td>...</td>\n",
              "      <td>...</td>\n",
              "      <td>...</td>\n",
              "      <td>...</td>\n",
              "      <td>...</td>\n",
              "      <td>...</td>\n",
              "      <td>...</td>\n",
              "    </tr>\n",
              "    <tr>\n",
              "      <th>1461</th>\n",
              "      <td>3</td>\n",
              "      <td>2591</td>\n",
              "      <td>465</td>\n",
              "      <td>2046</td>\n",
              "      <td>113</td>\n",
              "      <td>7</td>\n",
              "      <td>252</td>\n",
              "      <td>14-Jul-21</td>\n",
              "      <td>0</td>\n",
              "      <td>77</td>\n",
              "      <td>2</td>\n",
              "      <td>227</td>\n",
              "      <td>41</td>\n",
              "      <td>93</td>\n",
              "      <td>40</td>\n",
              "      <td>68</td>\n",
              "      <td>161</td>\n",
              "      <td>1990</td>\n",
              "      <td>15637</td>\n",
              "      <td>4</td>\n",
              "      <td>5</td>\n",
              "      <td>8602</td>\n",
              "      <td>422</td>\n",
              "      <td>1104</td>\n",
              "      <td>11</td>\n",
              "      <td>468</td>\n",
              "      <td>109</td>\n",
              "      <td>2074</td>\n",
              "      <td>108</td>\n",
              "      <td>121</td>\n",
              "      <td>37</td>\n",
              "      <td>169</td>\n",
              "      <td>749</td>\n",
              "      <td>2458</td>\n",
              "      <td>558</td>\n",
              "      <td>41759</td>\n",
              "      <td>0</td>\n",
              "      <td>83</td>\n",
              "      <td>33</td>\n",
              "      <td>831</td>\n",
              "    </tr>\n",
              "    <tr>\n",
              "      <th>1464</th>\n",
              "      <td>2</td>\n",
              "      <td>2526</td>\n",
              "      <td>367</td>\n",
              "      <td>1992</td>\n",
              "      <td>125</td>\n",
              "      <td>5</td>\n",
              "      <td>333</td>\n",
              "      <td>15-Jul-21</td>\n",
              "      <td>0</td>\n",
              "      <td>72</td>\n",
              "      <td>0</td>\n",
              "      <td>126</td>\n",
              "      <td>38</td>\n",
              "      <td>136</td>\n",
              "      <td>34</td>\n",
              "      <td>54</td>\n",
              "      <td>203</td>\n",
              "      <td>1977</td>\n",
              "      <td>13773</td>\n",
              "      <td>3</td>\n",
              "      <td>7</td>\n",
              "      <td>8010</td>\n",
              "      <td>412</td>\n",
              "      <td>1039</td>\n",
              "      <td>20</td>\n",
              "      <td>581</td>\n",
              "      <td>132</td>\n",
              "      <td>2110</td>\n",
              "      <td>98</td>\n",
              "      <td>103</td>\n",
              "      <td>33</td>\n",
              "      <td>137</td>\n",
              "      <td>710</td>\n",
              "      <td>2405</td>\n",
              "      <td>492</td>\n",
              "      <td>39071</td>\n",
              "      <td>0</td>\n",
              "      <td>70</td>\n",
              "      <td>55</td>\n",
              "      <td>891</td>\n",
              "    </tr>\n",
              "    <tr>\n",
              "      <th>1467</th>\n",
              "      <td>4</td>\n",
              "      <td>2345</td>\n",
              "      <td>443</td>\n",
              "      <td>1782</td>\n",
              "      <td>90</td>\n",
              "      <td>6</td>\n",
              "      <td>312</td>\n",
              "      <td>16-Jul-21</td>\n",
              "      <td>0</td>\n",
              "      <td>66</td>\n",
              "      <td>1</td>\n",
              "      <td>120</td>\n",
              "      <td>39</td>\n",
              "      <td>126</td>\n",
              "      <td>46</td>\n",
              "      <td>55</td>\n",
              "      <td>221</td>\n",
              "      <td>1806</td>\n",
              "      <td>13750</td>\n",
              "      <td>6</td>\n",
              "      <td>10</td>\n",
              "      <td>7761</td>\n",
              "      <td>441</td>\n",
              "      <td>1128</td>\n",
              "      <td>15</td>\n",
              "      <td>455</td>\n",
              "      <td>95</td>\n",
              "      <td>2070</td>\n",
              "      <td>103</td>\n",
              "      <td>104</td>\n",
              "      <td>35</td>\n",
              "      <td>151</td>\n",
              "      <td>715</td>\n",
              "      <td>2312</td>\n",
              "      <td>495</td>\n",
              "      <td>38115</td>\n",
              "      <td>0</td>\n",
              "      <td>86</td>\n",
              "      <td>39</td>\n",
              "      <td>882</td>\n",
              "    </tr>\n",
              "    <tr>\n",
              "      <th>1470</th>\n",
              "      <td>1</td>\n",
              "      <td>2672</td>\n",
              "      <td>475</td>\n",
              "      <td>1727</td>\n",
              "      <td>79</td>\n",
              "      <td>8</td>\n",
              "      <td>226</td>\n",
              "      <td>17-Jul-21</td>\n",
              "      <td>0</td>\n",
              "      <td>59</td>\n",
              "      <td>1</td>\n",
              "      <td>159</td>\n",
              "      <td>37</td>\n",
              "      <td>113</td>\n",
              "      <td>41</td>\n",
              "      <td>61</td>\n",
              "      <td>179</td>\n",
              "      <td>1869</td>\n",
              "      <td>16148</td>\n",
              "      <td>6</td>\n",
              "      <td>8</td>\n",
              "      <td>8172</td>\n",
              "      <td>507</td>\n",
              "      <td>1171</td>\n",
              "      <td>11</td>\n",
              "      <td>484</td>\n",
              "      <td>100</td>\n",
              "      <td>2182</td>\n",
              "      <td>118</td>\n",
              "      <td>94</td>\n",
              "      <td>42</td>\n",
              "      <td>157</td>\n",
              "      <td>729</td>\n",
              "      <td>2205</td>\n",
              "      <td>430</td>\n",
              "      <td>41283</td>\n",
              "      <td>0</td>\n",
              "      <td>81</td>\n",
              "      <td>32</td>\n",
              "      <td>899</td>\n",
              "    </tr>\n",
              "    <tr>\n",
              "      <th>1473</th>\n",
              "      <td>4</td>\n",
              "      <td>2974</td>\n",
              "      <td>258</td>\n",
              "      <td>1329</td>\n",
              "      <td>81</td>\n",
              "      <td>19</td>\n",
              "      <td>165</td>\n",
              "      <td>18-Jul-21</td>\n",
              "      <td>0</td>\n",
              "      <td>51</td>\n",
              "      <td>4</td>\n",
              "      <td>120</td>\n",
              "      <td>33</td>\n",
              "      <td>54</td>\n",
              "      <td>35</td>\n",
              "      <td>32</td>\n",
              "      <td>146</td>\n",
              "      <td>1708</td>\n",
              "      <td>13956</td>\n",
              "      <td>11</td>\n",
              "      <td>3</td>\n",
              "      <td>9000</td>\n",
              "      <td>388</td>\n",
              "      <td>963</td>\n",
              "      <td>18</td>\n",
              "      <td>463</td>\n",
              "      <td>106</td>\n",
              "      <td>2215</td>\n",
              "      <td>86</td>\n",
              "      <td>100</td>\n",
              "      <td>26</td>\n",
              "      <td>155</td>\n",
              "      <td>578</td>\n",
              "      <td>2079</td>\n",
              "      <td>325</td>\n",
              "      <td>38330</td>\n",
              "      <td>0</td>\n",
              "      <td>25</td>\n",
              "      <td>19</td>\n",
              "      <td>801</td>\n",
              "    </tr>\n",
              "  </tbody>\n",
              "</table>\n",
              "<p>492 rows × 40 columns</p>\n",
              "</div>"
            ],
            "text/plain": [
              "     an    ap   ar    as   br  ch   ct  ...    tn   tr     tt un  up  ut   wb\n",
              "0     0     1    0     0    0   0    0  ...     1    0     81  0  12   0    0\n",
              "3     0     0    0     0    0   0    0  ...     0    0     27  0   1   0    0\n",
              "6     0     0    0     0    0   0    0  ...     0    0     15  0   0   1    0\n",
              "9     0     0    0     0    0   0    0  ...     0    0     11  0   2   0    1\n",
              "12    0     0    0     0    0   0    0  ...     1    0     37  0   2   1    0\n",
              "...  ..   ...  ...   ...  ...  ..  ...  ...   ...  ...    ... ..  ..  ..  ...\n",
              "1461  3  2591  465  2046  113   7  252  ...  2458  558  41759  0  83  33  831\n",
              "1464  2  2526  367  1992  125   5  333  ...  2405  492  39071  0  70  55  891\n",
              "1467  4  2345  443  1782   90   6  312  ...  2312  495  38115  0  86  39  882\n",
              "1470  1  2672  475  1727   79   8  226  ...  2205  430  41283  0  81  32  899\n",
              "1473  4  2974  258  1329   81  19  165  ...  2079  325  38330  0  25  19  801\n",
              "\n",
              "[492 rows x 40 columns]"
            ]
          },
          "metadata": {
            "tags": []
          },
          "execution_count": 50
        }
      ]
    },
    {
      "cell_type": "code",
      "metadata": {
        "id": "zLOJWcfV3u9h"
      },
      "source": [
        "covid_data.set_index('date', inplace=True)"
      ],
      "execution_count": null,
      "outputs": []
    },
    {
      "cell_type": "code",
      "metadata": {
        "colab": {
          "base_uri": "https://localhost:8080/",
          "height": 442
        },
        "id": "s_GHfwRs39pm",
        "outputId": "fb9d25e8-54ca-4d01-cc25-cb63eae1d892"
      },
      "source": [
        "covid_data.tail(7)"
      ],
      "execution_count": null,
      "outputs": [
        {
          "output_type": "execute_result",
          "data": {
            "text/html": [
              "<div>\n",
              "<style scoped>\n",
              "    .dataframe tbody tr th:only-of-type {\n",
              "        vertical-align: middle;\n",
              "    }\n",
              "\n",
              "    .dataframe tbody tr th {\n",
              "        vertical-align: top;\n",
              "    }\n",
              "\n",
              "    .dataframe thead th {\n",
              "        text-align: right;\n",
              "    }\n",
              "</style>\n",
              "<table border=\"1\" class=\"dataframe\">\n",
              "  <thead>\n",
              "    <tr style=\"text-align: right;\">\n",
              "      <th></th>\n",
              "      <th>an</th>\n",
              "      <th>ap</th>\n",
              "      <th>ar</th>\n",
              "      <th>as</th>\n",
              "      <th>br</th>\n",
              "      <th>ch</th>\n",
              "      <th>ct</th>\n",
              "      <th>dd</th>\n",
              "      <th>dl</th>\n",
              "      <th>dn</th>\n",
              "      <th>ga</th>\n",
              "      <th>gj</th>\n",
              "      <th>hp</th>\n",
              "      <th>hr</th>\n",
              "      <th>jh</th>\n",
              "      <th>jk</th>\n",
              "      <th>ka</th>\n",
              "      <th>kl</th>\n",
              "      <th>la</th>\n",
              "      <th>ld</th>\n",
              "      <th>mh</th>\n",
              "      <th>ml</th>\n",
              "      <th>mn</th>\n",
              "      <th>mp</th>\n",
              "      <th>mz</th>\n",
              "      <th>nl</th>\n",
              "      <th>or</th>\n",
              "      <th>pb</th>\n",
              "      <th>py</th>\n",
              "      <th>rj</th>\n",
              "      <th>sk</th>\n",
              "      <th>tg</th>\n",
              "      <th>tn</th>\n",
              "      <th>tr</th>\n",
              "      <th>tt</th>\n",
              "      <th>un</th>\n",
              "      <th>up</th>\n",
              "      <th>ut</th>\n",
              "      <th>wb</th>\n",
              "    </tr>\n",
              "    <tr>\n",
              "      <th>date</th>\n",
              "      <th></th>\n",
              "      <th></th>\n",
              "      <th></th>\n",
              "      <th></th>\n",
              "      <th></th>\n",
              "      <th></th>\n",
              "      <th></th>\n",
              "      <th></th>\n",
              "      <th></th>\n",
              "      <th></th>\n",
              "      <th></th>\n",
              "      <th></th>\n",
              "      <th></th>\n",
              "      <th></th>\n",
              "      <th></th>\n",
              "      <th></th>\n",
              "      <th></th>\n",
              "      <th></th>\n",
              "      <th></th>\n",
              "      <th></th>\n",
              "      <th></th>\n",
              "      <th></th>\n",
              "      <th></th>\n",
              "      <th></th>\n",
              "      <th></th>\n",
              "      <th></th>\n",
              "      <th></th>\n",
              "      <th></th>\n",
              "      <th></th>\n",
              "      <th></th>\n",
              "      <th></th>\n",
              "      <th></th>\n",
              "      <th></th>\n",
              "      <th></th>\n",
              "      <th></th>\n",
              "      <th></th>\n",
              "      <th></th>\n",
              "      <th></th>\n",
              "      <th></th>\n",
              "    </tr>\n",
              "  </thead>\n",
              "  <tbody>\n",
              "    <tr>\n",
              "      <th>12-Jul-21</th>\n",
              "      <td>1</td>\n",
              "      <td>1578</td>\n",
              "      <td>566</td>\n",
              "      <td>2575</td>\n",
              "      <td>72</td>\n",
              "      <td>10</td>\n",
              "      <td>297</td>\n",
              "      <td>0</td>\n",
              "      <td>45</td>\n",
              "      <td>2</td>\n",
              "      <td>108</td>\n",
              "      <td>32</td>\n",
              "      <td>93</td>\n",
              "      <td>28</td>\n",
              "      <td>43</td>\n",
              "      <td>155</td>\n",
              "      <td>1386</td>\n",
              "      <td>7798</td>\n",
              "      <td>9</td>\n",
              "      <td>7</td>\n",
              "      <td>7603</td>\n",
              "      <td>273</td>\n",
              "      <td>890</td>\n",
              "      <td>18</td>\n",
              "      <td>190</td>\n",
              "      <td>76</td>\n",
              "      <td>1993</td>\n",
              "      <td>116</td>\n",
              "      <td>81</td>\n",
              "      <td>33</td>\n",
              "      <td>90</td>\n",
              "      <td>696</td>\n",
              "      <td>2652</td>\n",
              "      <td>270</td>\n",
              "      <td>30818</td>\n",
              "      <td>0</td>\n",
              "      <td>96</td>\n",
              "      <td>51</td>\n",
              "      <td>885</td>\n",
              "    </tr>\n",
              "    <tr>\n",
              "      <th>13-Jul-21</th>\n",
              "      <td>3</td>\n",
              "      <td>2567</td>\n",
              "      <td>431</td>\n",
              "      <td>2169</td>\n",
              "      <td>102</td>\n",
              "      <td>3</td>\n",
              "      <td>295</td>\n",
              "      <td>0</td>\n",
              "      <td>76</td>\n",
              "      <td>1</td>\n",
              "      <td>164</td>\n",
              "      <td>31</td>\n",
              "      <td>150</td>\n",
              "      <td>36</td>\n",
              "      <td>40</td>\n",
              "      <td>143</td>\n",
              "      <td>1913</td>\n",
              "      <td>14539</td>\n",
              "      <td>23</td>\n",
              "      <td>11</td>\n",
              "      <td>7243</td>\n",
              "      <td>365</td>\n",
              "      <td>796</td>\n",
              "      <td>1390</td>\n",
              "      <td>519</td>\n",
              "      <td>88</td>\n",
              "      <td>1930</td>\n",
              "      <td>107</td>\n",
              "      <td>124</td>\n",
              "      <td>28</td>\n",
              "      <td>226</td>\n",
              "      <td>767</td>\n",
              "      <td>2505</td>\n",
              "      <td>566</td>\n",
              "      <td>40314</td>\n",
              "      <td>0</td>\n",
              "      <td>56</td>\n",
              "      <td>44</td>\n",
              "      <td>863</td>\n",
              "    </tr>\n",
              "    <tr>\n",
              "      <th>14-Jul-21</th>\n",
              "      <td>3</td>\n",
              "      <td>2591</td>\n",
              "      <td>465</td>\n",
              "      <td>2046</td>\n",
              "      <td>113</td>\n",
              "      <td>7</td>\n",
              "      <td>252</td>\n",
              "      <td>0</td>\n",
              "      <td>77</td>\n",
              "      <td>2</td>\n",
              "      <td>227</td>\n",
              "      <td>41</td>\n",
              "      <td>93</td>\n",
              "      <td>40</td>\n",
              "      <td>68</td>\n",
              "      <td>161</td>\n",
              "      <td>1990</td>\n",
              "      <td>15637</td>\n",
              "      <td>4</td>\n",
              "      <td>5</td>\n",
              "      <td>8602</td>\n",
              "      <td>422</td>\n",
              "      <td>1104</td>\n",
              "      <td>11</td>\n",
              "      <td>468</td>\n",
              "      <td>109</td>\n",
              "      <td>2074</td>\n",
              "      <td>108</td>\n",
              "      <td>121</td>\n",
              "      <td>37</td>\n",
              "      <td>169</td>\n",
              "      <td>749</td>\n",
              "      <td>2458</td>\n",
              "      <td>558</td>\n",
              "      <td>41759</td>\n",
              "      <td>0</td>\n",
              "      <td>83</td>\n",
              "      <td>33</td>\n",
              "      <td>831</td>\n",
              "    </tr>\n",
              "    <tr>\n",
              "      <th>15-Jul-21</th>\n",
              "      <td>2</td>\n",
              "      <td>2526</td>\n",
              "      <td>367</td>\n",
              "      <td>1992</td>\n",
              "      <td>125</td>\n",
              "      <td>5</td>\n",
              "      <td>333</td>\n",
              "      <td>0</td>\n",
              "      <td>72</td>\n",
              "      <td>0</td>\n",
              "      <td>126</td>\n",
              "      <td>38</td>\n",
              "      <td>136</td>\n",
              "      <td>34</td>\n",
              "      <td>54</td>\n",
              "      <td>203</td>\n",
              "      <td>1977</td>\n",
              "      <td>13773</td>\n",
              "      <td>3</td>\n",
              "      <td>7</td>\n",
              "      <td>8010</td>\n",
              "      <td>412</td>\n",
              "      <td>1039</td>\n",
              "      <td>20</td>\n",
              "      <td>581</td>\n",
              "      <td>132</td>\n",
              "      <td>2110</td>\n",
              "      <td>98</td>\n",
              "      <td>103</td>\n",
              "      <td>33</td>\n",
              "      <td>137</td>\n",
              "      <td>710</td>\n",
              "      <td>2405</td>\n",
              "      <td>492</td>\n",
              "      <td>39071</td>\n",
              "      <td>0</td>\n",
              "      <td>70</td>\n",
              "      <td>55</td>\n",
              "      <td>891</td>\n",
              "    </tr>\n",
              "    <tr>\n",
              "      <th>16-Jul-21</th>\n",
              "      <td>4</td>\n",
              "      <td>2345</td>\n",
              "      <td>443</td>\n",
              "      <td>1782</td>\n",
              "      <td>90</td>\n",
              "      <td>6</td>\n",
              "      <td>312</td>\n",
              "      <td>0</td>\n",
              "      <td>66</td>\n",
              "      <td>1</td>\n",
              "      <td>120</td>\n",
              "      <td>39</td>\n",
              "      <td>126</td>\n",
              "      <td>46</td>\n",
              "      <td>55</td>\n",
              "      <td>221</td>\n",
              "      <td>1806</td>\n",
              "      <td>13750</td>\n",
              "      <td>6</td>\n",
              "      <td>10</td>\n",
              "      <td>7761</td>\n",
              "      <td>441</td>\n",
              "      <td>1128</td>\n",
              "      <td>15</td>\n",
              "      <td>455</td>\n",
              "      <td>95</td>\n",
              "      <td>2070</td>\n",
              "      <td>103</td>\n",
              "      <td>104</td>\n",
              "      <td>35</td>\n",
              "      <td>151</td>\n",
              "      <td>715</td>\n",
              "      <td>2312</td>\n",
              "      <td>495</td>\n",
              "      <td>38115</td>\n",
              "      <td>0</td>\n",
              "      <td>86</td>\n",
              "      <td>39</td>\n",
              "      <td>882</td>\n",
              "    </tr>\n",
              "    <tr>\n",
              "      <th>17-Jul-21</th>\n",
              "      <td>1</td>\n",
              "      <td>2672</td>\n",
              "      <td>475</td>\n",
              "      <td>1727</td>\n",
              "      <td>79</td>\n",
              "      <td>8</td>\n",
              "      <td>226</td>\n",
              "      <td>0</td>\n",
              "      <td>59</td>\n",
              "      <td>1</td>\n",
              "      <td>159</td>\n",
              "      <td>37</td>\n",
              "      <td>113</td>\n",
              "      <td>41</td>\n",
              "      <td>61</td>\n",
              "      <td>179</td>\n",
              "      <td>1869</td>\n",
              "      <td>16148</td>\n",
              "      <td>6</td>\n",
              "      <td>8</td>\n",
              "      <td>8172</td>\n",
              "      <td>507</td>\n",
              "      <td>1171</td>\n",
              "      <td>11</td>\n",
              "      <td>484</td>\n",
              "      <td>100</td>\n",
              "      <td>2182</td>\n",
              "      <td>118</td>\n",
              "      <td>94</td>\n",
              "      <td>42</td>\n",
              "      <td>157</td>\n",
              "      <td>729</td>\n",
              "      <td>2205</td>\n",
              "      <td>430</td>\n",
              "      <td>41283</td>\n",
              "      <td>0</td>\n",
              "      <td>81</td>\n",
              "      <td>32</td>\n",
              "      <td>899</td>\n",
              "    </tr>\n",
              "    <tr>\n",
              "      <th>18-Jul-21</th>\n",
              "      <td>4</td>\n",
              "      <td>2974</td>\n",
              "      <td>258</td>\n",
              "      <td>1329</td>\n",
              "      <td>81</td>\n",
              "      <td>19</td>\n",
              "      <td>165</td>\n",
              "      <td>0</td>\n",
              "      <td>51</td>\n",
              "      <td>4</td>\n",
              "      <td>120</td>\n",
              "      <td>33</td>\n",
              "      <td>54</td>\n",
              "      <td>35</td>\n",
              "      <td>32</td>\n",
              "      <td>146</td>\n",
              "      <td>1708</td>\n",
              "      <td>13956</td>\n",
              "      <td>11</td>\n",
              "      <td>3</td>\n",
              "      <td>9000</td>\n",
              "      <td>388</td>\n",
              "      <td>963</td>\n",
              "      <td>18</td>\n",
              "      <td>463</td>\n",
              "      <td>106</td>\n",
              "      <td>2215</td>\n",
              "      <td>86</td>\n",
              "      <td>100</td>\n",
              "      <td>26</td>\n",
              "      <td>155</td>\n",
              "      <td>578</td>\n",
              "      <td>2079</td>\n",
              "      <td>325</td>\n",
              "      <td>38330</td>\n",
              "      <td>0</td>\n",
              "      <td>25</td>\n",
              "      <td>19</td>\n",
              "      <td>801</td>\n",
              "    </tr>\n",
              "  </tbody>\n",
              "</table>\n",
              "</div>"
            ],
            "text/plain": [
              "          an    ap   ar    as   br  ch   ct  ...    tn   tr     tt un  up  ut   wb\n",
              "date                                         ...                                  \n",
              "12-Jul-21  1  1578  566  2575   72  10  297  ...  2652  270  30818  0  96  51  885\n",
              "13-Jul-21  3  2567  431  2169  102   3  295  ...  2505  566  40314  0  56  44  863\n",
              "14-Jul-21  3  2591  465  2046  113   7  252  ...  2458  558  41759  0  83  33  831\n",
              "15-Jul-21  2  2526  367  1992  125   5  333  ...  2405  492  39071  0  70  55  891\n",
              "16-Jul-21  4  2345  443  1782   90   6  312  ...  2312  495  38115  0  86  39  882\n",
              "17-Jul-21  1  2672  475  1727   79   8  226  ...  2205  430  41283  0  81  32  899\n",
              "18-Jul-21  4  2974  258  1329   81  19  165  ...  2079  325  38330  0  25  19  801\n",
              "\n",
              "[7 rows x 39 columns]"
            ]
          },
          "metadata": {
            "tags": []
          },
          "execution_count": 55
        }
      ]
    },
    {
      "cell_type": "code",
      "metadata": {
        "colab": {
          "base_uri": "https://localhost:8080/"
        },
        "id": "NPq8Mf7W3-WQ",
        "outputId": "c9998caf-9dfa-4f73-92e6-7e72ad0cbec1"
      },
      "source": [
        "covid_data.info()"
      ],
      "execution_count": null,
      "outputs": [
        {
          "output_type": "stream",
          "text": [
            "<class 'pandas.core.frame.DataFrame'>\n",
            "Index: 492 entries, 14-Mar-20 to 18-Jul-21\n",
            "Data columns (total 39 columns):\n",
            " #   Column  Non-Null Count  Dtype \n",
            "---  ------  --------------  ----- \n",
            " 0   an      492 non-null    object\n",
            " 1   ap      492 non-null    object\n",
            " 2   ar      492 non-null    object\n",
            " 3   as      492 non-null    object\n",
            " 4   br      492 non-null    object\n",
            " 5   ch      492 non-null    object\n",
            " 6   ct      492 non-null    object\n",
            " 7   dd      492 non-null    object\n",
            " 8   dl      492 non-null    object\n",
            " 9   dn      492 non-null    object\n",
            " 10  ga      492 non-null    object\n",
            " 11  gj      492 non-null    object\n",
            " 12  hp      492 non-null    object\n",
            " 13  hr      492 non-null    object\n",
            " 14  jh      492 non-null    object\n",
            " 15  jk      492 non-null    object\n",
            " 16  ka      492 non-null    object\n",
            " 17  kl      492 non-null    object\n",
            " 18  la      492 non-null    object\n",
            " 19  ld      492 non-null    object\n",
            " 20  mh      492 non-null    object\n",
            " 21  ml      492 non-null    object\n",
            " 22  mn      492 non-null    object\n",
            " 23  mp      492 non-null    object\n",
            " 24  mz      492 non-null    object\n",
            " 25  nl      492 non-null    object\n",
            " 26  or      492 non-null    object\n",
            " 27  pb      492 non-null    object\n",
            " 28  py      492 non-null    object\n",
            " 29  rj      492 non-null    object\n",
            " 30  sk      492 non-null    object\n",
            " 31  tg      492 non-null    object\n",
            " 32  tn      492 non-null    object\n",
            " 33  tr      492 non-null    object\n",
            " 34  tt      492 non-null    object\n",
            " 35  un      492 non-null    object\n",
            " 36  up      492 non-null    object\n",
            " 37  ut      492 non-null    object\n",
            " 38  wb      492 non-null    object\n",
            "dtypes: object(39)\n",
            "memory usage: 173.8+ KB\n"
          ],
          "name": "stdout"
        }
      ]
    },
    {
      "cell_type": "code",
      "metadata": {
        "colab": {
          "base_uri": "https://localhost:8080/"
        },
        "id": "2HOuXLlQ4XFU",
        "outputId": "051b2fae-29e4-4832-bbdf-6999917b182f"
      },
      "source": [
        "pd.to_numeric(covid_data.ka)"
      ],
      "execution_count": null,
      "outputs": [
        {
          "output_type": "execute_result",
          "data": {
            "text/plain": [
              "date\n",
              "14-Mar-20       6\n",
              "15-Mar-20       0\n",
              "16-Mar-20       1\n",
              "17-Mar-20       2\n",
              "18-Mar-20       5\n",
              "             ... \n",
              "14-Jul-21    1990\n",
              "15-Jul-21    1977\n",
              "16-Jul-21    1806\n",
              "17-Jul-21    1869\n",
              "18-Jul-21    1708\n",
              "Name: ka, Length: 492, dtype: int64"
            ]
          },
          "metadata": {
            "tags": []
          },
          "execution_count": 57
        }
      ]
    },
    {
      "cell_type": "code",
      "metadata": {
        "colab": {
          "base_uri": "https://localhost:8080/"
        },
        "id": "XO1S5Wz34kxN",
        "outputId": "3cedfb09-353f-4fdd-c6c0-dc36c4d7821d"
      },
      "source": [
        "covid_data.info()"
      ],
      "execution_count": null,
      "outputs": [
        {
          "output_type": "stream",
          "text": [
            "<class 'pandas.core.frame.DataFrame'>\n",
            "Index: 492 entries, 14-Mar-20 to 18-Jul-21\n",
            "Data columns (total 39 columns):\n",
            " #   Column  Non-Null Count  Dtype \n",
            "---  ------  --------------  ----- \n",
            " 0   an      492 non-null    object\n",
            " 1   ap      492 non-null    object\n",
            " 2   ar      492 non-null    object\n",
            " 3   as      492 non-null    object\n",
            " 4   br      492 non-null    object\n",
            " 5   ch      492 non-null    object\n",
            " 6   ct      492 non-null    object\n",
            " 7   dd      492 non-null    object\n",
            " 8   dl      492 non-null    object\n",
            " 9   dn      492 non-null    object\n",
            " 10  ga      492 non-null    object\n",
            " 11  gj      492 non-null    object\n",
            " 12  hp      492 non-null    object\n",
            " 13  hr      492 non-null    object\n",
            " 14  jh      492 non-null    object\n",
            " 15  jk      492 non-null    object\n",
            " 16  ka      492 non-null    object\n",
            " 17  kl      492 non-null    object\n",
            " 18  la      492 non-null    object\n",
            " 19  ld      492 non-null    object\n",
            " 20  mh      492 non-null    object\n",
            " 21  ml      492 non-null    object\n",
            " 22  mn      492 non-null    object\n",
            " 23  mp      492 non-null    object\n",
            " 24  mz      492 non-null    object\n",
            " 25  nl      492 non-null    object\n",
            " 26  or      492 non-null    object\n",
            " 27  pb      492 non-null    object\n",
            " 28  py      492 non-null    object\n",
            " 29  rj      492 non-null    object\n",
            " 30  sk      492 non-null    object\n",
            " 31  tg      492 non-null    object\n",
            " 32  tn      492 non-null    object\n",
            " 33  tr      492 non-null    object\n",
            " 34  tt      492 non-null    object\n",
            " 35  un      492 non-null    object\n",
            " 36  up      492 non-null    object\n",
            " 37  ut      492 non-null    object\n",
            " 38  wb      492 non-null    object\n",
            "dtypes: object(39)\n",
            "memory usage: 173.8+ KB\n"
          ],
          "name": "stdout"
        }
      ]
    },
    {
      "cell_type": "code",
      "metadata": {
        "id": "Z5SkNgd74nJ6"
      },
      "source": [
        "covid_data = covid_data.apply(pd.to_numeric)"
      ],
      "execution_count": null,
      "outputs": []
    },
    {
      "cell_type": "code",
      "metadata": {
        "colab": {
          "base_uri": "https://localhost:8080/"
        },
        "id": "1Ip0qlo8429Q",
        "outputId": "157fbd84-1f86-4b46-d8d0-7f70ffcd18d8"
      },
      "source": [
        "covid_data.info()"
      ],
      "execution_count": null,
      "outputs": [
        {
          "output_type": "stream",
          "text": [
            "<class 'pandas.core.frame.DataFrame'>\n",
            "Index: 492 entries, 14-Mar-20 to 18-Jul-21\n",
            "Data columns (total 39 columns):\n",
            " #   Column  Non-Null Count  Dtype\n",
            "---  ------  --------------  -----\n",
            " 0   an      492 non-null    int64\n",
            " 1   ap      492 non-null    int64\n",
            " 2   ar      492 non-null    int64\n",
            " 3   as      492 non-null    int64\n",
            " 4   br      492 non-null    int64\n",
            " 5   ch      492 non-null    int64\n",
            " 6   ct      492 non-null    int64\n",
            " 7   dd      492 non-null    int64\n",
            " 8   dl      492 non-null    int64\n",
            " 9   dn      492 non-null    int64\n",
            " 10  ga      492 non-null    int64\n",
            " 11  gj      492 non-null    int64\n",
            " 12  hp      492 non-null    int64\n",
            " 13  hr      492 non-null    int64\n",
            " 14  jh      492 non-null    int64\n",
            " 15  jk      492 non-null    int64\n",
            " 16  ka      492 non-null    int64\n",
            " 17  kl      492 non-null    int64\n",
            " 18  la      492 non-null    int64\n",
            " 19  ld      492 non-null    int64\n",
            " 20  mh      492 non-null    int64\n",
            " 21  ml      492 non-null    int64\n",
            " 22  mn      492 non-null    int64\n",
            " 23  mp      492 non-null    int64\n",
            " 24  mz      492 non-null    int64\n",
            " 25  nl      492 non-null    int64\n",
            " 26  or      492 non-null    int64\n",
            " 27  pb      492 non-null    int64\n",
            " 28  py      492 non-null    int64\n",
            " 29  rj      492 non-null    int64\n",
            " 30  sk      492 non-null    int64\n",
            " 31  tg      492 non-null    int64\n",
            " 32  tn      492 non-null    int64\n",
            " 33  tr      492 non-null    int64\n",
            " 34  tt      492 non-null    int64\n",
            " 35  un      492 non-null    int64\n",
            " 36  up      492 non-null    int64\n",
            " 37  ut      492 non-null    int64\n",
            " 38  wb      492 non-null    int64\n",
            "dtypes: int64(39)\n",
            "memory usage: 173.8+ KB\n"
          ],
          "name": "stdout"
        }
      ]
    },
    {
      "cell_type": "markdown",
      "metadata": {
        "id": "v6H4_xw15o4I"
      },
      "source": [
        "## Histogram"
      ]
    },
    {
      "cell_type": "code",
      "metadata": {
        "id": "Tfh6Iq3I442A"
      },
      "source": [
        "x = np.random.normal(size=1000)"
      ],
      "execution_count": null,
      "outputs": []
    },
    {
      "cell_type": "code",
      "metadata": {
        "id": "JMxC3xfU6GI4"
      },
      "source": [
        "x"
      ],
      "execution_count": null,
      "outputs": []
    },
    {
      "cell_type": "code",
      "metadata": {
        "colab": {
          "base_uri": "https://localhost:8080/",
          "height": 341
        },
        "id": "VtCaWwaq6HDI",
        "outputId": "6d33db33-1e86-4f02-d067-990bcfae9071"
      },
      "source": [
        "sns.distplot(x) # Distribution plot"
      ],
      "execution_count": null,
      "outputs": [
        {
          "output_type": "stream",
          "text": [
            "/usr/local/lib/python3.7/dist-packages/seaborn/distributions.py:2557: FutureWarning: `distplot` is a deprecated function and will be removed in a future version. Please adapt your code to use either `displot` (a figure-level function with similar flexibility) or `histplot` (an axes-level function for histograms).\n",
            "  warnings.warn(msg, FutureWarning)\n"
          ],
          "name": "stderr"
        },
        {
          "output_type": "execute_result",
          "data": {
            "text/plain": [
              "<matplotlib.axes._subplots.AxesSubplot at 0x7f16d70f0c50>"
            ]
          },
          "metadata": {
            "tags": []
          },
          "execution_count": 63
        },
        {
          "output_type": "display_data",
          "data": {
            "image/png": "[encoded data removed]",
            "text/plain": [
              "<Figure size 432x288 with 1 Axes>"
            ]
          },
          "metadata": {
            "tags": [],
            "needs_background": "light"
          }
        }
      ]
    },
    {
      "cell_type": "code",
      "metadata": {
        "colab": {
          "base_uri": "https://localhost:8080/",
          "height": 341
        },
        "id": "SugH1-oB6Pj0",
        "outputId": "f20b8061-4f95-4504-ceeb-42913c1c2a74"
      },
      "source": [
        "sns.distplot(x, kde=False)"
      ],
      "execution_count": null,
      "outputs": [
        {
          "output_type": "stream",
          "text": [
            "/usr/local/lib/python3.7/dist-packages/seaborn/distributions.py:2557: FutureWarning: `distplot` is a deprecated function and will be removed in a future version. Please adapt your code to use either `displot` (a figure-level function with similar flexibility) or `histplot` (an axes-level function for histograms).\n",
            "  warnings.warn(msg, FutureWarning)\n"
          ],
          "name": "stderr"
        },
        {
          "output_type": "execute_result",
          "data": {
            "text/plain": [
              "<matplotlib.axes._subplots.AxesSubplot at 0x7f16d8d84e50>"
            ]
          },
          "metadata": {
            "tags": []
          },
          "execution_count": 64
        },
        {
          "output_type": "display_data",
          "data": {
            "image/png": "[encoded data removed]",
            "text/plain": [
              "<Figure size 432x288 with 1 Axes>"
            ]
          },
          "metadata": {
            "tags": [],
            "needs_background": "light"
          }
        }
      ]
    },
    {
      "cell_type": "code",
      "metadata": {
        "colab": {
          "base_uri": "https://localhost:8080/",
          "height": 381
        },
        "id": "WxvEzZ8u6ejB",
        "outputId": "a47481e0-50fb-4483-c8e6-646bd7926eda"
      },
      "source": [
        "sns.distplot(x, kde=False, rug=True)"
      ],
      "execution_count": null,
      "outputs": [
        {
          "output_type": "stream",
          "text": [
            "/usr/local/lib/python3.7/dist-packages/seaborn/distributions.py:2557: FutureWarning: `distplot` is a deprecated function and will be removed in a future version. Please adapt your code to use either `displot` (a figure-level function with similar flexibility) or `histplot` (an axes-level function for histograms).\n",
            "  warnings.warn(msg, FutureWarning)\n",
            "/usr/local/lib/python3.7/dist-packages/seaborn/distributions.py:2056: FutureWarning: The `axis` variable is no longer used and will be removed. Instead, assign variables directly to `x` or `y`.\n",
            "  warnings.warn(msg, FutureWarning)\n"
          ],
          "name": "stderr"
        },
        {
          "output_type": "execute_result",
          "data": {
            "text/plain": [
              "<matplotlib.axes._subplots.AxesSubplot at 0x7f16d8739d90>"
            ]
          },
          "metadata": {
            "tags": []
          },
          "execution_count": 65
        },
        {
          "output_type": "display_data",
          "data": {
            "image/png": "[encoded data removed]",
            "text/plain": [
              "<Figure size 432x288 with 1 Axes>"
            ]
          },
          "metadata": {
            "tags": [],
            "needs_background": "light"
          }
        }
      ]
    },
    {
      "cell_type": "code",
      "metadata": {
        "id": "9BCwxV2v6kQ_"
      },
      "source": [
        "sns.set(color_codes=True)"
      ],
      "execution_count": null,
      "outputs": []
    },
    {
      "cell_type": "code",
      "metadata": {
        "colab": {
          "base_uri": "https://localhost:8080/",
          "height": 383
        },
        "id": "lcTTln8X6zPJ",
        "outputId": "d3dcfea5-7329-4990-9b17-037dccbc40da"
      },
      "source": [
        "sns.distplot(x, kde=False, rug=True)"
      ],
      "execution_count": null,
      "outputs": [
        {
          "output_type": "stream",
          "text": [
            "/usr/local/lib/python3.7/dist-packages/seaborn/distributions.py:2557: FutureWarning: `distplot` is a deprecated function and will be removed in a future version. Please adapt your code to use either `displot` (a figure-level function with similar flexibility) or `histplot` (an axes-level function for histograms).\n",
            "  warnings.warn(msg, FutureWarning)\n",
            "/usr/local/lib/python3.7/dist-packages/seaborn/distributions.py:2056: FutureWarning: The `axis` variable is no longer used and will be removed. Instead, assign variables directly to `x` or `y`.\n",
            "  warnings.warn(msg, FutureWarning)\n"
          ],
          "name": "stderr"
        },
        {
          "output_type": "execute_result",
          "data": {
            "text/plain": [
              "<matplotlib.axes._subplots.AxesSubplot at 0x7f16d72ec690>"
            ]
          },
          "metadata": {
            "tags": []
          },
          "execution_count": 67
        },
        {
          "output_type": "display_data",
          "data": {
            "image/png": "[encoded data removed]",
            "text/plain": [
              "<Figure size 432x288 with 1 Axes>"
            ]
          },
          "metadata": {
            "tags": []
          }
        }
      ]
    },
    {
      "cell_type": "code",
      "metadata": {
        "colab": {
          "base_uri": "https://localhost:8080/",
          "height": 381
        },
        "id": "VX7VzArx60aZ",
        "outputId": "5e0183bd-14b8-48d9-ccaa-38b01a9413de"
      },
      "source": [
        "sns.distplot(x, kde=False, rug=True, bins=20)"
      ],
      "execution_count": null,
      "outputs": [
        {
          "output_type": "stream",
          "text": [
            "/usr/local/lib/python3.7/dist-packages/seaborn/distributions.py:2557: FutureWarning: `distplot` is a deprecated function and will be removed in a future version. Please adapt your code to use either `displot` (a figure-level function with similar flexibility) or `histplot` (an axes-level function for histograms).\n",
            "  warnings.warn(msg, FutureWarning)\n",
            "/usr/local/lib/python3.7/dist-packages/seaborn/distributions.py:2056: FutureWarning: The `axis` variable is no longer used and will be removed. Instead, assign variables directly to `x` or `y`.\n",
            "  warnings.warn(msg, FutureWarning)\n"
          ],
          "name": "stderr"
        },
        {
          "output_type": "execute_result",
          "data": {
            "text/plain": [
              "<matplotlib.axes._subplots.AxesSubplot at 0x7f16d87f7d90>"
            ]
          },
          "metadata": {
            "tags": []
          },
          "execution_count": 68
        },
        {
          "output_type": "display_data",
          "data": {
            "image/png": "[encoded data removed]",
            "text/plain": [
              "<Figure size 432x288 with 1 Axes>"
            ]
          },
          "metadata": {
            "tags": []
          }
        }
      ]
    },
    {
      "cell_type": "code",
      "metadata": {
        "colab": {
          "base_uri": "https://localhost:8080/",
          "height": 384
        },
        "id": "sSpsS1Cb7CTc",
        "outputId": "f3869e36-c4a0-4b36-d9ff-6a22d0c25425"
      },
      "source": [
        "sns.distplot(x, kde=False, rug=True, bins=50)"
      ],
      "execution_count": null,
      "outputs": [
        {
          "output_type": "stream",
          "text": [
            "/usr/local/lib/python3.7/dist-packages/seaborn/distributions.py:2557: FutureWarning: `distplot` is a deprecated function and will be removed in a future version. Please adapt your code to use either `displot` (a figure-level function with similar flexibility) or `histplot` (an axes-level function for histograms).\n",
            "  warnings.warn(msg, FutureWarning)\n",
            "/usr/local/lib/python3.7/dist-packages/seaborn/distributions.py:2056: FutureWarning: The `axis` variable is no longer used and will be removed. Instead, assign variables directly to `x` or `y`.\n",
            "  warnings.warn(msg, FutureWarning)\n"
          ],
          "name": "stderr"
        },
        {
          "output_type": "execute_result",
          "data": {
            "text/plain": [
              "<matplotlib.axes._subplots.AxesSubplot at 0x7f16cc5d6f50>"
            ]
          },
          "metadata": {
            "tags": []
          },
          "execution_count": 69
        },
        {
          "output_type": "display_data",
          "data": {
            "image/png": "[encoded data removed]",
            "text/plain": [
              "<Figure size 432x288 with 1 Axes>"
            ]
          },
          "metadata": {
            "tags": []
          }
        }
      ]
    },
    {
      "cell_type": "code",
      "metadata": {
        "colab": {
          "base_uri": "https://localhost:8080/",
          "height": 287
        },
        "id": "ZRIbYnDs7Ewi",
        "outputId": "befbc978-9236-4159-c3c8-9033cb6ae052"
      },
      "source": [
        "sns.kdeplot(x)"
      ],
      "execution_count": null,
      "outputs": [
        {
          "output_type": "execute_result",
          "data": {
            "text/plain": [
              "<matplotlib.axes._subplots.AxesSubplot at 0x7f16cc47f890>"
            ]
          },
          "metadata": {
            "tags": []
          },
          "execution_count": 70
        },
        {
          "output_type": "display_data",
          "data": {
            "image/png": "[encoded data removed]",
            "text/plain": [
              "<Figure size 432x288 with 1 Axes>"
            ]
          },
          "metadata": {
            "tags": []
          }
        }
      ]
    },
    {
      "cell_type": "code",
      "metadata": {
        "colab": {
          "base_uri": "https://localhost:8080/",
          "height": 287
        },
        "id": "SBOulPoB7TG1",
        "outputId": "89f8bd85-6554-418f-bca0-d9dccf813880"
      },
      "source": [
        "sns.kdeplot(x, shade=True)"
      ],
      "execution_count": null,
      "outputs": [
        {
          "output_type": "execute_result",
          "data": {
            "text/plain": [
              "<matplotlib.axes._subplots.AxesSubplot at 0x7f16cc42ae90>"
            ]
          },
          "metadata": {
            "tags": []
          },
          "execution_count": 71
        },
        {
          "output_type": "display_data",
          "data": {
            "image/png": "[encoded data removed]",
            "text/plain": [
              "<Figure size 432x288 with 1 Axes>"
            ]
          },
          "metadata": {
            "tags": []
          }
        }
      ]
    },
    {
      "cell_type": "code",
      "metadata": {
        "id": "Be6Uw4v27f6Z"
      },
      "source": [
        "y = np.random.uniform(size=1000)"
      ],
      "execution_count": null,
      "outputs": []
    },
    {
      "cell_type": "code",
      "metadata": {
        "colab": {
          "base_uri": "https://localhost:8080/",
          "height": 287
        },
        "id": "BOfUSrf_7uyE",
        "outputId": "d2b2e5cf-214d-4a78-834a-a288d670f77a"
      },
      "source": [
        "sns.kdeplot(x, shade=True)\n",
        "sns.kdeplot(y, shade=True)"
      ],
      "execution_count": null,
      "outputs": [
        {
          "output_type": "execute_result",
          "data": {
            "text/plain": [
              "<matplotlib.axes._subplots.AxesSubplot at 0x7f16cc369910>"
            ]
          },
          "metadata": {
            "tags": []
          },
          "execution_count": 73
        },
        {
          "output_type": "display_data",
          "data": {
            "image/png": "[encoded data removed]",
            "text/plain": [
              "<Figure size 432x288 with 1 Axes>"
            ]
          },
          "metadata": {
            "tags": []
          }
        }
      ]
    },
    {
      "cell_type": "code",
      "metadata": {
        "colab": {
          "base_uri": "https://localhost:8080/",
          "height": 287
        },
        "id": "GgarmTFD71yD",
        "outputId": "37ab2c5d-38af-491e-fb5e-bf82d4fd8565"
      },
      "source": [
        "sns.kdeplot(x)\n",
        "sns.kdeplot(y)"
      ],
      "execution_count": null,
      "outputs": [
        {
          "output_type": "execute_result",
          "data": {
            "text/plain": [
              "<matplotlib.axes._subplots.AxesSubplot at 0x7f16cc33e950>"
            ]
          },
          "metadata": {
            "tags": []
          },
          "execution_count": 74
        },
        {
          "output_type": "display_data",
          "data": {
            "image/png": "[encoded data removed]",
            "text/plain": [
              "<Figure size 432x288 with 1 Axes>"
            ]
          },
          "metadata": {
            "tags": []
          }
        }
      ]
    },
    {
      "cell_type": "code",
      "metadata": {
        "id": "kKtSByZX77c0"
      },
      "source": [
        "sns.distplot?"
      ],
      "execution_count": null,
      "outputs": []
    },
    {
      "cell_type": "markdown",
      "metadata": {
        "id": "tqSV3-1j8LDK"
      },
      "source": [
        "# Bar Plot"
      ]
    },
    {
      "cell_type": "code",
      "metadata": {
        "id": "btam4fxf8Vpw"
      },
      "source": [
        "diamonds = sns.load_dataset(\"diamonds\")"
      ],
      "execution_count": null,
      "outputs": []
    },
    {
      "cell_type": "code",
      "metadata": {
        "colab": {
          "base_uri": "https://localhost:8080/",
          "height": 206
        },
        "id": "MZBQRtoC8g2z",
        "outputId": "a018e756-aa92-45c3-9b2d-1e179f8ab715"
      },
      "source": [
        "diamonds.head()"
      ],
      "execution_count": null,
      "outputs": [
        {
          "output_type": "execute_result",
          "data": {
            "text/html": [
              "<div>\n",
              "<style scoped>\n",
              "    .dataframe tbody tr th:only-of-type {\n",
              "        vertical-align: middle;\n",
              "    }\n",
              "\n",
              "    .dataframe tbody tr th {\n",
              "        vertical-align: top;\n",
              "    }\n",
              "\n",
              "    .dataframe thead th {\n",
              "        text-align: right;\n",
              "    }\n",
              "</style>\n",
              "<table border=\"1\" class=\"dataframe\">\n",
              "  <thead>\n",
              "    <tr style=\"text-align: right;\">\n",
              "      <th></th>\n",
              "      <th>carat</th>\n",
              "      <th>cut</th>\n",
              "      <th>color</th>\n",
              "      <th>clarity</th>\n",
              "      <th>depth</th>\n",
              "      <th>table</th>\n",
              "      <th>price</th>\n",
              "      <th>x</th>\n",
              "      <th>y</th>\n",
              "      <th>z</th>\n",
              "    </tr>\n",
              "  </thead>\n",
              "  <tbody>\n",
              "    <tr>\n",
              "      <th>0</th>\n",
              "      <td>0.23</td>\n",
              "      <td>Ideal</td>\n",
              "      <td>E</td>\n",
              "      <td>SI2</td>\n",
              "      <td>61.5</td>\n",
              "      <td>55.0</td>\n",
              "      <td>326</td>\n",
              "      <td>3.95</td>\n",
              "      <td>3.98</td>\n",
              "      <td>2.43</td>\n",
              "    </tr>\n",
              "    <tr>\n",
              "      <th>1</th>\n",
              "      <td>0.21</td>\n",
              "      <td>Premium</td>\n",
              "      <td>E</td>\n",
              "      <td>SI1</td>\n",
              "      <td>59.8</td>\n",
              "      <td>61.0</td>\n",
              "      <td>326</td>\n",
              "      <td>3.89</td>\n",
              "      <td>3.84</td>\n",
              "      <td>2.31</td>\n",
              "    </tr>\n",
              "    <tr>\n",
              "      <th>2</th>\n",
              "      <td>0.23</td>\n",
              "      <td>Good</td>\n",
              "      <td>E</td>\n",
              "      <td>VS1</td>\n",
              "      <td>56.9</td>\n",
              "      <td>65.0</td>\n",
              "      <td>327</td>\n",
              "      <td>4.05</td>\n",
              "      <td>4.07</td>\n",
              "      <td>2.31</td>\n",
              "    </tr>\n",
              "    <tr>\n",
              "      <th>3</th>\n",
              "      <td>0.29</td>\n",
              "      <td>Premium</td>\n",
              "      <td>I</td>\n",
              "      <td>VS2</td>\n",
              "      <td>62.4</td>\n",
              "      <td>58.0</td>\n",
              "      <td>334</td>\n",
              "      <td>4.20</td>\n",
              "      <td>4.23</td>\n",
              "      <td>2.63</td>\n",
              "    </tr>\n",
              "    <tr>\n",
              "      <th>4</th>\n",
              "      <td>0.31</td>\n",
              "      <td>Good</td>\n",
              "      <td>J</td>\n",
              "      <td>SI2</td>\n",
              "      <td>63.3</td>\n",
              "      <td>58.0</td>\n",
              "      <td>335</td>\n",
              "      <td>4.34</td>\n",
              "      <td>4.35</td>\n",
              "      <td>2.75</td>\n",
              "    </tr>\n",
              "  </tbody>\n",
              "</table>\n",
              "</div>"
            ],
            "text/plain": [
              "   carat      cut color clarity  depth  table  price     x     y     z\n",
              "0   0.23    Ideal     E     SI2   61.5   55.0    326  3.95  3.98  2.43\n",
              "1   0.21  Premium     E     SI1   59.8   61.0    326  3.89  3.84  2.31\n",
              "2   0.23     Good     E     VS1   56.9   65.0    327  4.05  4.07  2.31\n",
              "3   0.29  Premium     I     VS2   62.4   58.0    334  4.20  4.23  2.63\n",
              "4   0.31     Good     J     SI2   63.3   58.0    335  4.34  4.35  2.75"
            ]
          },
          "metadata": {
            "tags": []
          },
          "execution_count": 4
        }
      ]
    },
    {
      "cell_type": "code",
      "metadata": {
        "colab": {
          "base_uri": "https://localhost:8080/",
          "height": 237
        },
        "id": "byOR4V1x8ipo",
        "outputId": "cb571c9f-6f67-423b-e525-c33a314143bc"
      },
      "source": [
        "diamonds.groupby('cut').count()"
      ],
      "execution_count": null,
      "outputs": [
        {
          "output_type": "execute_result",
          "data": {
            "text/html": [
              "<div>\n",
              "<style scoped>\n",
              "    .dataframe tbody tr th:only-of-type {\n",
              "        vertical-align: middle;\n",
              "    }\n",
              "\n",
              "    .dataframe tbody tr th {\n",
              "        vertical-align: top;\n",
              "    }\n",
              "\n",
              "    .dataframe thead th {\n",
              "        text-align: right;\n",
              "    }\n",
              "</style>\n",
              "<table border=\"1\" class=\"dataframe\">\n",
              "  <thead>\n",
              "    <tr style=\"text-align: right;\">\n",
              "      <th></th>\n",
              "      <th>carat</th>\n",
              "      <th>color</th>\n",
              "      <th>clarity</th>\n",
              "      <th>depth</th>\n",
              "      <th>table</th>\n",
              "      <th>price</th>\n",
              "      <th>x</th>\n",
              "      <th>y</th>\n",
              "      <th>z</th>\n",
              "    </tr>\n",
              "    <tr>\n",
              "      <th>cut</th>\n",
              "      <th></th>\n",
              "      <th></th>\n",
              "      <th></th>\n",
              "      <th></th>\n",
              "      <th></th>\n",
              "      <th></th>\n",
              "      <th></th>\n",
              "      <th></th>\n",
              "      <th></th>\n",
              "    </tr>\n",
              "  </thead>\n",
              "  <tbody>\n",
              "    <tr>\n",
              "      <th>Ideal</th>\n",
              "      <td>21551</td>\n",
              "      <td>21551</td>\n",
              "      <td>21551</td>\n",
              "      <td>21551</td>\n",
              "      <td>21551</td>\n",
              "      <td>21551</td>\n",
              "      <td>21551</td>\n",
              "      <td>21551</td>\n",
              "      <td>21551</td>\n",
              "    </tr>\n",
              "    <tr>\n",
              "      <th>Premium</th>\n",
              "      <td>13791</td>\n",
              "      <td>13791</td>\n",
              "      <td>13791</td>\n",
              "      <td>13791</td>\n",
              "      <td>13791</td>\n",
              "      <td>13791</td>\n",
              "      <td>13791</td>\n",
              "      <td>13791</td>\n",
              "      <td>13791</td>\n",
              "    </tr>\n",
              "    <tr>\n",
              "      <th>Very Good</th>\n",
              "      <td>12082</td>\n",
              "      <td>12082</td>\n",
              "      <td>12082</td>\n",
              "      <td>12082</td>\n",
              "      <td>12082</td>\n",
              "      <td>12082</td>\n",
              "      <td>12082</td>\n",
              "      <td>12082</td>\n",
              "      <td>12082</td>\n",
              "    </tr>\n",
              "    <tr>\n",
              "      <th>Good</th>\n",
              "      <td>4906</td>\n",
              "      <td>4906</td>\n",
              "      <td>4906</td>\n",
              "      <td>4906</td>\n",
              "      <td>4906</td>\n",
              "      <td>4906</td>\n",
              "      <td>4906</td>\n",
              "      <td>4906</td>\n",
              "      <td>4906</td>\n",
              "    </tr>\n",
              "    <tr>\n",
              "      <th>Fair</th>\n",
              "      <td>1610</td>\n",
              "      <td>1610</td>\n",
              "      <td>1610</td>\n",
              "      <td>1610</td>\n",
              "      <td>1610</td>\n",
              "      <td>1610</td>\n",
              "      <td>1610</td>\n",
              "      <td>1610</td>\n",
              "      <td>1610</td>\n",
              "    </tr>\n",
              "  </tbody>\n",
              "</table>\n",
              "</div>"
            ],
            "text/plain": [
              "           carat  color  clarity  depth  table  price      x      y      z\n",
              "cut                                                                       \n",
              "Ideal      21551  21551    21551  21551  21551  21551  21551  21551  21551\n",
              "Premium    13791  13791    13791  13791  13791  13791  13791  13791  13791\n",
              "Very Good  12082  12082    12082  12082  12082  12082  12082  12082  12082\n",
              "Good        4906   4906     4906   4906   4906   4906   4906   4906   4906\n",
              "Fair        1610   1610     1610   1610   1610   1610   1610   1610   1610"
            ]
          },
          "metadata": {
            "tags": []
          },
          "execution_count": 5
        }
      ]
    },
    {
      "cell_type": "code",
      "metadata": {
        "id": "q8LSHbSL9Dhn"
      },
      "source": [
        "cut = diamonds.groupby('cut')['cut'].count()"
      ],
      "execution_count": null,
      "outputs": []
    },
    {
      "cell_type": "code",
      "metadata": {
        "colab": {
          "base_uri": "https://localhost:8080/"
        },
        "id": "v3jo184S9PlF",
        "outputId": "fdfc1705-75ae-47c7-ca07-c250d6b0fc9e"
      },
      "source": [
        "cut"
      ],
      "execution_count": null,
      "outputs": [
        {
          "output_type": "execute_result",
          "data": {
            "text/plain": [
              "cut\n",
              "Ideal        21551\n",
              "Premium      13791\n",
              "Very Good    12082\n",
              "Good          4906\n",
              "Fair          1610\n",
              "Name: cut, dtype: int64"
            ]
          },
          "metadata": {
            "tags": []
          },
          "execution_count": 7
        }
      ]
    },
    {
      "cell_type": "code",
      "metadata": {
        "colab": {
          "base_uri": "https://localhost:8080/",
          "height": 298
        },
        "id": "5thFvlwj9Qh8",
        "outputId": "ea019202-00c5-4d2b-9006-3484a91f817d"
      },
      "source": [
        "sns.barplot(x=cut.index, y=cut.values)"
      ],
      "execution_count": null,
      "outputs": [
        {
          "output_type": "execute_result",
          "data": {
            "text/plain": [
              "<matplotlib.axes._subplots.AxesSubplot at 0x7ff5bad9c9d0>"
            ]
          },
          "metadata": {
            "tags": []
          },
          "execution_count": 8
        },
        {
          "output_type": "display_data",
          "data": {
            "image/png": "[encoded data removed]",
            "text/plain": [
              "<Figure size 432x288 with 1 Axes>"
            ]
          },
          "metadata": {
            "tags": [],
            "needs_background": "light"
          }
        }
      ]
    },
    {
      "cell_type": "code",
      "metadata": {
        "colab": {
          "base_uri": "https://localhost:8080/",
          "height": 279
        },
        "id": "veWoIz4g9fEQ",
        "outputId": "f8358fa1-bdf6-4719-fd05-7ece28ba7182"
      },
      "source": [
        "sns.barplot(x=cut.index, y=cut.values);"
      ],
      "execution_count": null,
      "outputs": [
        {
          "output_type": "display_data",
          "data": {
            "image/png": "[encoded data removed]",
            "text/plain": [
              "<Figure size 432x288 with 1 Axes>"
            ]
          },
          "metadata": {
            "tags": [],
            "needs_background": "light"
          }
        }
      ]
    },
    {
      "cell_type": "code",
      "metadata": {
        "colab": {
          "base_uri": "https://localhost:8080/",
          "height": 279
        },
        "id": "zoiD6ShG9mwT",
        "outputId": "69cfa595-4005-4b4a-fb2c-9e39f6cb043d"
      },
      "source": [
        "color = diamonds.groupby('color')['color'].count()\n",
        "sns.barplot(x=color.index, y=color.values);"
      ],
      "execution_count": null,
      "outputs": [
        {
          "output_type": "display_data",
          "data": {
            "image/png": "[encoded data removed]",
            "text/plain": [
              "<Figure size 432x288 with 1 Axes>"
            ]
          },
          "metadata": {
            "tags": [],
            "needs_background": "light"
          }
        }
      ]
    },
    {
      "cell_type": "code",
      "metadata": {
        "colab": {
          "base_uri": "https://localhost:8080/"
        },
        "id": "q_Q_YimQ9vQI",
        "outputId": "d0aed06e-8241-42aa-8c76-be212985b1a5"
      },
      "source": [
        "color"
      ],
      "execution_count": null,
      "outputs": [
        {
          "output_type": "execute_result",
          "data": {
            "text/plain": [
              "color\n",
              "D     6775\n",
              "E     9797\n",
              "F     9542\n",
              "G    11292\n",
              "H     8304\n",
              "I     5422\n",
              "J     2808\n",
              "Name: color, dtype: int64"
            ]
          },
          "metadata": {
            "tags": []
          },
          "execution_count": 13
        }
      ]
    },
    {
      "cell_type": "code",
      "metadata": {
        "colab": {
          "base_uri": "https://localhost:8080/",
          "height": 279
        },
        "id": "faK4906U93Bs",
        "outputId": "7bb80c65-0568-431f-d8e5-e6a3901fed0f"
      },
      "source": [
        "clarity = diamonds.groupby('clarity')['clarity'].count()\n",
        "sns.barplot(x=clarity.index, y=clarity.values);"
      ],
      "execution_count": null,
      "outputs": [
        {
          "output_type": "display_data",
          "data": {
            "image/png": "[encoded data removed]",
            "text/plain": [
              "<Figure size 432x288 with 1 Axes>"
            ]
          },
          "metadata": {
            "tags": [],
            "needs_background": "light"
          }
        }
      ]
    },
    {
      "cell_type": "code",
      "metadata": {
        "id": "MDnbMVvF9_2H",
        "outputId": "931a8279-a13a-4038-c6ac-00b3e51fd822",
        "colab": {
          "base_uri": "https://localhost:8080/"
        }
      },
      "source": [
        "clarity"
      ],
      "execution_count": null,
      "outputs": [
        {
          "output_type": "execute_result",
          "data": {
            "text/plain": [
              "clarity\n",
              "IF       1790\n",
              "VVS1     3655\n",
              "VVS2     5066\n",
              "VS1      8171\n",
              "VS2     12258\n",
              "SI1     13065\n",
              "SI2      9194\n",
              "I1        741\n",
              "Name: clarity, dtype: int64"
            ]
          },
          "metadata": {
            "tags": []
          },
          "execution_count": 15
        }
      ]
    },
    {
      "cell_type": "code",
      "metadata": {
        "id": "4l0S5jHs-BfQ"
      },
      "source": [],
      "execution_count": null,
      "outputs": []
    }
  ]
}