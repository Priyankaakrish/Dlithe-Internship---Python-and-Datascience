{
  "nbformat": 4,
  "nbformat_minor": 0,
  "metadata": {
    "colab": {
      "provenance": []
    },
    "kernelspec": {
      "name": "python3",
      "display_name": "Python 3"
    },
    "language_info": {
      "name": "python"
    }
  },
  "cells": [
    {
      "cell_type": "markdown",
      "source": [
        "# **Day 1**"
      ],
      "metadata": {
        "id": "aLpEALuMZBRk"
      }
    },
    {
      "cell_type": "markdown",
      "metadata": {
        "id": "Gl47gK-84nHx"
      },
      "source": [
        "# Print statements"
      ]
    },
    {
      "cell_type": "code",
      "metadata": {
        "colab": {
          "base_uri": "https://localhost:8080/"
        },
        "id": "XT0DDxXK0K0s",
        "outputId": "a89341c7-a078-49d9-8fe4-3c384ab63367"
      },
      "source": [
        "print(\"Hello World\")"
      ],
      "execution_count": null,
      "outputs": [
        {
          "output_type": "stream",
          "name": "stdout",
          "text": [
            "Hello World\n"
          ]
        }
      ]
    },
    {
      "cell_type": "code",
      "metadata": {
        "colab": {
          "base_uri": "https://localhost:8080/"
        },
        "id": "oij65CnQ1yOX",
        "outputId": "bfcf4b74-3c4f-4b50-c031-fe8d4059acdb"
      },
      "source": [
        "print(\"hello world\")\n",
        "print(\"my name is something.\")"
      ],
      "execution_count": null,
      "outputs": [
        {
          "output_type": "stream",
          "name": "stdout",
          "text": [
            "hello world\n",
            "my name is something.\n"
          ]
        }
      ]
    },
    {
      "cell_type": "code",
      "metadata": {
        "colab": {
          "base_uri": "https://localhost:8080/"
        },
        "id": "9oPe10Ik1_l2",
        "outputId": "f4eb4e82-d624-4ae9-dc4e-7bf43558643b"
      },
      "source": [
        "print(\"Hello \" + \"World\")"
      ],
      "execution_count": null,
      "outputs": [
        {
          "output_type": "stream",
          "name": "stdout",
          "text": [
            "Hello World\n"
          ]
        }
      ]
    },
    {
      "cell_type": "code",
      "metadata": {
        "colab": {
          "base_uri": "https://localhost:8080/"
        },
        "id": "mRwalmSc2h5U",
        "outputId": "9b8604d8-37c6-4862-ec11-7f9fd6b40b91"
      },
      "source": [
        "print(\"Hello\", \"World\")"
      ],
      "execution_count": null,
      "outputs": [
        {
          "output_type": "stream",
          "name": "stdout",
          "text": [
            "Hello World\n"
          ]
        }
      ]
    },
    {
      "cell_type": "code",
      "metadata": {
        "colab": {
          "base_uri": "https://localhost:8080/"
        },
        "id": "IlfBkeRL2tdg",
        "outputId": "163c0c37-e0d2-4056-dcb4-6b14535b1952"
      },
      "source": [
        "print(7390)"
      ],
      "execution_count": null,
      "outputs": [
        {
          "output_type": "stream",
          "name": "stdout",
          "text": [
            "7390\n"
          ]
        }
      ]
    },
    {
      "cell_type": "code",
      "metadata": {
        "colab": {
          "base_uri": "https://localhost:8080/"
        },
        "id": "DbfX5uh63CYE",
        "outputId": "93721e0c-3df0-4f0b-e5f5-0e6ddd7f6dae"
      },
      "source": [
        "print(600 + 54)"
      ],
      "execution_count": null,
      "outputs": [
        {
          "output_type": "stream",
          "name": "stdout",
          "text": [
            "654\n"
          ]
        }
      ]
    },
    {
      "cell_type": "code",
      "metadata": {
        "colab": {
          "base_uri": "https://localhost:8080/"
        },
        "id": "kZtXaD8n3VUY",
        "outputId": "5c9e1c7f-249f-4fcb-8e76-aa0255c5c219"
      },
      "source": [
        "print(\"python is best\")"
      ],
      "execution_count": null,
      "outputs": [
        {
          "output_type": "stream",
          "name": "stdout",
          "text": [
            "python is best\n"
          ]
        }
      ]
    },
    {
      "cell_type": "code",
      "metadata": {
        "colab": {
          "base_uri": "https://localhost:8080/"
        },
        "id": "tJucn40b3njt",
        "outputId": "3560643a-8980-4405-968c-216a1c3170e8"
      },
      "source": [
        "print(43/56)"
      ],
      "execution_count": null,
      "outputs": [
        {
          "output_type": "stream",
          "name": "stdout",
          "text": [
            "0.7678571428571429\n"
          ]
        }
      ]
    },
    {
      "cell_type": "code",
      "metadata": {
        "colab": {
          "base_uri": "https://localhost:8080/"
        },
        "id": "SWKiD9sO3-cd",
        "outputId": "4a594944-26d4-4891-fd2f-dfc6f48cc7df"
      },
      "source": [
        "print(True) "
      ],
      "execution_count": null,
      "outputs": [
        {
          "output_type": "stream",
          "name": "stdout",
          "text": [
            "True\n"
          ]
        }
      ]
    },
    {
      "cell_type": "code",
      "metadata": {
        "colab": {
          "base_uri": "https://localhost:8080/"
        },
        "id": "5ccQ2Icl4Lg8",
        "outputId": "b6a01caa-52dd-4e06-f0cc-c10ab1a69906"
      },
      "source": [
        "print(True or False)"
      ],
      "execution_count": null,
      "outputs": [
        {
          "output_type": "stream",
          "name": "stdout",
          "text": [
            "True\n"
          ]
        }
      ]
    },
    {
      "cell_type": "code",
      "metadata": {
        "colab": {
          "base_uri": "https://localhost:8080/"
        },
        "id": "ZYsSD0YC4ZHO",
        "outputId": "8120dc15-07b6-4535-a7b0-2a3cb5528266"
      },
      "source": [
        "print(True and False)"
      ],
      "execution_count": null,
      "outputs": [
        {
          "output_type": "stream",
          "name": "stdout",
          "text": [
            "False\n"
          ]
        }
      ]
    },
    {
      "cell_type": "markdown",
      "metadata": {
        "id": "-XehVDl04-C7"
      },
      "source": [
        "# Variables"
      ]
    },
    {
      "cell_type": "code",
      "metadata": {
        "id": "QYcmp26I49y4"
      },
      "source": [
        "school = \"Youtube\""
      ],
      "execution_count": null,
      "outputs": []
    },
    {
      "cell_type": "code",
      "metadata": {
        "colab": {
          "base_uri": "https://localhost:8080/"
        },
        "id": "TToO2brq4fzc",
        "outputId": "3efc4df7-2c8f-4fde-80f6-c870b31f94c1"
      },
      "source": [
        "print(school)"
      ],
      "execution_count": null,
      "outputs": [
        {
          "output_type": "stream",
          "name": "stdout",
          "text": [
            "Youtube\n"
          ]
        }
      ]
    },
    {
      "cell_type": "code",
      "metadata": {
        "colab": {
          "base_uri": "https://localhost:8080/"
        },
        "id": "AzOfa8zH5O08",
        "outputId": "fb603115-dd65-45ce-b0a5-cf9df9b3f1e9"
      },
      "source": [
        "print(type(school))"
      ],
      "execution_count": null,
      "outputs": [
        {
          "output_type": "stream",
          "name": "stdout",
          "text": [
            "<class 'str'>\n"
          ]
        }
      ]
    },
    {
      "cell_type": "code",
      "metadata": {
        "colab": {
          "base_uri": "https://localhost:8080/"
        },
        "id": "LJMbMa2h5iUJ",
        "outputId": "6ea3fc90-6e70-446c-e98f-78d05ea4a9c5"
      },
      "source": [
        "a = 10\n",
        "print(type(a))"
      ],
      "execution_count": null,
      "outputs": [
        {
          "output_type": "stream",
          "name": "stdout",
          "text": [
            "<class 'int'>\n"
          ]
        }
      ]
    },
    {
      "cell_type": "code",
      "metadata": {
        "id": "tHbsOHIf5pGM"
      },
      "source": [
        "another_school = \"Alvas\""
      ],
      "execution_count": null,
      "outputs": []
    },
    {
      "cell_type": "code",
      "metadata": {
        "colab": {
          "base_uri": "https://localhost:8080/"
        },
        "id": "3JNLAOUF55Jt",
        "outputId": "dc30ceab-33a0-4d8b-9339-9b882bf8467b"
      },
      "source": [
        "print(id(school))"
      ],
      "execution_count": null,
      "outputs": [
        {
          "output_type": "stream",
          "name": "stdout",
          "text": [
            "140596843478128\n"
          ]
        }
      ]
    },
    {
      "cell_type": "code",
      "metadata": {
        "colab": {
          "base_uri": "https://localhost:8080/"
        },
        "id": "nV8ndnfX59SC",
        "outputId": "366754d1-d25c-44ce-8592-4ddd39e3603d"
      },
      "source": [
        "print(id(another_school))"
      ],
      "execution_count": null,
      "outputs": [
        {
          "output_type": "stream",
          "name": "stdout",
          "text": [
            "140596896447728\n"
          ]
        }
      ]
    },
    {
      "cell_type": "code",
      "metadata": {
        "id": "ogJkfKjW6LIc"
      },
      "source": [
        "another_school = \"Elite\""
      ],
      "execution_count": null,
      "outputs": []
    },
    {
      "cell_type": "code",
      "metadata": {
        "colab": {
          "base_uri": "https://localhost:8080/"
        },
        "id": "IjFcHKOI6Y2o",
        "outputId": "e1060777-f20d-4773-d2cc-e1c7c6399a7f"
      },
      "source": [
        "print(id(another_school))"
      ],
      "execution_count": null,
      "outputs": [
        {
          "output_type": "stream",
          "name": "stdout",
          "text": [
            "140596919984752\n"
          ]
        }
      ]
    },
    {
      "cell_type": "code",
      "metadata": {
        "colab": {
          "base_uri": "https://localhost:8080/"
        },
        "id": "-hvD8WIk6hCg",
        "outputId": "85e7a6ea-7e9e-441a-c7c2-8ae2221694f5"
      },
      "source": [
        "print(\"My School is \" + school)"
      ],
      "execution_count": null,
      "outputs": [
        {
          "output_type": "stream",
          "name": "stdout",
          "text": [
            "My School is Youtube\n"
          ]
        }
      ]
    },
    {
      "cell_type": "code",
      "metadata": {
        "colab": {
          "base_uri": "https://localhost:8080/"
        },
        "id": "A4zNVEKH67G1",
        "outputId": "63762388-666f-4882-c22e-75de0b73b5f5"
      },
      "source": [
        "print(\"My School is\", school)"
      ],
      "execution_count": null,
      "outputs": [
        {
          "output_type": "stream",
          "name": "stdout",
          "text": [
            "My School is Youtube\n"
          ]
        }
      ]
    },
    {
      "cell_type": "code",
      "metadata": {
        "colab": {
          "base_uri": "https://localhost:8080/"
        },
        "id": "CvTJlRF26_-q",
        "outputId": "56d6a5ff-875b-4b2e-bca9-2156df11efe6"
      },
      "source": [
        "roll_no = 54\n",
        "print(type(roll_no))"
      ],
      "execution_count": null,
      "outputs": [
        {
          "output_type": "stream",
          "name": "stdout",
          "text": [
            "<class 'int'>\n"
          ]
        }
      ]
    },
    {
      "cell_type": "code",
      "metadata": {
        "colab": {
          "base_uri": "https://localhost:8080/"
        },
        "id": "_2pVrDoE7GzB",
        "outputId": "d1c37869-310b-4310-8e77-9abdbbe12ac8"
      },
      "source": [
        "roll_no = 54/3\n",
        "print(type(roll_no))"
      ],
      "execution_count": null,
      "outputs": [
        {
          "output_type": "stream",
          "name": "stdout",
          "text": [
            "<class 'float'>\n"
          ]
        }
      ]
    },
    {
      "cell_type": "code",
      "metadata": {
        "colab": {
          "base_uri": "https://localhost:8080/"
        },
        "id": "b_soS9mn7daK",
        "outputId": "9fb56a5d-62fd-4a06-cccb-125f292c982a"
      },
      "source": [
        "isGood = True # 0, 1 Binary\n",
        "print(type(isGood))"
      ],
      "execution_count": null,
      "outputs": [
        {
          "output_type": "stream",
          "name": "stdout",
          "text": [
            "<class 'bool'>\n"
          ]
        }
      ]
    },
    {
      "cell_type": "code",
      "metadata": {
        "colab": {
          "base_uri": "https://localhost:8080/"
        },
        "id": "Pznaq2qS79bZ",
        "outputId": "2df2cc88-2442-4bb6-db07-dde8075462ec"
      },
      "source": [
        "my_name = input(\"Please type your name -> \")"
      ],
      "execution_count": null,
      "outputs": [
        {
          "name": "stdout",
          "output_type": "stream",
          "text": [
            "Please type your name -> iamsohan\n"
          ]
        }
      ]
    },
    {
      "cell_type": "code",
      "metadata": {
        "colab": {
          "base_uri": "https://localhost:8080/"
        },
        "id": "kr7xW-kO8UPF",
        "outputId": "dab17052-b299-4b56-fdd7-546eda978607"
      },
      "source": [
        "print(my_name)"
      ],
      "execution_count": null,
      "outputs": [
        {
          "output_type": "stream",
          "name": "stdout",
          "text": [
            "iamsohan\n"
          ]
        }
      ]
    },
    {
      "cell_type": "code",
      "metadata": {
        "colab": {
          "base_uri": "https://localhost:8080/",
          "height": 35
        },
        "id": "KGEGPi_B8YeW",
        "outputId": "b5aa157e-9dbc-4365-f4b6-3c767852adf1"
      },
      "source": [
        "my_name"
      ],
      "execution_count": null,
      "outputs": [
        {
          "output_type": "execute_result",
          "data": {
            "application/vnd.google.colaboratory.intrinsic+json": {
              "type": "string"
            },
            "text/plain": [
              "'iamsohan'"
            ]
          },
          "metadata": {},
          "execution_count": 34
        }
      ]
    },
    {
      "cell_type": "code",
      "metadata": {
        "colab": {
          "base_uri": "https://localhost:8080/"
        },
        "id": "OjEgeGuS8aDY",
        "outputId": "9b3caabc-94bb-449e-f914-7d9b1e5a8790"
      },
      "source": [
        "my_age = input(\"Please enter your age \")"
      ],
      "execution_count": null,
      "outputs": [
        {
          "name": "stdout",
          "output_type": "stream",
          "text": [
            "Please enter your age 20\n"
          ]
        }
      ]
    },
    {
      "cell_type": "code",
      "metadata": {
        "id": "7m_oP1jy8kKR"
      },
      "source": [
        "fathers_age = my_age * 2"
      ],
      "execution_count": null,
      "outputs": []
    },
    {
      "cell_type": "code",
      "metadata": {
        "colab": {
          "base_uri": "https://localhost:8080/"
        },
        "id": "Ze26ZfHO8t-R",
        "outputId": "49739814-6a0e-4a7a-9863-ac17430351c6"
      },
      "source": [
        "print(\"My fathers age is \" + fathers_age)"
      ],
      "execution_count": null,
      "outputs": [
        {
          "output_type": "stream",
          "name": "stdout",
          "text": [
            "My fathers age is 2020\n"
          ]
        }
      ]
    },
    {
      "cell_type": "code",
      "metadata": {
        "colab": {
          "base_uri": "https://localhost:8080/"
        },
        "id": "lKuyiBWS86gb",
        "outputId": "4d8fe931-5ef7-4abb-8d07-3739866357ae"
      },
      "source": [
        "print(type(my_age))"
      ],
      "execution_count": null,
      "outputs": [
        {
          "output_type": "stream",
          "name": "stdout",
          "text": [
            "<class 'str'>\n"
          ]
        }
      ]
    },
    {
      "cell_type": "code",
      "metadata": {
        "colab": {
          "base_uri": "https://localhost:8080/"
        },
        "id": "JYUcDauD88Ge",
        "outputId": "ebd374c2-07bd-4e8c-ef4e-7d6177347046"
      },
      "source": [
        "my_age_int = int(my_age)\n",
        "print(type(my_age_int))"
      ],
      "execution_count": null,
      "outputs": [
        {
          "output_type": "stream",
          "name": "stdout",
          "text": [
            "<class 'int'>\n"
          ]
        }
      ]
    },
    {
      "cell_type": "code",
      "metadata": {
        "id": "FhVTR4a79Uck"
      },
      "source": [
        "fathers_age_int = my_age_int * 2"
      ],
      "execution_count": null,
      "outputs": []
    },
    {
      "cell_type": "code",
      "metadata": {
        "colab": {
          "base_uri": "https://localhost:8080/"
        },
        "id": "5zayynCv9ZuZ",
        "outputId": "2c4670a8-a9cc-429f-cc14-67a10db5fccc"
      },
      "source": [
        "print(\"My fathers age is \", fathers_age_int)"
      ],
      "execution_count": null,
      "outputs": [
        {
          "output_type": "stream",
          "name": "stdout",
          "text": [
            "My fathers age is  40\n"
          ]
        }
      ]
    },
    {
      "cell_type": "code",
      "metadata": {
        "colab": {
          "base_uri": "https://localhost:8080/"
        },
        "id": "aMB18Ba_9uA-",
        "outputId": "2c8f7ab4-2d72-4abb-be1c-582624e06fa9"
      },
      "source": [
        "print(\"My fathers age is \" + str(fathers_age_int))"
      ],
      "execution_count": null,
      "outputs": [
        {
          "output_type": "stream",
          "name": "stdout",
          "text": [
            "My fathers age is 40\n"
          ]
        }
      ]
    },
    {
      "cell_type": "code",
      "metadata": {
        "id": "vwP3QVGF-GGW"
      },
      "source": [],
      "execution_count": null,
      "outputs": []
    },
    {
      "cell_type": "markdown",
      "metadata": {
        "id": "HfsrmzU_-OhB"
      },
      "source": [
        "# String"
      ]
    },
    {
      "cell_type": "code",
      "metadata": {
        "id": "oh_GLwg0-P9E"
      },
      "source": [
        "topic = \"Long text with no meaning in it.\""
      ],
      "execution_count": null,
      "outputs": []
    },
    {
      "cell_type": "code",
      "metadata": {
        "colab": {
          "base_uri": "https://localhost:8080/"
        },
        "id": "jRf6YhGG-Ul9",
        "outputId": "4f9cc4e2-808e-45ff-e777-96e966275eaa"
      },
      "source": [
        "print(topic)"
      ],
      "execution_count": null,
      "outputs": [
        {
          "output_type": "stream",
          "name": "stdout",
          "text": [
            "Long text with no meaning in it.\n"
          ]
        }
      ]
    },
    {
      "cell_type": "code",
      "metadata": {
        "colab": {
          "base_uri": "https://localhost:8080/"
        },
        "id": "ubZQ-B1Q-XUi",
        "outputId": "debaa3a4-95cc-4123-92c0-60b179bdb237"
      },
      "source": [
        "print(topic[0])"
      ],
      "execution_count": null,
      "outputs": [
        {
          "output_type": "stream",
          "name": "stdout",
          "text": [
            "L\n"
          ]
        }
      ]
    },
    {
      "cell_type": "code",
      "metadata": {
        "colab": {
          "base_uri": "https://localhost:8080/"
        },
        "id": "z6tAoUPi-jFK",
        "outputId": "0aadb388-61d8-444a-ef63-32f5165384b9"
      },
      "source": [
        "print(topic[10])"
      ],
      "execution_count": null,
      "outputs": [
        {
          "output_type": "stream",
          "name": "stdout",
          "text": [
            "w\n"
          ]
        }
      ]
    },
    {
      "cell_type": "code",
      "metadata": {
        "colab": {
          "base_uri": "https://localhost:8080/"
        },
        "id": "UKe6017T-lwO",
        "outputId": "5afa6d8b-0866-4fc6-d987-27a9ab88cae2"
      },
      "source": [
        "topic = \"123123313 imp data\"\n",
        "print(topic[9:])"
      ],
      "execution_count": null,
      "outputs": [
        {
          "output_type": "stream",
          "name": "stdout",
          "text": [
            " imp data\n"
          ]
        }
      ]
    },
    {
      "cell_type": "code",
      "metadata": {
        "colab": {
          "base_uri": "https://localhost:8080/"
        },
        "id": "HIAqMnk4-0mC",
        "outputId": "428fcb00-828d-4feb-8a8d-a528e1a57aba"
      },
      "source": [
        "print(topic[-1])"
      ],
      "execution_count": null,
      "outputs": [
        {
          "output_type": "stream",
          "name": "stdout",
          "text": [
            "a\n"
          ]
        }
      ]
    },
    {
      "cell_type": "code",
      "metadata": {
        "colab": {
          "base_uri": "https://localhost:8080/"
        },
        "id": "0fK1SXbT_IJ5",
        "outputId": "4648dc5d-6547-47f4-d3b0-dd343a13baf2"
      },
      "source": [
        "print(topic[:-1])"
      ],
      "execution_count": null,
      "outputs": [
        {
          "output_type": "stream",
          "name": "stdout",
          "text": [
            "123123313 imp dat\n"
          ]
        }
      ]
    },
    {
      "cell_type": "code",
      "metadata": {
        "colab": {
          "base_uri": "https://localhost:8080/"
        },
        "id": "EK2deDjC_LYf",
        "outputId": "2b4c9ef7-84a5-4180-c6d6-f20572174a7c"
      },
      "source": [
        "print(topic[9:13])"
      ],
      "execution_count": null,
      "outputs": [
        {
          "output_type": "stream",
          "name": "stdout",
          "text": [
            " imp\n"
          ]
        }
      ]
    },
    {
      "cell_type": "code",
      "metadata": {
        "id": "BUWTIs6W_b5h"
      },
      "source": [
        "topic = \"Long text with no meaning in it.\""
      ],
      "execution_count": null,
      "outputs": []
    },
    {
      "cell_type": "code",
      "metadata": {
        "colab": {
          "base_uri": "https://localhost:8080/"
        },
        "id": "pM2O_2zh_lDR",
        "outputId": "9fd293f3-d9d3-4f0b-d426-50cecbc75b31"
      },
      "source": [
        "print(topic.lower())"
      ],
      "execution_count": null,
      "outputs": [
        {
          "output_type": "stream",
          "name": "stdout",
          "text": [
            "long text with no meaning in it.\n"
          ]
        }
      ]
    },
    {
      "cell_type": "code",
      "metadata": {
        "colab": {
          "base_uri": "https://localhost:8080/"
        },
        "id": "G7HiW9AW_pfL",
        "outputId": "90f5e699-cc31-4c1c-8f31-66d94c569a11"
      },
      "source": [
        "print(topic.upper())"
      ],
      "execution_count": null,
      "outputs": [
        {
          "output_type": "stream",
          "name": "stdout",
          "text": [
            "LONG TEXT WITH NO MEANING IN IT.\n"
          ]
        }
      ]
    },
    {
      "cell_type": "code",
      "metadata": {
        "colab": {
          "base_uri": "https://localhost:8080/"
        },
        "id": "efBiDXSs_rFe",
        "outputId": "b8a32aee-04b3-44cd-e76a-85eefb3bfa17"
      },
      "source": [
        "print(topic.find(\"with\"))"
      ],
      "execution_count": null,
      "outputs": [
        {
          "output_type": "stream",
          "name": "stdout",
          "text": [
            "10\n"
          ]
        }
      ]
    },
    {
      "cell_type": "code",
      "metadata": {
        "colab": {
          "base_uri": "https://localhost:8080/"
        },
        "id": "_qmlIuhV_zWG",
        "outputId": "4c6ae095-8aed-41b6-c437-98c148ddd20e"
      },
      "source": [
        "print(topic.find(\"donthave\"))"
      ],
      "execution_count": null,
      "outputs": [
        {
          "output_type": "stream",
          "name": "stdout",
          "text": [
            "-1\n"
          ]
        }
      ]
    },
    {
      "cell_type": "code",
      "metadata": {
        "colab": {
          "base_uri": "https://localhost:8080/"
        },
        "id": "iYn--hab_4Y3",
        "outputId": "8a697016-5140-4aef-aa0a-d04402107e1b"
      },
      "source": [
        "print(topic.replace(\"it\", \"this\"))"
      ],
      "execution_count": null,
      "outputs": [
        {
          "output_type": "stream",
          "name": "stdout",
          "text": [
            "Long text wthish no meaning in this.\n"
          ]
        }
      ]
    },
    {
      "cell_type": "code",
      "metadata": {
        "id": "6lwm2KmtAFPf"
      },
      "source": [],
      "execution_count": null,
      "outputs": []
    }
  ]
}