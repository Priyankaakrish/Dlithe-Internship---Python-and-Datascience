{
  "nbformat": 4,
  "nbformat_minor": 0,
  "metadata": {
    "colab": {
      "provenance": [],
      "include_colab_link": true
    },
    "kernelspec": {
      "name": "python3",
      "display_name": "Python 3"
    },
    "language_info": {
      "name": "python"
    }
  },
  "cells": [
    {
      "cell_type": "markdown",
      "metadata": {
        "id": "view-in-github",
        "colab_type": "text"
      },
      "source": [
        "<a href=\"https://colab.research.google.com/github/priyanka-kris/Dlithe-Internship---Python-and-Datascience/blob/main/DAY%205/_Data_Science.ipynb\" target=\"_parent\"><img src=\"https://colab.research.google.com/assets/colab-badge.svg\" alt=\"Open In Colab\"/></a>"
      ]
    },
    {
      "cell_type": "markdown",
      "source": [
        "**Day 5**"
      ],
      "metadata": {
        "id": "9_nlObZAnNuK"
      }
    },
    {
      "cell_type": "code",
      "metadata": {
        "id": "GQwiZVRvafdi"
      },
      "source": [
        " # Tuple, Set, Dictionary"
      ],
      "execution_count": null,
      "outputs": []
    },
    {
      "cell_type": "markdown",
      "metadata": {
        "id": "nkBAhGihf4Tx"
      },
      "source": [
        "# Tuple"
      ]
    },
    {
      "cell_type": "code",
      "metadata": {
        "id": "AOm3_ux4awT6"
      },
      "source": [
        "bmi_categories = (\"Underweight\", \"Normal\", \"Overweight\", \"Very Overweight\")"
      ],
      "execution_count": null,
      "outputs": []
    },
    {
      "cell_type": "code",
      "metadata": {
        "colab": {
          "base_uri": "https://localhost:8080/"
        },
        "id": "6TnCmx1obc1b",
        "outputId": "f9ecc7d8-aeb2-46e4-881e-23f04c89ec82"
      },
      "source": [
        "print(type(bmi_categories))"
      ],
      "execution_count": null,
      "outputs": [
        {
          "output_type": "stream",
          "text": [
            "<class 'tuple'>\n"
          ],
          "name": "stdout"
        }
      ]
    },
    {
      "cell_type": "code",
      "metadata": {
        "colab": {
          "base_uri": "https://localhost:8080/"
        },
        "id": "Mbr15ys7boyG",
        "outputId": "1e23c396-4bd6-4656-f9ad-5c0686d22d14"
      },
      "source": [
        "print(bmi_categories[0])"
      ],
      "execution_count": null,
      "outputs": [
        {
          "output_type": "stream",
          "text": [
            "Underweight\n"
          ],
          "name": "stdout"
        }
      ]
    },
    {
      "cell_type": "code",
      "metadata": {
        "colab": {
          "base_uri": "https://localhost:8080/"
        },
        "id": "nqjjDDMqbubW",
        "outputId": "4b58fdde-9106-4160-d8d8-9ad0e7b0494e"
      },
      "source": [
        "print(bmi_categories[-1])"
      ],
      "execution_count": null,
      "outputs": [
        {
          "output_type": "stream",
          "text": [
            "Very Overweight\n"
          ],
          "name": "stdout"
        }
      ]
    },
    {
      "cell_type": "code",
      "metadata": {
        "colab": {
          "base_uri": "https://localhost:8080/"
        },
        "id": "ZbSjsvU7bxsb",
        "outputId": "6202344f-c480-461f-cf27-f76487bd71f7"
      },
      "source": [
        "print(bmi_categories[0:2])"
      ],
      "execution_count": null,
      "outputs": [
        {
          "output_type": "stream",
          "text": [
            "('Underweight', 'Normal')\n"
          ],
          "name": "stdout"
        }
      ]
    },
    {
      "cell_type": "code",
      "metadata": {
        "colab": {
          "base_uri": "https://localhost:8080/"
        },
        "id": "uCybZaevb67L",
        "outputId": "31fcf5d7-50f0-406e-87ba-a5d95021e96f"
      },
      "source": [
        "print(bmi_categories.index(\"Normal\"))"
      ],
      "execution_count": null,
      "outputs": [
        {
          "output_type": "stream",
          "text": [
            "1\n"
          ],
          "name": "stdout"
        }
      ]
    },
    {
      "cell_type": "code",
      "metadata": {
        "colab": {
          "base_uri": "https://localhost:8080/"
        },
        "id": "-1B7GxTacDtK",
        "outputId": "54dec799-2fab-4729-98e2-b47d6fb51d53"
      },
      "source": [
        "print(bmi_categories.index(\"Very Overweight\"))"
      ],
      "execution_count": null,
      "outputs": [
        {
          "output_type": "stream",
          "text": [
            "3\n"
          ],
          "name": "stdout"
        }
      ]
    },
    {
      "cell_type": "code",
      "metadata": {
        "colab": {
          "base_uri": "https://localhost:8080/",
          "height": 174
        },
        "id": "Dff68qh5cMmN",
        "outputId": "ed63db9a-decf-4eaa-aefa-5edd24d84b62"
      },
      "source": [
        "print(bmi_categories.index(\"Very Underweight\"))"
      ],
      "execution_count": null,
      "outputs": [
        {
          "output_type": "error",
          "ename": "ValueError",
          "evalue": "ignored",
          "traceback": [
            "\u001b[0;31m---------------------------------------------------------------------------\u001b[0m",
            "\u001b[0;31mValueError\u001b[0m                                Traceback (most recent call last)",
            "\u001b[0;32m<ipython-input-9-bff9db74eedf>\u001b[0m in \u001b[0;36m<module>\u001b[0;34m()\u001b[0m\n\u001b[0;32m----> 1\u001b[0;31m \u001b[0mprint\u001b[0m\u001b[0;34m(\u001b[0m\u001b[0mbmi_categories\u001b[0m\u001b[0;34m.\u001b[0m\u001b[0mindex\u001b[0m\u001b[0;34m(\u001b[0m\u001b[0;34m\"Very Underweight\"\u001b[0m\u001b[0;34m)\u001b[0m\u001b[0;34m)\u001b[0m\u001b[0;34m\u001b[0m\u001b[0;34m\u001b[0m\u001b[0m\n\u001b[0m",
            "\u001b[0;31mValueError\u001b[0m: tuple.index(x): x not in tuple"
          ]
        }
      ]
    },
    {
      "cell_type": "code",
      "metadata": {
        "colab": {
          "base_uri": "https://localhost:8080/"
        },
        "id": "d_ttVUBRcZdc",
        "outputId": "ef7edd8d-d2da-4e32-ca92-12e19f3e71e7"
      },
      "source": [
        "print(\"Very Underweight\" in bmi_categories)"
      ],
      "execution_count": null,
      "outputs": [
        {
          "output_type": "stream",
          "text": [
            "False\n"
          ],
          "name": "stdout"
        }
      ]
    },
    {
      "cell_type": "code",
      "metadata": {
        "colab": {
          "base_uri": "https://localhost:8080/"
        },
        "id": "4bgVuLtRcjQO",
        "outputId": "c09c9582-6367-42e4-89a7-6f2870cd2640"
      },
      "source": [
        "print(\"Very Overweight\" in bmi_categories)"
      ],
      "execution_count": null,
      "outputs": [
        {
          "output_type": "stream",
          "text": [
            "True\n"
          ],
          "name": "stdout"
        }
      ]
    },
    {
      "cell_type": "code",
      "metadata": {
        "colab": {
          "base_uri": "https://localhost:8080/",
          "height": 174
        },
        "id": "kjvuelsOcp8a",
        "outputId": "0c2c6542-321f-424a-9d5f-27db4687c6d1"
      },
      "source": [
        "bmi_categories[3] = \"Not so overweight\""
      ],
      "execution_count": null,
      "outputs": [
        {
          "output_type": "error",
          "ename": "TypeError",
          "evalue": "ignored",
          "traceback": [
            "\u001b[0;31m---------------------------------------------------------------------------\u001b[0m",
            "\u001b[0;31mTypeError\u001b[0m                                 Traceback (most recent call last)",
            "\u001b[0;32m<ipython-input-12-a517d4de0d05>\u001b[0m in \u001b[0;36m<module>\u001b[0;34m()\u001b[0m\n\u001b[0;32m----> 1\u001b[0;31m \u001b[0mbmi_categories\u001b[0m\u001b[0;34m[\u001b[0m\u001b[0;36m3\u001b[0m\u001b[0;34m]\u001b[0m \u001b[0;34m=\u001b[0m \u001b[0;34m\"Not so overweight\"\u001b[0m\u001b[0;34m\u001b[0m\u001b[0;34m\u001b[0m\u001b[0m\n\u001b[0m",
            "\u001b[0;31mTypeError\u001b[0m: 'tuple' object does not support item assignment"
          ]
        }
      ]
    },
    {
      "cell_type": "code",
      "metadata": {
        "colab": {
          "base_uri": "https://localhost:8080/"
        },
        "id": "dV31ESlFdHjK",
        "outputId": "0920f44a-2a05-4950-b0f5-c432f872d619"
      },
      "source": [
        "%%timeit -n1 -r10\n",
        "for i in range(1000000):\n",
        "  my_list = [\"hello1\", \"hello2\", \"hello3\", \"hello4\", \"hello5\"]"
      ],
      "execution_count": null,
      "outputs": [
        {
          "output_type": "stream",
          "text": [
            "1 loop, best of 10: 86.5 ms per loop\n"
          ],
          "name": "stdout"
        }
      ]
    },
    {
      "cell_type": "code",
      "metadata": {
        "id": "oNoDXSRIdvy4"
      },
      "source": [
        "%%timeit?"
      ],
      "execution_count": null,
      "outputs": []
    },
    {
      "cell_type": "code",
      "metadata": {
        "colab": {
          "base_uri": "https://localhost:8080/"
        },
        "id": "KjnM2HG5dxqO",
        "outputId": "6812aa45-b381-4189-fe3b-b7138634339f"
      },
      "source": [
        "%%timeit -n1 -r10\n",
        "for i in range(1000000):\n",
        "  my_tuple = (\"hello1\", \"hello2\", \"hello3\", \"hello4\", \"hello5\")"
      ],
      "execution_count": null,
      "outputs": [
        {
          "output_type": "stream",
          "text": [
            "1 loop, best of 10: 33.7 ms per loop\n"
          ],
          "name": "stdout"
        }
      ]
    },
    {
      "cell_type": "markdown",
      "metadata": {
        "id": "ETIZ53ovf6aY"
      },
      "source": [
        "# Set"
      ]
    },
    {
      "cell_type": "code",
      "metadata": {
        "id": "K1otDvaDeZLf"
      },
      "source": [
        "batsmen = {\"Rohit\", \"Virat\", \"Rahul\", \"Ravindra\"}"
      ],
      "execution_count": null,
      "outputs": []
    },
    {
      "cell_type": "code",
      "metadata": {
        "colab": {
          "base_uri": "https://localhost:8080/"
        },
        "id": "anAsC0HXgqBb",
        "outputId": "55528ec1-427c-440e-d8d0-1a15920b3467"
      },
      "source": [
        "print(type(batsmen))"
      ],
      "execution_count": null,
      "outputs": [
        {
          "output_type": "stream",
          "text": [
            "<class 'set'>\n"
          ],
          "name": "stdout"
        }
      ]
    },
    {
      "cell_type": "code",
      "metadata": {
        "colab": {
          "base_uri": "https://localhost:8080/"
        },
        "id": "lgOgG00cgshC",
        "outputId": "225b7655-14a9-40e8-c38a-3dfa4b91ae8c"
      },
      "source": [
        "print(\"Bumrah\" in batsmen)"
      ],
      "execution_count": null,
      "outputs": [
        {
          "output_type": "stream",
          "text": [
            "False\n"
          ],
          "name": "stdout"
        }
      ]
    },
    {
      "cell_type": "code",
      "metadata": {
        "colab": {
          "base_uri": "https://localhost:8080/"
        },
        "id": "D-3N1Loagwxj",
        "outputId": "79673d2b-2ee7-47ef-b353-f4ee91fed914"
      },
      "source": [
        "print(\"Virat\" in batsmen)"
      ],
      "execution_count": null,
      "outputs": [
        {
          "output_type": "stream",
          "text": [
            "True\n"
          ],
          "name": "stdout"
        }
      ]
    },
    {
      "cell_type": "code",
      "metadata": {
        "colab": {
          "base_uri": "https://localhost:8080/",
          "height": 174
        },
        "id": "NOeY7Zlsg3NH",
        "outputId": "2c59bda5-7135-4433-faf0-90b668c37f4b"
      },
      "source": [
        "print(batsmen.index(\"Rohit\"))"
      ],
      "execution_count": null,
      "outputs": [
        {
          "output_type": "error",
          "ename": "AttributeError",
          "evalue": "ignored",
          "traceback": [
            "\u001b[0;31m---------------------------------------------------------------------------\u001b[0m",
            "\u001b[0;31mAttributeError\u001b[0m                            Traceback (most recent call last)",
            "\u001b[0;32m<ipython-input-23-2031d29ef3f1>\u001b[0m in \u001b[0;36m<module>\u001b[0;34m()\u001b[0m\n\u001b[0;32m----> 1\u001b[0;31m \u001b[0mprint\u001b[0m\u001b[0;34m(\u001b[0m\u001b[0mbatsmen\u001b[0m\u001b[0;34m.\u001b[0m\u001b[0mindex\u001b[0m\u001b[0;34m(\u001b[0m\u001b[0;34m\"Rohit\"\u001b[0m\u001b[0;34m)\u001b[0m\u001b[0;34m)\u001b[0m\u001b[0;34m\u001b[0m\u001b[0;34m\u001b[0m\u001b[0m\n\u001b[0m",
            "\u001b[0;31mAttributeError\u001b[0m: 'set' object has no attribute 'index'"
          ]
        }
      ]
    },
    {
      "cell_type": "code",
      "metadata": {
        "id": "4245ET2YhD0Y"
      },
      "source": [
        "bowlers = {\"Ishant\", \"Bumrah\", \"Ravindra\"}"
      ],
      "execution_count": null,
      "outputs": []
    },
    {
      "cell_type": "code",
      "metadata": {
        "colab": {
          "base_uri": "https://localhost:8080/"
        },
        "id": "T2LoUtWBhSXT",
        "outputId": "65b0dc5d-2afb-4db5-e19c-e3adb34d0adc"
      },
      "source": [
        "print(type(bowlers))"
      ],
      "execution_count": null,
      "outputs": [
        {
          "output_type": "stream",
          "text": [
            "<class 'set'>\n"
          ],
          "name": "stdout"
        }
      ]
    },
    {
      "cell_type": "code",
      "metadata": {
        "id": "bkFqXhT_hU3f"
      },
      "source": [
        "allrounders = batsmen.intersection(bowlers)"
      ],
      "execution_count": null,
      "outputs": []
    },
    {
      "cell_type": "code",
      "metadata": {
        "colab": {
          "base_uri": "https://localhost:8080/"
        },
        "id": "WkTO8Y8mhkGV",
        "outputId": "4ea2ec3f-9a2b-46ae-edcf-a4cb38c97da8"
      },
      "source": [
        "print(allrounders)"
      ],
      "execution_count": null,
      "outputs": [
        {
          "output_type": "stream",
          "text": [
            "{'Ravindra'}\n"
          ],
          "name": "stdout"
        }
      ]
    },
    {
      "cell_type": "code",
      "metadata": {
        "id": "X6q75VYUhmst"
      },
      "source": [
        "players = batsmen.union(bowlers)"
      ],
      "execution_count": null,
      "outputs": []
    },
    {
      "cell_type": "code",
      "metadata": {
        "colab": {
          "base_uri": "https://localhost:8080/"
        },
        "id": "pQ0elZs7h3Pt",
        "outputId": "7b3a0caf-060e-4f93-ab13-e4fca174f1ac"
      },
      "source": [
        "print(players)"
      ],
      "execution_count": null,
      "outputs": [
        {
          "output_type": "stream",
          "text": [
            "{'Ravindra', 'Ishant', 'Bumrah', 'Rohit', 'Virat', 'Rahul'}\n"
          ],
          "name": "stdout"
        }
      ]
    },
    {
      "cell_type": "code",
      "metadata": {
        "colab": {
          "base_uri": "https://localhost:8080/"
        },
        "id": "mpjYCCNah5dp",
        "outputId": "4a930a83-2cb7-4693-ee12-6e649f14fbfd"
      },
      "source": [
        "print(type(players))"
      ],
      "execution_count": null,
      "outputs": [
        {
          "output_type": "stream",
          "text": [
            "<class 'set'>\n"
          ],
          "name": "stdout"
        }
      ]
    },
    {
      "cell_type": "code",
      "metadata": {
        "colab": {
          "base_uri": "https://localhost:8080/"
        },
        "id": "me4PBgFbh4ht",
        "outputId": "5a8fbe76-54c9-46c1-90da-cb933c2bd6ae"
      },
      "source": [
        "bowlers = {\"Ishant\", \"Bumrah\", \"Ravindra\", \"Bumrah\"}\n",
        "bowlers"
      ],
      "execution_count": null,
      "outputs": [
        {
          "output_type": "execute_result",
          "data": {
            "text/plain": [
              "{'Bumrah', 'Ishant', 'Ravindra'}"
            ]
          },
          "metadata": {
            "tags": []
          },
          "execution_count": 31
        }
      ]
    },
    {
      "cell_type": "markdown",
      "metadata": {
        "id": "fr7qZpksi56g"
      },
      "source": [
        "### Search Benchmarking"
      ]
    },
    {
      "cell_type": "code",
      "metadata": {
        "colab": {
          "base_uri": "https://localhost:8080/"
        },
        "id": "CoQtIJwSiQ_O",
        "outputId": "fe6d7b27-f932-499d-87ea-f7cf00b144ed"
      },
      "source": [
        "%%timeit -n1 -r10\n",
        "my_list = list(range(10000))\n",
        "for i in range(10000):\n",
        "  b = 1947 in my_list"
      ],
      "execution_count": null,
      "outputs": [
        {
          "output_type": "stream",
          "text": [
            "1 loop, best of 10: 293 ms per loop\n"
          ],
          "name": "stdout"
        }
      ]
    },
    {
      "cell_type": "code",
      "metadata": {
        "colab": {
          "base_uri": "https://localhost:8080/"
        },
        "id": "wmPcEgQai0zl",
        "outputId": "b3d26502-fe82-4b2d-df7d-174ee3d2bddd"
      },
      "source": [
        "%%timeit -n1 -r10\n",
        "my_tuple = tuple(range(10000))\n",
        "for i in range(10000):\n",
        "  b = 1947 in my_tuple"
      ],
      "execution_count": null,
      "outputs": [
        {
          "output_type": "stream",
          "text": [
            "1 loop, best of 10: 292 ms per loop\n"
          ],
          "name": "stdout"
        }
      ]
    },
    {
      "cell_type": "code",
      "metadata": {
        "colab": {
          "base_uri": "https://localhost:8080/"
        },
        "id": "f1fQyeNbjKdS",
        "outputId": "24eb1e8c-0ff3-4d82-fae8-8238e1aa96a2"
      },
      "source": [
        "%%timeit -n1 -r10\n",
        "my_set = set(range(10000))\n",
        "for i in range(10000):\n",
        "  b = 1947 in my_set"
      ],
      "execution_count": null,
      "outputs": [
        {
          "output_type": "stream",
          "text": [
            "The slowest run took 6.08 times longer than the fastest. This could mean that an intermediate result is being cached.\n",
            "1 loop, best of 10: 944 µs per loop\n"
          ],
          "name": "stdout"
        }
      ]
    },
    {
      "cell_type": "markdown",
      "metadata": {
        "id": "l6VeXYWZkaYs"
      },
      "source": [
        "# Dictionary"
      ]
    },
    {
      "cell_type": "code",
      "metadata": {
        "id": "UQ_J_Sr9jU0s"
      },
      "source": [
        "labels = (\"name\", \"weight\", \"height\", \"is_overweight\")\n",
        "bmi_dataset = [\n",
        "               [\"Krishna\", 75, 1.73, False],\n",
        "               [\"David\", 120, 1.78, True]\n",
        "]"
      ],
      "execution_count": null,
      "outputs": []
    },
    {
      "cell_type": "code",
      "metadata": {
        "id": "o4HG-GOQktPd"
      },
      "source": [
        "bmi_record = {\n",
        "    \"name\" : \"Krishna\",\n",
        "    \"weight\" : 75,\n",
        "    \"height\" : 1.73,\n",
        "    \"is_overweight\" : False\n",
        "}"
      ],
      "execution_count": null,
      "outputs": []
    },
    {
      "cell_type": "code",
      "metadata": {
        "colab": {
          "base_uri": "https://localhost:8080/",
          "height": 36
        },
        "id": "GlzFJacklRfA",
        "outputId": "f62afd4b-3fe7-4926-99d2-81d5f03c881f"
      },
      "source": [
        "bmi_record[\"name\"]"
      ],
      "execution_count": null,
      "outputs": [
        {
          "output_type": "execute_result",
          "data": {
            "application/vnd.google.colaboratory.intrinsic+json": {
              "type": "string"
            },
            "text/plain": [
              "'Krishna'"
            ]
          },
          "metadata": {
            "tags": []
          },
          "execution_count": 38
        }
      ]
    },
    {
      "cell_type": "code",
      "metadata": {
        "colab": {
          "base_uri": "https://localhost:8080/"
        },
        "id": "1t6J9RR_lVjg",
        "outputId": "2026d93d-f8c0-4e0e-ad79-53b34159f452"
      },
      "source": [
        "bmi_record[\"height\"]"
      ],
      "execution_count": null,
      "outputs": [
        {
          "output_type": "execute_result",
          "data": {
            "text/plain": [
              "1.73"
            ]
          },
          "metadata": {
            "tags": []
          },
          "execution_count": 39
        }
      ]
    },
    {
      "cell_type": "code",
      "metadata": {
        "id": "r7BoBSSYlYTv"
      },
      "source": [
        "bmi_record[\"email\"] = \"Krishna@mail.com\""
      ],
      "execution_count": null,
      "outputs": []
    },
    {
      "cell_type": "code",
      "metadata": {
        "colab": {
          "base_uri": "https://localhost:8080/"
        },
        "id": "13AUL7Y2ldR6",
        "outputId": "5ea9f12f-728c-4107-e890-46329f41406c"
      },
      "source": [
        "bmi_record"
      ],
      "execution_count": null,
      "outputs": [
        {
          "output_type": "execute_result",
          "data": {
            "text/plain": [
              "{'email': 'Krishna@mail.com',\n",
              " 'height': 1.73,\n",
              " 'is_overweight': False,\n",
              " 'name': 'Krishna',\n",
              " 'weight': 75}"
            ]
          },
          "metadata": {
            "tags": []
          },
          "execution_count": 41
        }
      ]
    },
    {
      "cell_type": "code",
      "metadata": {
        "colab": {
          "base_uri": "https://localhost:8080/"
        },
        "id": "AnuL8VZyleHP",
        "outputId": "224d2010-3882-4a57-8644-08ac316347d3"
      },
      "source": [
        "for key in bmi_record:\n",
        "  print(bmi_record[key])"
      ],
      "execution_count": null,
      "outputs": [
        {
          "output_type": "stream",
          "text": [
            "Krishna\n",
            "75\n",
            "1.73\n",
            "False\n",
            "Krishna@mail.com\n"
          ],
          "name": "stdout"
        }
      ]
    },
    {
      "cell_type": "code",
      "metadata": {
        "colab": {
          "base_uri": "https://localhost:8080/"
        },
        "id": "uaup1kZMlp1D",
        "outputId": "ece46f91-fa68-4f8f-99a9-c199a143a83b"
      },
      "source": [
        "for key in bmi_record:\n",
        "  print(key, \":\", bmi_record[key])"
      ],
      "execution_count": null,
      "outputs": [
        {
          "output_type": "stream",
          "text": [
            "name : Krishna\n",
            "weight : 75\n",
            "height : 1.73\n",
            "is_overweight : False\n",
            "email : Krishna@mail.com\n"
          ],
          "name": "stdout"
        }
      ]
    },
    {
      "cell_type": "code",
      "metadata": {
        "colab": {
          "base_uri": "https://localhost:8080/"
        },
        "id": "Vc-0Vji0lsYK",
        "outputId": "1e9e2b4a-3099-448f-a400-773db2961bf1"
      },
      "source": [
        "print(bmi_record.keys())"
      ],
      "execution_count": null,
      "outputs": [
        {
          "output_type": "stream",
          "text": [
            "dict_keys(['name', 'weight', 'height', 'is_overweight', 'email'])\n"
          ],
          "name": "stdout"
        }
      ]
    },
    {
      "cell_type": "code",
      "metadata": {
        "colab": {
          "base_uri": "https://localhost:8080/"
        },
        "id": "W849TUKglzrm",
        "outputId": "9ccdeacb-5c2f-44d1-9ffe-63c6e36d92fb"
      },
      "source": [
        "print(type(list(bmi_record.keys())))"
      ],
      "execution_count": null,
      "outputs": [
        {
          "output_type": "stream",
          "text": [
            "<class 'list'>\n"
          ],
          "name": "stdout"
        }
      ]
    },
    {
      "cell_type": "code",
      "metadata": {
        "id": "cgU62kNcl3kj"
      },
      "source": [
        "bmi_record = {\n",
        "    \"name\" : \"Krishna\",\n",
        "    \"weight\" : 75,\n",
        "    \"height\" : 1.73,\n",
        "    \"is_overweight\" : False\n",
        "}"
      ],
      "execution_count": null,
      "outputs": []
    },
    {
      "cell_type": "code",
      "metadata": {
        "colab": {
          "base_uri": "https://localhost:8080/"
        },
        "id": "AW8lQfnUmMPi",
        "outputId": "f646d2e2-039b-4c2e-8dfc-7f8b5bbc6bb4"
      },
      "source": [
        "new_bmi_record = {\n",
        "    \"name\" : \"David\",\n",
        "    \"weight\" : 120,\n",
        "    \"height\" : 1.78,\n",
        "    \"is_overweight\" : True\n",
        "}\n",
        "new_bmi_record"
      ],
      "execution_count": null,
      "outputs": [
        {
          "output_type": "execute_result",
          "data": {
            "text/plain": [
              "{'height': 1.78, 'is_overweight': True, 'name': 'David', 'weight': 120}"
            ]
          },
          "metadata": {
            "tags": []
          },
          "execution_count": 50
        }
      ]
    },
    {
      "cell_type": "code",
      "metadata": {
        "id": "gGU9F_z9mYgn"
      },
      "source": [
        "records = [bmi_record, new_bmi_record]"
      ],
      "execution_count": null,
      "outputs": []
    },
    {
      "cell_type": "code",
      "metadata": {
        "colab": {
          "base_uri": "https://localhost:8080/"
        },
        "id": "NvSEPahjmjll",
        "outputId": "b2d38fbc-0417-440f-861d-967b0cc093ad"
      },
      "source": [
        "records"
      ],
      "execution_count": null,
      "outputs": [
        {
          "output_type": "execute_result",
          "data": {
            "text/plain": [
              "[{'height': 1.73, 'is_overweight': False, 'name': 'Krishna', 'weight': 75},\n",
              " {'height': 1.78, 'is_overweight': True, 'name': 'David', 'weight': 120}]"
            ]
          },
          "metadata": {
            "tags": []
          },
          "execution_count": 52
        }
      ]
    },
    {
      "cell_type": "code",
      "metadata": {
        "colab": {
          "base_uri": "https://localhost:8080/"
        },
        "id": "4pDCOHIjmkQr",
        "outputId": "e50e1ac6-fcdd-4268-ac28-399123267fc4"
      },
      "source": [
        "type(records[0][\"height\"])"
      ],
      "execution_count": null,
      "outputs": [
        {
          "output_type": "execute_result",
          "data": {
            "text/plain": [
              "float"
            ]
          },
          "metadata": {
            "tags": []
          },
          "execution_count": 55
        }
      ]
    },
    {
      "cell_type": "code",
      "metadata": {
        "colab": {
          "base_uri": "https://localhost:8080/"
        },
        "id": "F-5I6gcVnPvB",
        "outputId": "b8dbe2a6-a8ab-42db-b8bb-e25e957fea56"
      },
      "source": [
        "records[0][\"height\"]"
      ],
      "execution_count": null,
      "outputs": [
        {
          "output_type": "execute_result",
          "data": {
            "text/plain": [
              "1.73"
            ]
          },
          "metadata": {
            "tags": []
          },
          "execution_count": 56
        }
      ]
    },
    {
      "cell_type": "code",
      "metadata": {
        "colab": {
          "base_uri": "https://localhost:8080/",
          "height": 36
        },
        "id": "ZWmcaeOLnVQF",
        "outputId": "80f782fc-3442-495f-a74f-96999e450d09"
      },
      "source": [
        "records[0][\"name\"]"
      ],
      "execution_count": null,
      "outputs": [
        {
          "output_type": "execute_result",
          "data": {
            "application/vnd.google.colaboratory.intrinsic+json": {
              "type": "string"
            },
            "text/plain": [
              "'Krishna'"
            ]
          },
          "metadata": {
            "tags": []
          },
          "execution_count": 57
        }
      ]
    },
    {
      "cell_type": "code",
      "metadata": {
        "id": "scERnZD5nX95"
      },
      "source": [],
      "execution_count": null,
      "outputs": []
    }
  ]
}