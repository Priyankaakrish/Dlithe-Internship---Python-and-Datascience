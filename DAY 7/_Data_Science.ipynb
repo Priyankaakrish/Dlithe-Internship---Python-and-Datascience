{
  "nbformat": 4,
  "nbformat_minor": 0,
  "metadata": {
    "colab": {
      "provenance": [],
      "include_colab_link": true
    },
    "kernelspec": {
      "name": "python3",
      "display_name": "Python 3"
    },
    "language_info": {
      "name": "python"
    }
  },
  "cells": [
    {
      "cell_type": "markdown",
      "metadata": {
        "id": "view-in-github",
        "colab_type": "text"
      },
      "source": [
        "<a href=\"https://colab.research.google.com/github/priyanka-kris/Dlithe-Internship---Python-and-Datascience/blob/main/DAY%207/_Data_Science.ipynb\" target=\"_parent\"><img src=\"https://colab.research.google.com/assets/colab-badge.svg\" alt=\"Open In Colab\"/></a>"
      ]
    },
    {
      "cell_type": "markdown",
      "source": [
        "**Day 7**"
      ],
      "metadata": {
        "id": "bsn9j3T-nyv4"
      }
    },
    {
      "cell_type": "code",
      "metadata": {
        "colab": {
          "base_uri": "https://localhost:8080/"
        },
        "id": "sPlvX9s7tlc5",
        "outputId": "785946c0-83d3-4353-ede1-324c8fe221ed"
      },
      "source": [
        "aList = []\n",
        "for i in range(10):\n",
        "  aList.append(i)\n",
        "print(aList)"
      ],
      "execution_count": null,
      "outputs": [
        {
          "output_type": "stream",
          "text": [
            "[0, 1, 2, 3, 4, 5, 6, 7, 8, 9]\n"
          ],
          "name": "stdout"
        }
      ]
    },
    {
      "cell_type": "code",
      "metadata": {
        "id": "kVdTxCmGt-u3",
        "colab": {
          "base_uri": "https://localhost:8080/"
        },
        "outputId": "9787d435-93d5-4dde-f588-0a56770a0afe"
      },
      "source": [
        "# single line for loop\n",
        "aList = [i for i in range(10)]\n",
        "print(aList)"
      ],
      "execution_count": null,
      "outputs": [
        {
          "output_type": "stream",
          "text": [
            "[0, 1, 2, 3, 4, 5, 6, 7, 8, 9]\n"
          ],
          "name": "stdout"
        }
      ]
    },
    {
      "cell_type": "code",
      "metadata": {
        "colab": {
          "base_uri": "https://localhost:8080/"
        },
        "id": "ev1KQ75LvZR8",
        "outputId": "ba6ead2a-ac09-48ee-c49b-2246d5dabdab"
      },
      "source": [
        "print([i for i in range(10)])"
      ],
      "execution_count": null,
      "outputs": [
        {
          "output_type": "stream",
          "text": [
            "[0, 1, 2, 3, 4, 5, 6, 7, 8, 9]\n"
          ],
          "name": "stdout"
        }
      ]
    },
    {
      "cell_type": "code",
      "metadata": {
        "colab": {
          "base_uri": "https://localhost:8080/"
        },
        "id": "-xg0bxJXv_X2",
        "outputId": "b4d38071-dd31-4e74-acb6-7f8a48991808"
      },
      "source": [
        "aList = []\n",
        "for i in range(10):\n",
        "  if i%2 == 0:\n",
        "    aList.append(i)\n",
        "print(aList)"
      ],
      "execution_count": null,
      "outputs": [
        {
          "output_type": "stream",
          "text": [
            "[0, 2, 4, 6, 8]\n"
          ],
          "name": "stdout"
        }
      ]
    },
    {
      "cell_type": "code",
      "metadata": {
        "colab": {
          "base_uri": "https://localhost:8080/"
        },
        "id": "DOJ-O2g3vc5r",
        "outputId": "ad1a9c02-975e-42d4-ca55-a5394e59d76d"
      },
      "source": [
        "print([i for i in range(10) if i%2 == 0])"
      ],
      "execution_count": null,
      "outputs": [
        {
          "output_type": "stream",
          "text": [
            "[0, 2, 4, 6, 8]\n"
          ],
          "name": "stdout"
        }
      ]
    },
    {
      "cell_type": "code",
      "metadata": {
        "colab": {
          "base_uri": "https://localhost:8080/"
        },
        "id": "-A3F9HCpwMnj",
        "outputId": "e743a97b-5b45-4709-eb63-4074da9bc997"
      },
      "source": [
        "print([i+2 for i in range(10)])"
      ],
      "execution_count": null,
      "outputs": [
        {
          "output_type": "stream",
          "text": [
            "[2, 3, 4, 5, 6, 7, 8, 9, 10, 11]\n"
          ],
          "name": "stdout"
        }
      ]
    },
    {
      "cell_type": "code",
      "metadata": {
        "colab": {
          "base_uri": "https://localhost:8080/",
          "height": 136
        },
        "id": "Gq3l8Cg8wy2u",
        "outputId": "83b32148-2274-4796-e329-f5e0cb3c6f3b"
      },
      "source": [
        "print([for i in range(10)])"
      ],
      "execution_count": null,
      "outputs": [
        {
          "output_type": "error",
          "ename": "SyntaxError",
          "evalue": "ignored",
          "traceback": [
            "\u001b[0;36m  File \u001b[0;32m\"<ipython-input-8-fba72834332c>\"\u001b[0;36m, line \u001b[0;32m1\u001b[0m\n\u001b[0;31m    print([for i in range(10)])\u001b[0m\n\u001b[0m             ^\u001b[0m\n\u001b[0;31mSyntaxError\u001b[0m\u001b[0;31m:\u001b[0m invalid syntax\n"
          ]
        }
      ]
    },
    {
      "cell_type": "code",
      "metadata": {
        "colab": {
          "base_uri": "https://localhost:8080/",
          "height": 136
        },
        "id": "xyImEKwXw-nu",
        "outputId": "cfad459d-5837-4c27-98f9-b85a710f6787"
      },
      "source": [
        "for i in range(10):"
      ],
      "execution_count": null,
      "outputs": [
        {
          "output_type": "error",
          "ename": "SyntaxError",
          "evalue": "ignored",
          "traceback": [
            "\u001b[0;36m  File \u001b[0;32m\"<ipython-input-10-e61162350cc4>\"\u001b[0;36m, line \u001b[0;32m1\u001b[0m\n\u001b[0;31m    for i in range(10):\u001b[0m\n\u001b[0m                       ^\u001b[0m\n\u001b[0;31mSyntaxError\u001b[0m\u001b[0;31m:\u001b[0m unexpected EOF while parsing\n"
          ]
        }
      ]
    },
    {
      "cell_type": "markdown",
      "metadata": {
        "id": "tZMXDRxsxUQr"
      },
      "source": [
        "# List Questions"
      ]
    },
    {
      "cell_type": "code",
      "metadata": {
        "colab": {
          "base_uri": "https://localhost:8080/"
        },
        "id": "3c-Ih2o0xC4M",
        "outputId": "c053c8d0-4101-49d8-b539-8c7428c75711"
      },
      "source": [
        "# question 1\n",
        "aList = [100, 200, 300, 400, 500]\n",
        "aList = aList[::-1]\n",
        "print(aList)"
      ],
      "execution_count": null,
      "outputs": [
        {
          "output_type": "stream",
          "text": [
            "[500, 400, 300, 200, 100]\n"
          ],
          "name": "stdout"
        }
      ]
    },
    {
      "cell_type": "code",
      "metadata": {
        "id": "HE4NFNBGxYTE"
      },
      "source": [
        "# question 2\n",
        "list1 = [\"M\", \"na\", \"I\", \"Ke\"]\n",
        "list2 = [\"y\", \"me\", \"s\", \"lly\"]\n",
        "list3 = [i+j for i, j in zip(list1, list2)]"
      ],
      "execution_count": null,
      "outputs": []
    },
    {
      "cell_type": "code",
      "metadata": {
        "id": "CJYXKWoDyvA8"
      },
      "source": [
        "zip?"
      ],
      "execution_count": null,
      "outputs": []
    },
    {
      "cell_type": "code",
      "metadata": {
        "colab": {
          "base_uri": "https://localhost:8080/"
        },
        "id": "3cLyU-5hyK_E",
        "outputId": "df99a61c-ad88-4848-e62e-aa26bbbff88e"
      },
      "source": [
        "# question 3\n",
        "aList = [1,2,3,4,5,6,7]\n",
        "new_list = [i*i for i in aList]\n",
        "print(new_list)"
      ],
      "execution_count": null,
      "outputs": [
        {
          "output_type": "stream",
          "text": [
            "[1, 4, 9, 16, 25, 36, 49]\n"
          ],
          "name": "stdout"
        }
      ]
    },
    {
      "cell_type": "code",
      "metadata": {
        "colab": {
          "base_uri": "https://localhost:8080/"
        },
        "id": "pWJsu9pRylM4",
        "outputId": "5fe94f07-79f1-45c3-e775-6ca71f0edd26"
      },
      "source": [
        "# question 4\n",
        "list1 = [\"Hello \", \"take \"]\n",
        "list2 = [\"Dear\", \"Sir\"]\n",
        "\n",
        "list4 = []\n",
        "for x in list1:\n",
        "  for y in list2:\n",
        "    list4.append(x+y)\n",
        "\n",
        "list3 = [x+y for x in list1 for y in list2]\n",
        "print(list3)"
      ],
      "execution_count": null,
      "outputs": [
        {
          "output_type": "stream",
          "text": [
            "['Hello Dear', 'Hello Sir', 'take Dear', 'take Sir']\n"
          ],
          "name": "stdout"
        }
      ]
    },
    {
      "cell_type": "code",
      "metadata": {
        "colab": {
          "base_uri": "https://localhost:8080/"
        },
        "id": "sVOH9agIynhR",
        "outputId": "92646255-b0b5-4165-e536-3f349ba0f012"
      },
      "source": [
        "# question 5\n",
        "list1 = [\"Mike\", \"\", \"Emma\", \"Kelly\"\n",
        ", \"\", \"Brad\"]\n",
        "result_list = list(filter(None, list1))\n",
        "print(result_list)"
      ],
      "execution_count": null,
      "outputs": [
        {
          "output_type": "stream",
          "text": [
            "['Mike', 'Emma', 'Kelly', 'Brad']\n"
          ],
          "name": "stdout"
        }
      ]
    },
    {
      "cell_type": "code",
      "metadata": {
        "id": "h0HOYS242BFM"
      },
      "source": [
        "filter?"
      ],
      "execution_count": null,
      "outputs": []
    },
    {
      "cell_type": "markdown",
      "metadata": {
        "id": "ipK8PoC932Jz"
      },
      "source": [
        "# Dictionary Questions"
      ]
    },
    {
      "cell_type": "code",
      "metadata": {
        "id": "wAEINyyT2CDM"
      },
      "source": [
        "# Question 1\n",
        "keys = ['Ten', 'Twenty', 'Thirty']\n",
        "values = [10, 20, 30]"
      ],
      "execution_count": null,
      "outputs": []
    },
    {
      "cell_type": "code",
      "metadata": {
        "colab": {
          "base_uri": "https://localhost:8080/"
        },
        "id": "x980jZIW2NLX",
        "outputId": "eb694692-cf5e-4527-d941-c8eccdc9755e"
      },
      "source": [
        "my_dict = dict(zip(keys, values))\n",
        "print(my_dict)"
      ],
      "execution_count": null,
      "outputs": [
        {
          "output_type": "stream",
          "text": [
            "{'Ten': 10, 'Twenty': 20, 'Thirty': 30}\n"
          ],
          "name": "stdout"
        }
      ]
    },
    {
      "cell_type": "code",
      "metadata": {
        "id": "gR7OrD3K5OEr"
      },
      "source": [
        "dict1 = {'Ten': 10, 'Twenty': 20, 'Thirty': 30}\n",
        "dict2 = {'Thirty': 30, 'Fourty': 40, 'Fifty': 50}"
      ],
      "execution_count": null,
      "outputs": []
    },
    {
      "cell_type": "code",
      "metadata": {
        "colab": {
          "base_uri": "https://localhost:8080/"
        },
        "id": "_8uAG8Aw6DGJ",
        "outputId": "a3219d90-dde9-4e62-d5b8-25e7250dc414"
      },
      "source": [
        "dict3 = {**dict1, **dict2}\n",
        "print(dict3)"
      ],
      "execution_count": null,
      "outputs": [
        {
          "output_type": "stream",
          "text": [
            "{'Ten': 10, 'Twenty': 20, 'Thirty': 30, 'Fourty': 40, 'Fifty': 50}\n"
          ],
          "name": "stdout"
        }
      ]
    },
    {
      "cell_type": "code",
      "metadata": {
        "id": "97dIPvQb6G1U"
      },
      "source": [
        "# question 3\n",
        "sampleDict={\n",
        "    \"class\" :{\n",
        "        \"student\" :{\n",
        "            \"name\" : \"Mike\",\n",
        "            \"marks\" : {\n",
        "                \"physics\":70,\n",
        "                \"history\":80\n",
        "            }\n",
        "        }\n",
        "    }\n",
        "}"
      ],
      "execution_count": null,
      "outputs": []
    },
    {
      "cell_type": "code",
      "metadata": {
        "colab": {
          "base_uri": "https://localhost:8080/"
        },
        "id": "momix5Ds3aMX",
        "outputId": "f8d0d571-f67a-4311-f7e8-85e247d76d79"
      },
      "source": [
        "print(sampleDict['class']['student']['marks']['history'])\n"
      ],
      "execution_count": null,
      "outputs": [
        {
          "output_type": "stream",
          "text": [
            "80\n"
          ],
          "name": "stdout"
        }
      ]
    },
    {
      "cell_type": "code",
      "metadata": {
        "id": "12JPj4AD3b0Z"
      },
      "source": [
        "# question 4\n",
        "sampleDict = {\n",
        "    \"name\" : \"Kelly\",\n",
        "    \"age\":25,\n",
        "    \"salary\":8000,\n",
        "    \"city\" : \"New York\"\n",
        "}"
      ],
      "execution_count": null,
      "outputs": []
    },
    {
      "cell_type": "code",
      "metadata": {
        "colab": {
          "base_uri": "https://localhost:8080/"
        },
        "id": "HyXD8s3e3yAR",
        "outputId": "2eb8c6fc-196d-4e98-ba94-b4a0712cb35c"
      },
      "source": [
        "keys = [\"name\", \"salary\"]\n",
        "newDict = {i:sampleDict[i] for i in keys}\n",
        "print(newDict)"
      ],
      "execution_count": null,
      "outputs": [
        {
          "output_type": "stream",
          "text": [
            "{'name': 'Kelly', 'salary': 8000}\n"
          ],
          "name": "stdout"
        }
      ]
    },
    {
      "cell_type": "code",
      "metadata": {
        "colab": {
          "base_uri": "https://localhost:8080/"
        },
        "id": "Mrci_-C44MKt",
        "outputId": "b36a3344-6b0f-4b67-806e-4d0e905c2a69"
      },
      "source": [
        "sampleDict.keys()"
      ],
      "execution_count": null,
      "outputs": [
        {
          "output_type": "execute_result",
          "data": {
            "text/plain": [
              "dict_keys(['name', 'age', 'salary', 'city'])"
            ]
          },
          "metadata": {
            "tags": []
          },
          "execution_count": 7
        }
      ]
    },
    {
      "cell_type": "code",
      "metadata": {
        "id": "S7Xr_rsB4NZ6"
      },
      "source": [
        "# question 5\n",
        "sampleDict = {'a' : 100, 'b' : 200, 'c' : 300}"
      ],
      "execution_count": null,
      "outputs": []
    },
    {
      "cell_type": "code",
      "metadata": {
        "colab": {
          "base_uri": "https://localhost:8080/"
        },
        "id": "88ANUggl4yUN",
        "outputId": "24e32c97-8d70-46fe-cdcb-8f5372a53838"
      },
      "source": [
        "print(200 in sampleDict.values())"
      ],
      "execution_count": null,
      "outputs": [
        {
          "output_type": "stream",
          "text": [
            "True\n"
          ],
          "name": "stdout"
        }
      ]
    },
    {
      "cell_type": "code",
      "metadata": {
        "id": "P2_3Cp5H4z-6"
      },
      "source": [
        "# question 6\n",
        "sampleDict = {\n",
        "    \"name\" : \"kelly\",\n",
        "    \"age\" : 25,\n",
        "    \"salary\" : 8000,\n",
        "    \"city\" : \"New York\"\n",
        "}"
      ],
      "execution_count": null,
      "outputs": []
    },
    {
      "cell_type": "code",
      "metadata": {
        "id": "u8PD47FQ5BNa"
      },
      "source": [
        "sampleDict['location'] = sampleDict.pop('city')"
      ],
      "execution_count": null,
      "outputs": []
    },
    {
      "cell_type": "code",
      "metadata": {
        "colab": {
          "base_uri": "https://localhost:8080/"
        },
        "id": "0fpniobz5WVl",
        "outputId": "ee4b6468-24b6-46fd-82a0-fc8e24925c56"
      },
      "source": [
        "sampleDict"
      ],
      "execution_count": null,
      "outputs": [
        {
          "output_type": "execute_result",
          "data": {
            "text/plain": [
              "{'age': 25, 'location': 'New York', 'name': 'kelly', 'salary': 8000}"
            ]
          },
          "metadata": {
            "tags": []
          },
          "execution_count": 14
        }
      ]
    },
    {
      "cell_type": "code",
      "metadata": {
        "id": "QD22hYn95XLW"
      },
      "source": [
        "# question 7\n",
        "sampleDict = {\n",
        "  \t'Physics': 82,\n",
        "  \t'Math': 65,\n",
        " \t'history': 75\n",
        "}"
      ],
      "execution_count": null,
      "outputs": []
    },
    {
      "cell_type": "code",
      "metadata": {
        "colab": {
          "base_uri": "https://localhost:8080/"
        },
        "id": "eC3S3GnV5cRl",
        "outputId": "4395976f-2b59-495c-b7ab-f06e4d10e853"
      },
      "source": [
        "print(min(sampleDict, key=sampleDict.get))"
      ],
      "execution_count": null,
      "outputs": [
        {
          "output_type": "stream",
          "text": [
            "Math\n"
          ],
          "name": "stdout"
        }
      ]
    },
    {
      "cell_type": "code",
      "metadata": {
        "id": "ix4IXd__5yeZ"
      },
      "source": [],
      "execution_count": null,
      "outputs": []
    }
  ]
}